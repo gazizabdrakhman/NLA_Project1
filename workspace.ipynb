{
 "cells": [
  {
   "cell_type": "code",
   "execution_count": 1,
   "id": "2a7f0284",
   "metadata": {},
   "outputs": [],
   "source": [
    "import numpy as np\n",
    "import time\n",
    "from BlockSVD import *"
   ]
  },
  {
   "cell_type": "code",
   "execution_count": 32,
   "id": "8d8c6e9f",
   "metadata": {},
   "outputs": [
    {
     "name": "stdout",
     "output_type": "stream",
     "text": [
      "matrix has memory of  1907.3486328125 megabytes\n",
      "rank of matrix approximation is:  8\n",
      "execution time: 130.198477268219 seconds\n",
      "relative error is:  6.464948612601192e-08\n",
      "np.allclose is:  True\n",
      "execution time: 0.06563591957092285 seconds\n"
     ]
    },
    {
     "data": {
      "text/plain": [
       "(array([[0., 0., 0., ..., 0., 0., 0.],\n",
       "        [0., 0., 0., ..., 0., 0., 0.],\n",
       "        [0., 0., 0., ..., 0., 0., 0.],\n",
       "        ...,\n",
       "        [0., 0., 0., ..., 0., 0., 0.],\n",
       "        [0., 0., 0., ..., 0., 0., 0.],\n",
       "        [0., 0., 0., ..., 0., 0., 0.]]),\n",
       " array([1.05750034e-311, 1.05703884e-311, 0.00000000e+000, ...,\n",
       "        0.00000000e+000, 0.00000000e+000, 0.00000000e+000]),\n",
       " array([[0., 0., 0., ..., 0., 0., 0.],\n",
       "        [0., 0., 0., ..., 0., 0., 0.],\n",
       "        [0., 0., 0., ..., 0., 0., 0.],\n",
       "        ...,\n",
       "        [0., 0., 0., ..., 0., 0., 0.],\n",
       "        [0., 0., 0., ..., 0., 0., 0.],\n",
       "        [0., 0., 0., ..., 0., 0., 0.]]))"
      ]
     },
     "execution_count": 32,
     "metadata": {},
     "output_type": "execute_result"
    }
   ],
   "source": [
    "A = construct_matrix(m=50000, n=5000, singular_values=\\\n",
    "[1, 0.8, 0.7, 0.5, 0.1, 0.05, 0.01, 0.001, 0.0000001, 0.0000000001])\n",
    "U_aprx, S_aprx, V_aprx = blockSVD(A, 200, 200, gamma=0.0001)\n",
    "quality(A, U_aprx, S_aprx, V_aprx)\n",
    "timeit(np.linalg.svd)(A)"
   ]
  },
  {
   "cell_type": "code",
   "execution_count": 48,
   "id": "fb516166",
   "metadata": {},
   "outputs": [
    {
     "name": "stdout",
     "output_type": "stream",
     "text": [
      "matrix has memory of  190.73486328125 megabytes\n",
      "execution time: 33.962015867233276 seconds\n"
     ]
    },
    {
     "data": {
      "text/plain": [
       "(array([[-9.24090431e-03, -2.50988986e-02, -6.43965563e-03, ...,\n",
       "          1.36885816e-02,  3.23927058e-01,  3.93236063e-01],\n",
       "        [-5.07874411e-04, -3.55151063e-02, -1.66312645e-02, ...,\n",
       "          5.05546483e-02, -1.38431660e-01, -1.68188031e-01],\n",
       "        [-1.50960438e-02,  1.15823112e-02,  1.57942524e-03, ...,\n",
       "         -5.52658393e-01, -3.06027596e-01,  1.34584733e-02],\n",
       "        ...,\n",
       "        [-7.19626422e-03, -2.91187072e-02,  4.34466894e-03, ...,\n",
       "          6.02471640e-03,  8.65784741e-03, -2.27941668e-03],\n",
       "        [-5.27311112e-03,  1.88305360e-03, -1.89058058e-02, ...,\n",
       "         -3.45634983e-03, -7.01261022e-04,  5.42884622e-03],\n",
       "        [-1.31514741e-02, -2.43342704e-04, -6.22694619e-03, ...,\n",
       "         -4.98852703e-03,  4.12666065e-03, -6.40577404e-03]]),\n",
       " array([1.00000000e+00, 8.00000000e-01, 7.00000000e-01, ...,\n",
       "        5.25030347e-17, 5.14993022e-17, 1.41370598e-17]),\n",
       " array([[-2.07234945e-02, -2.39688366e-02, -8.71496272e-03, ...,\n",
       "         -2.20021443e-03, -2.22715356e-02, -1.91750317e-02],\n",
       "        [-4.94313180e-03, -1.08123396e-02,  1.70392856e-02, ...,\n",
       "          9.36878433e-04,  6.45126183e-03, -1.67302346e-02],\n",
       "        [-1.58632836e-02,  2.70357404e-03,  3.30509882e-03, ...,\n",
       "          2.83738723e-02, -1.82555395e-02,  2.20916397e-02],\n",
       "        ...,\n",
       "        [ 0.00000000e+00, -4.76707576e-01, -2.95501790e-01, ...,\n",
       "         -1.14697724e-02,  2.60233893e-03,  1.40055728e-02],\n",
       "        [ 0.00000000e+00, -3.49733903e-01, -2.48001810e-01, ...,\n",
       "          1.30429980e-02,  2.13089506e-03,  7.22429607e-03],\n",
       "        [-9.99341446e-01,  1.00650642e-03,  5.96781683e-04, ...,\n",
       "         -3.66334908e-04,  3.53271497e-04,  2.98906773e-06]]))"
      ]
     },
     "execution_count": 48,
     "metadata": {},
     "output_type": "execute_result"
    }
   ],
   "source": [
    "A = construct_matrix(m=5000, n=5000, singular_values=\\\n",
    "[1, 0.8, 0.7, 0.5, 0.1, 0.05, 0.01, 0.001, 0.0000001, 0.0000000001])\n",
    "timeit(np.linalg.svd)(A)"
   ]
  },
  {
   "cell_type": "code",
   "execution_count": 49,
   "id": "3eb0cc0c",
   "metadata": {},
   "outputs": [
    {
     "name": "stdout",
     "output_type": "stream",
     "text": [
      "matrix has memory of  381.4697265625 megabytes\n",
      "execution time: 66.22969841957092 seconds\n"
     ]
    },
    {
     "data": {
      "text/plain": [
       "(array([[-6.50597557e-03,  1.75499880e-02,  4.60454356e-03, ...,\n",
       "          8.11940289e-04,  1.50213986e-03,  4.59910655e-05],\n",
       "        [-3.57564411e-04,  2.48774290e-02,  1.17859844e-02, ...,\n",
       "          1.26517849e-03, -1.69102776e-04, -1.77010442e-03],\n",
       "        [-1.06282339e-02, -8.16664270e-03, -1.05266805e-03, ...,\n",
       "          7.64423467e-04,  1.77741461e-03,  2.34194216e-03],\n",
       "        ...,\n",
       "        [-1.56250279e-03,  6.76217251e-04,  2.00169485e-02, ...,\n",
       "          4.95281576e-01,  4.47028548e-03, -3.77965392e-03],\n",
       "        [-1.58163386e-02,  4.68113296e-03, -1.29832045e-02, ...,\n",
       "          2.91871843e-03,  3.94723760e-01,  7.39252807e-03],\n",
       "        [-1.36173275e-02, -1.18722057e-02,  1.55086879e-02, ...,\n",
       "         -7.95798023e-04,  2.90996579e-03,  3.85949888e-01]]),\n",
       " array([1.00000000e+00, 8.00000000e-01, 7.00000000e-01, ...,\n",
       "        9.74685144e-17, 7.07838539e-17, 3.52096463e-18]),\n",
       " array([[-1.40819131e-02, -2.58378953e-04, -1.88065894e-02, ...,\n",
       "         -6.58229733e-03, -2.91633142e-03, -1.68241470e-02],\n",
       "        [ 3.59264823e-03,  3.21957476e-02, -1.15474172e-02, ...,\n",
       "          1.45013932e-02,  9.06138353e-03, -1.27045831e-02],\n",
       "        [ 5.07722138e-03,  5.50689938e-03, -6.96264992e-03, ...,\n",
       "         -2.18633835e-02, -8.79279514e-03, -2.32096473e-02],\n",
       "        ...,\n",
       "        [ 0.00000000e+00, -3.33965744e-02, -5.06998065e-03, ...,\n",
       "          2.08242238e-03,  1.47223491e-02, -8.62982950e-03],\n",
       "        [ 0.00000000e+00,  2.17254001e-02, -6.47090608e-02, ...,\n",
       "         -9.81463131e-03, -3.84320203e-03, -8.68353984e-04],\n",
       "        [ 9.99185585e-01, -7.84709898e-04, -1.62907355e-03, ...,\n",
       "          3.89236791e-04, -7.08785590e-04,  7.77907599e-04]]))"
      ]
     },
     "execution_count": 49,
     "metadata": {},
     "output_type": "execute_result"
    }
   ],
   "source": [
    "A = construct_matrix(m=10000, n=5000, singular_values=\\\n",
    "[1, 0.8, 0.7, 0.5, 0.1, 0.05, 0.01, 0.001, 0.0000001, 0.0000000001])\n",
    "timeit(np.linalg.svd)(A)"
   ]
  },
  {
   "cell_type": "markdown",
   "id": "d5080475",
   "metadata": {},
   "source": [
    "Experiment start"
   ]
  },
  {
   "cell_type": "code",
   "execution_count": 53,
   "id": "9b898451",
   "metadata": {},
   "outputs": [
    {
     "name": "stdout",
     "output_type": "stream",
     "text": [
      "matrix has memory of  762.939453125 megabytes\n",
      "execution time: 137.2986855506897 seconds\n"
     ]
    },
    {
     "data": {
      "text/plain": [
       "(array([[ 4.57287587e-03, -1.24340190e-02, -3.32253237e-03, ...,\n",
       "          1.12906075e-03,  2.59525508e-04, -2.55907254e-04],\n",
       "        [ 2.51322442e-04, -1.76624895e-02, -8.37667098e-03, ...,\n",
       "         -1.80442246e-03,  9.41883414e-04, -1.13950901e-03],\n",
       "        [ 7.47030077e-03,  5.84305606e-03,  6.87277486e-04, ...,\n",
       "         -1.09454715e-04,  2.84228510e-04, -3.84961402e-04],\n",
       "        ...,\n",
       "        [ 9.91434815e-04, -8.62170340e-03, -1.32464664e-02, ...,\n",
       "          7.06233610e-01, -3.71717051e-03, -2.00543674e-03],\n",
       "        [ 7.63907598e-03, -9.88608109e-03, -3.54413868e-03, ...,\n",
       "         -4.86857665e-03,  7.34837373e-01, -1.28762751e-05],\n",
       "        [ 1.09926995e-02, -3.13910124e-03,  1.02217770e-02, ...,\n",
       "         -3.44055582e-03,  3.10274598e-03,  6.41372047e-01]]),\n",
       " array([1.00000000e+00, 8.00000000e-01, 7.00000000e-01, ...,\n",
       "        4.94825388e-17, 4.81965305e-17, 3.54916128e-18]),\n",
       " array([[ 6.91378704e-03,  3.51115028e-03,  1.82455811e-02, ...,\n",
       "          1.44202919e-02,  1.48766215e-02,  1.32064967e-02],\n",
       "        [ 9.15443010e-03, -1.64257611e-03, -5.34826828e-03, ...,\n",
       "          2.55344548e-03, -4.13724129e-03,  2.18834902e-02],\n",
       "        [-8.94665722e-03,  4.01297469e-03,  1.94134321e-02, ...,\n",
       "          1.86384043e-02,  2.13576107e-02, -2.34036618e-02],\n",
       "        ...,\n",
       "        [ 0.00000000e+00, -2.41429012e-03,  2.48428776e-02, ...,\n",
       "         -9.64065633e-03, -1.96037910e-04,  2.98675389e-03],\n",
       "        [ 0.00000000e+00, -4.59127180e-03,  2.36673319e-02, ...,\n",
       "          6.76182863e-03,  1.63853375e-02, -1.06452830e-02],\n",
       "        [ 9.95866778e-01, -1.63884595e-03,  1.05167808e-03, ...,\n",
       "         -1.33210380e-03,  1.38706000e-03,  7.88521241e-04]]))"
      ]
     },
     "execution_count": 53,
     "metadata": {},
     "output_type": "execute_result"
    }
   ],
   "source": [
    "A = construct_matrix(m=20000, n=5000, singular_values=\\\n",
    "[1, 0.8, 0.7, 0.5, 0.1, 0.05, 0.01, 0.001, 0.0000001, 0.0000000001])\n",
    "timeit(np.linalg.svd)(A)"
   ]
  },
  {
   "cell_type": "code",
   "execution_count": 54,
   "id": "f25cf90d",
   "metadata": {},
   "outputs": [
    {
     "name": "stdout",
     "output_type": "stream",
     "text": [
      "matrix has memory of  762.939453125 megabytes\n",
      "rank of matrix approximation is:  8\n",
      "execution time: 49.631569385528564 seconds\n",
      "relative error is:  6.464948612601911e-08\n",
      "np.allclose is:  True\n"
     ]
    }
   ],
   "source": [
    "A = construct_matrix(m=20000, n=5000, singular_values=\\\n",
    "[1, 0.8, 0.7, 0.5, 0.1, 0.05, 0.01, 0.001, 0.0000001, 0.0000000001])\n",
    "U_aprx, S_aprx, V_aprx = blockSVD(A, 200, 200, gamma=0.0001)\n",
    "quality(A, U_aprx, S_aprx, V_aprx) "
   ]
  },
  {
   "cell_type": "markdown",
   "id": "6683635f",
   "metadata": {},
   "source": [
    "Experiment end"
   ]
  },
  {
   "cell_type": "code",
   "execution_count": 4,
   "id": "7ba1f6a8",
   "metadata": {},
   "outputs": [
    {
     "name": "stdout",
     "output_type": "stream",
     "text": [
      "matrix has memory of  762.939453125 megabytes\n",
      "rank of matrix approximation is:  8\n",
      "execution time: 49.82099914550781 seconds\n",
      "relative error is:  6.464948612604958e-08\n",
      "np.allclose is:  True\n"
     ]
    }
   ],
   "source": [
    "A = construct_matrix(m=10000, n=10000, singular_values=\\\n",
    "[1, 0.8, 0.7, 0.5, 0.1, 0.05, 0.01, 0.001, 0.0000001, 0.0000000001])\n",
    "U_aprx, S_aprx, V_aprx = blockSVD(A, 1000, 1000, gamma=0.0001)\n",
    "quality(A, U_aprx, S_aprx, V_aprx) \n"
   ]
  },
  {
   "cell_type": "code",
   "execution_count": 12,
   "id": "fe841cef",
   "metadata": {},
   "outputs": [
    {
     "name": "stdout",
     "output_type": "stream",
     "text": [
      "matrix has memory of  762.939453125 megabytes\n",
      "rank of matrix approximation is:  50\n",
      "execution time: 75.3153235912323 seconds\n",
      "relative error is:  2.70859472652553e-15\n",
      "np.allclose is:  True\n"
     ]
    }
   ],
   "source": [
    "A = construct_matrix(m=10000, n=10000, singular_values=\\\n",
    "np.sort(np.random.rand(50))[::-1])\n",
    "U_aprx, S_aprx, V_aprx = blockSVD(A, 1000, 1000, gamma=0.0001)\n",
    "quality(A, U_aprx, S_aprx, V_aprx) "
   ]
  },
  {
   "cell_type": "code",
   "execution_count": 13,
   "id": "a5715bd9",
   "metadata": {},
   "outputs": [
    {
     "name": "stdout",
     "output_type": "stream",
     "text": [
      "matrix has memory of  762.939453125 megabytes\n",
      "rank of matrix approximation is:  46\n",
      "execution time: 71.00275611877441 seconds\n",
      "relative error is:  0.029184005594171746\n",
      "np.allclose is:  False\n"
     ]
    }
   ],
   "source": [
    "A = construct_matrix(m=10000, n=10000, singular_values=\\\n",
    "np.sort(np.random.rand(50))[::-1])\n",
    "U_aprx, S_aprx, V_aprx = blockSVD(A, 1000, 1000, gamma=0.1)\n",
    "quality(A, U_aprx, S_aprx, V_aprx) "
   ]
  },
  {
   "cell_type": "code",
   "execution_count": 15,
   "id": "63fb363b",
   "metadata": {},
   "outputs": [
    {
     "name": "stdout",
     "output_type": "stream",
     "text": [
      "matrix has memory of  762.939453125 megabytes\n",
      "rank of matrix approximation is:  21\n",
      "execution time: 65.29420185089111 seconds\n",
      "relative error is:  0.46530928759673046\n",
      "np.allclose is:  False\n"
     ]
    }
   ],
   "source": [
    "A = construct_matrix(m=10000, n=10000, singular_values=\\\n",
    "np.sort(np.random.rand(50))[::-1])\n",
    "U_aprx, S_aprx, V_aprx = blockSVD(A, 1000, 1000, gamma=0.5)\n",
    "quality(A, U_aprx, S_aprx, V_aprx) "
   ]
  },
  {
   "cell_type": "code",
   "execution_count": 14,
   "id": "93560707",
   "metadata": {},
   "outputs": [
    {
     "name": "stdout",
     "output_type": "stream",
     "text": [
      "execution time: 231.5099368095398 seconds\n"
     ]
    },
    {
     "data": {
      "text/plain": [
       "(array([[-0.00645551, -0.01752166,  0.00444191, ...,  0.04414777,\n",
       "         -0.03483861,  0.01572275],\n",
       "        [-0.0167116 , -0.00124084,  0.00545271, ..., -0.00140898,\n",
       "          0.02765656,  0.0063791 ],\n",
       "        [-0.00054171, -0.01603576,  0.00054633, ..., -0.03157257,\n",
       "         -0.00855204,  0.01565269],\n",
       "        ...,\n",
       "        [-0.00562592, -0.0007968 ,  0.01764564, ..., -0.00398922,\n",
       "         -0.00319246,  0.00707451],\n",
       "        [-0.00816887, -0.01350602, -0.01610023, ...,  0.00484463,\n",
       "         -0.00072118, -0.01800656],\n",
       "        [-0.01563713,  0.00758123,  0.01065396, ..., -0.00256852,\n",
       "          0.00769256, -0.00239902]]),\n",
       " array([9.84533274e-01, 8.96570411e-01, 8.93943542e-01, ...,\n",
       "        1.69151984e-17, 1.49698212e-17, 5.79307360e-18]),\n",
       " array([[-5.19052662e-03, -1.60355643e-02, -1.02935599e-02, ...,\n",
       "         -1.34664824e-02, -5.03943241e-03, -1.55933196e-02],\n",
       "        [ 7.51084571e-03, -8.28092562e-03,  6.34353432e-03, ...,\n",
       "         -1.26847763e-02,  1.31221422e-02,  1.50143180e-03],\n",
       "        [-8.69819706e-03,  1.05866339e-02,  2.24436032e-03, ...,\n",
       "          6.34465522e-03, -1.65552819e-02, -6.80016105e-05],\n",
       "        ...,\n",
       "        [ 0.00000000e+00,  7.71602971e-02, -1.62666923e-02, ...,\n",
       "          3.85521133e-03,  1.44437476e-02,  3.26214002e-03],\n",
       "        [ 0.00000000e+00, -3.65316229e-02, -1.71990379e-02, ...,\n",
       "          5.59312688e-04, -7.30633533e-04, -5.14546153e-03],\n",
       "        [ 0.00000000e+00,  5.67245880e-03, -2.12888130e-02, ...,\n",
       "         -9.41529105e-03,  2.36478041e-03, -1.31044954e-02]]))"
      ]
     },
     "execution_count": 14,
     "metadata": {},
     "output_type": "execute_result"
    }
   ],
   "source": [
    "timeit(np.linalg.svd)(A)"
   ]
  },
  {
   "cell_type": "code",
   "execution_count": 25,
   "id": "6b0840ce",
   "metadata": {},
   "outputs": [
    {
     "name": "stdout",
     "output_type": "stream",
     "text": [
      "matrix has memory of  762.939453125 megabytes\n",
      "rank of matrix approximation is:  50\n",
      "execution time: 69.13762140274048 seconds\n",
      "relative error is:  2.80186809997225e-15\n",
      "np.allclose is:  True\n"
     ]
    }
   ],
   "source": [
    "A = construct_matrix(m=10000, n=10000, singular_values=\\\n",
    "np.sort(np.random.pareto(5, 50))[::-1])\n",
    "U_aprx, S_aprx, V_aprx = blockSVD(A, 1000, 1000, gamma=0.0001)\n",
    "quality(A, U_aprx, S_aprx, V_aprx) "
   ]
  },
  {
   "cell_type": "code",
   "execution_count": 26,
   "id": "5f6019ec",
   "metadata": {},
   "outputs": [
    {
     "name": "stdout",
     "output_type": "stream",
     "text": [
      "matrix has memory of  762.939453125 megabytes\n",
      "rank of matrix approximation is:  28\n",
      "execution time: 63.27093744277954 seconds\n",
      "relative error is:  0.13678694039493008\n",
      "np.allclose is:  False\n"
     ]
    }
   ],
   "source": [
    "A = construct_matrix(m=10000, n=10000, singular_values=\\\n",
    "np.sort(np.random.pareto(5, 50))[::-1])\n",
    "U_aprx, S_aprx, V_aprx = blockSVD(A, 1000, 1000, gamma=0.1)\n",
    "quality(A, U_aprx, S_aprx, V_aprx) "
   ]
  },
  {
   "cell_type": "code",
   "execution_count": 27,
   "id": "d780e362",
   "metadata": {
    "scrolled": true
   },
   "outputs": [
    {
     "name": "stdout",
     "output_type": "stream",
     "text": [
      "matrix has memory of  762.939453125 megabytes\n",
      "rank of matrix approximation is:  36\n",
      "execution time: 65.5826427936554 seconds\n",
      "relative error is:  0.0760187324143413\n",
      "np.allclose is:  False\n"
     ]
    }
   ],
   "source": [
    "A = construct_matrix(m=10000, n=10000, singular_values=\\\n",
    "np.sort(np.random.pareto(5, 50))[::-1])\n",
    "U_aprx, S_aprx, V_aprx = blockSVD(A, 1000, 1000, gamma=0.05)\n",
    "quality(A, U_aprx, S_aprx, V_aprx) "
   ]
  },
  {
   "cell_type": "markdown",
   "id": "2dc41721",
   "metadata": {},
   "source": [
    "внизу считалось ужасно долго (~20 мин)"
   ]
  },
  {
   "cell_type": "code",
   "execution_count": 28,
   "id": "0fcd4e46",
   "metadata": {},
   "outputs": [
    {
     "name": "stdout",
     "output_type": "stream",
     "text": [
      "matrix has memory of  762.939453125 megabytes\n"
     ]
    },
    {
     "ename": "KeyboardInterrupt",
     "evalue": "",
     "output_type": "error",
     "traceback": [
      "\u001b[1;31m---------------------------------------------------------------------------\u001b[0m",
      "\u001b[1;31mKeyboardInterrupt\u001b[0m                         Traceback (most recent call last)",
      "Cell \u001b[1;32mIn[28], line 3\u001b[0m\n\u001b[0;32m      1\u001b[0m A \u001b[38;5;241m=\u001b[39m construct_matrix(m\u001b[38;5;241m=\u001b[39m\u001b[38;5;241m10000\u001b[39m, n\u001b[38;5;241m=\u001b[39m\u001b[38;5;241m10000\u001b[39m, singular_values\u001b[38;5;241m=\u001b[39m\\\n\u001b[0;32m      2\u001b[0m np\u001b[38;5;241m.\u001b[39msort(np\u001b[38;5;241m.\u001b[39mrandom\u001b[38;5;241m.\u001b[39mrand(\u001b[38;5;241m50\u001b[39m))[::\u001b[38;5;241m-\u001b[39m\u001b[38;5;241m1\u001b[39m])\n\u001b[1;32m----> 3\u001b[0m U_aprx, S_aprx, V_aprx \u001b[38;5;241m=\u001b[39m \u001b[43mblockSVD\u001b[49m\u001b[43m(\u001b[49m\u001b[43mA\u001b[49m\u001b[43m,\u001b[49m\u001b[43m \u001b[49m\u001b[38;5;241;43m10\u001b[39;49m\u001b[43m,\u001b[49m\u001b[43m \u001b[49m\u001b[38;5;241;43m10\u001b[39;49m\u001b[43m,\u001b[49m\u001b[43m \u001b[49m\u001b[43mgamma\u001b[49m\u001b[38;5;241;43m=\u001b[39;49m\u001b[38;5;241;43m0.5\u001b[39;49m\u001b[43m)\u001b[49m\n\u001b[0;32m      4\u001b[0m quality(A, U_aprx, S_aprx, V_aprx)\n",
      "File \u001b[1;32m~\\Downloads\\NLA_Project1\\BlockSVD.py:13\u001b[0m, in \u001b[0;36mtimeit.<locals>.wrapper\u001b[1;34m(*args, **kwargs)\u001b[0m\n\u001b[0;32m     11\u001b[0m \u001b[38;5;28;01mdef\u001b[39;00m \u001b[38;5;21mwrapper\u001b[39m(\u001b[38;5;241m*\u001b[39margs, \u001b[38;5;241m*\u001b[39m\u001b[38;5;241m*\u001b[39mkwargs):\n\u001b[0;32m     12\u001b[0m     start_time \u001b[38;5;241m=\u001b[39m time\u001b[38;5;241m.\u001b[39mtime()\n\u001b[1;32m---> 13\u001b[0m     result \u001b[38;5;241m=\u001b[39m func(\u001b[38;5;241m*\u001b[39margs, \u001b[38;5;241m*\u001b[39m\u001b[38;5;241m*\u001b[39mkwargs)\n\u001b[0;32m     14\u001b[0m     end_time \u001b[38;5;241m=\u001b[39m time\u001b[38;5;241m.\u001b[39mtime()\n\u001b[0;32m     15\u001b[0m     \u001b[38;5;28mprint\u001b[39m(\u001b[38;5;124mf\u001b[39m\u001b[38;5;124m\"\u001b[39m\u001b[38;5;124mexecution time: \u001b[39m\u001b[38;5;132;01m{\u001b[39;00mend_time \u001b[38;5;241m-\u001b[39m start_time\u001b[38;5;132;01m}\u001b[39;00m\u001b[38;5;124m seconds\u001b[39m\u001b[38;5;124m\"\u001b[39m)\n",
      "File \u001b[1;32m~\\Downloads\\NLA_Project1\\BlockSVD.py:27\u001b[0m, in \u001b[0;36mblockSVD\u001b[1;34m(A, d, c, gamma)\u001b[0m\n\u001b[0;32m     25\u001b[0m \u001b[38;5;129m@timeit\u001b[39m\n\u001b[0;32m     26\u001b[0m \u001b[38;5;28;01mdef\u001b[39;00m \u001b[38;5;21mblockSVD\u001b[39m(A, d, c, gamma \u001b[38;5;241m=\u001b[39m \u001b[38;5;241m0.0000001\u001b[39m):\n\u001b[1;32m---> 27\u001b[0m     V_hat, S_hat \u001b[38;5;241m=\u001b[39m \u001b[43mDoSVDofBlocks\u001b[49m\u001b[43m(\u001b[49m\u001b[43mA\u001b[49m\u001b[43m,\u001b[49m\u001b[43m \u001b[49m\u001b[43md\u001b[49m\u001b[43m,\u001b[49m\u001b[43m \u001b[49m\u001b[43mc\u001b[49m\u001b[43m,\u001b[49m\u001b[43m \u001b[49m\u001b[43mgamma\u001b[49m\u001b[43m)\u001b[49m\n\u001b[0;32m     28\u001b[0m     U_hat, S_hat, V_hat \u001b[38;5;241m=\u001b[39m Iter_improve(A, V_hat, S_hat, gamma)\n\u001b[0;32m     29\u001b[0m     \u001b[38;5;28mprint\u001b[39m(\u001b[38;5;124m\"\u001b[39m\u001b[38;5;124mrank of matrix approximation is: \u001b[39m\u001b[38;5;124m\"\u001b[39m, S_hat\u001b[38;5;241m.\u001b[39mshape[\u001b[38;5;241m0\u001b[39m])\n",
      "File \u001b[1;32m~\\Downloads\\NLA_Project1\\BlockSVD.py:47\u001b[0m, in \u001b[0;36mDoSVDofBlocks\u001b[1;34m(A, d, c, gamma)\u001b[0m\n\u001b[0;32m     45\u001b[0m     _, S_j, VT_j \u001b[38;5;241m=\u001b[39m tr_SVD(U_j\u001b[38;5;241m.\u001b[39mT\u001b[38;5;129m@list_X\u001b[39m[j], gamma)\n\u001b[0;32m     46\u001b[0m     list_V\u001b[38;5;241m.\u001b[39mappend(VT_j\u001b[38;5;241m.\u001b[39mT), list_S\u001b[38;5;241m.\u001b[39mappend(S_j) \u001b[38;5;66;03m#calculating V, not V.T!\u001b[39;00m\n\u001b[1;32m---> 47\u001b[0m \u001b[38;5;28;01mreturn\u001b[39;00m \u001b[43mDoMergeOfSlices\u001b[49m\u001b[43m(\u001b[49m\u001b[43mlist_V\u001b[49m\u001b[43m,\u001b[49m\u001b[43m \u001b[49m\u001b[43mlist_S\u001b[49m\u001b[43m,\u001b[49m\u001b[43m \u001b[49m\u001b[43mgamma\u001b[49m\u001b[43m)\u001b[49m\n",
      "File \u001b[1;32m~\\Downloads\\NLA_Project1\\BlockSVD.py:72\u001b[0m, in \u001b[0;36mDoMergeOfSlices\u001b[1;34m(list_U, list_S, gamma)\u001b[0m\n\u001b[0;32m     70\u001b[0m list_S \u001b[38;5;241m=\u001b[39m []\n\u001b[0;32m     71\u001b[0m \u001b[38;5;28;01mfor\u001b[39;00m i \u001b[38;5;129;01min\u001b[39;00m \u001b[38;5;28mrange\u001b[39m(\u001b[38;5;241m1\u001b[39m,N1,\u001b[38;5;241m2\u001b[39m):\n\u001b[1;32m---> 72\u001b[0m     U_j, S_j, _ \u001b[38;5;241m=\u001b[39m \u001b[43mBlockMerge\u001b[49m\u001b[43m(\u001b[49m\u001b[43mlist_Ut\u001b[49m\u001b[43m[\u001b[49m\u001b[43mi\u001b[49m\u001b[38;5;241;43m-\u001b[39;49m\u001b[38;5;241;43m1\u001b[39;49m\u001b[43m]\u001b[49m\u001b[43m,\u001b[49m\u001b[43m \u001b[49m\u001b[43mlist_St\u001b[49m\u001b[43m[\u001b[49m\u001b[43mi\u001b[49m\u001b[38;5;241;43m-\u001b[39;49m\u001b[38;5;241;43m1\u001b[39;49m\u001b[43m]\u001b[49m\u001b[43m,\u001b[49m\u001b[43m \u001b[49m\u001b[43mlist_Ut\u001b[49m\u001b[43m[\u001b[49m\u001b[43mi\u001b[49m\u001b[43m]\u001b[49m\u001b[43m,\u001b[49m\u001b[43m \u001b[49m\u001b[43mlist_St\u001b[49m\u001b[43m[\u001b[49m\u001b[43mi\u001b[49m\u001b[43m]\u001b[49m\u001b[43m,\u001b[49m\u001b[43m \u001b[49m\u001b[43mgamma\u001b[49m\u001b[43m)\u001b[49m\n\u001b[0;32m     73\u001b[0m     list_U\u001b[38;5;241m.\u001b[39mappend(U_j), list_S\u001b[38;5;241m.\u001b[39mappend(S_j)\n\u001b[0;32m     74\u001b[0m \u001b[38;5;28;01mif\u001b[39;00m N1 \u001b[38;5;241m%\u001b[39m \u001b[38;5;241m2\u001b[39m \u001b[38;5;241m==\u001b[39m \u001b[38;5;241m1\u001b[39m:\n",
      "File \u001b[1;32m~\\Downloads\\NLA_Project1\\BlockSVD.py:85\u001b[0m, in \u001b[0;36mBlockMerge\u001b[1;34m(U1, Sigma1, U2, Sigma2, gamma)\u001b[0m\n\u001b[0;32m     82\u001b[0m n_cols \u001b[38;5;241m=\u001b[39m Sigma1\u001b[38;5;241m.\u001b[39mshape[\u001b[38;5;241m0\u001b[39m]\n\u001b[0;32m     84\u001b[0m Q \u001b[38;5;241m=\u001b[39m U2 \u001b[38;5;241m-\u001b[39m U1\u001b[38;5;129m@U1\u001b[39m\u001b[38;5;241m.\u001b[39mT\u001b[38;5;129m@U2\u001b[39m\n\u001b[1;32m---> 85\u001b[0m U0, R \u001b[38;5;241m=\u001b[39m \u001b[43mnp\u001b[49m\u001b[38;5;241;43m.\u001b[39;49m\u001b[43mlinalg\u001b[49m\u001b[38;5;241;43m.\u001b[39;49m\u001b[43mqr\u001b[49m\u001b[43m(\u001b[49m\u001b[43mQ\u001b[49m\u001b[43m,\u001b[49m\u001b[43m \u001b[49m\u001b[38;5;124;43m'\u001b[39;49m\u001b[38;5;124;43mreduced\u001b[39;49m\u001b[38;5;124;43m'\u001b[39;49m\u001b[43m)\u001b[49m\n\u001b[0;32m     86\u001b[0m E \u001b[38;5;241m=\u001b[39m np\u001b[38;5;241m.\u001b[39mblock(\n\u001b[0;32m     87\u001b[0m     [[np\u001b[38;5;241m.\u001b[39mdiag(Sigma1), U1\u001b[38;5;241m.\u001b[39mT\u001b[38;5;129m@U2\u001b[39m\u001b[38;5;129m@np\u001b[39m\u001b[38;5;241m.\u001b[39mdiag(Sigma2)], \\\n\u001b[0;32m     88\u001b[0m     [np\u001b[38;5;241m.\u001b[39mzeros((n_rows, n_cols)), R\u001b[38;5;129m@np\u001b[39m\u001b[38;5;241m.\u001b[39mdiag(Sigma2)]]\n\u001b[0;32m     89\u001b[0m             )\n\u001b[0;32m     90\u001b[0m UE, SE, VET \u001b[38;5;241m=\u001b[39m tr_SVD(E, gamma) \n",
      "File \u001b[1;32m<__array_function__ internals>:177\u001b[0m, in \u001b[0;36mqr\u001b[1;34m(*args, **kwargs)\u001b[0m\n",
      "\u001b[1;31mKeyboardInterrupt\u001b[0m: "
     ]
    }
   ],
   "source": [
    "A = construct_matrix(m=10000, n=10000, singular_values=\\\n",
    "np.sort(np.random.rand(50))[::-1])\n",
    "U_aprx, S_aprx, V_aprx = blockSVD(A, 10, 10, gamma=0.5)\n",
    "quality(A, U_aprx, S_aprx, V_aprx) "
   ]
  },
  {
   "cell_type": "markdown",
   "id": "78cadca2",
   "metadata": {},
   "source": [
    "Do column-wise and row-wise partitions and see column-wise partitions are better"
   ]
  },
  {
   "cell_type": "code",
   "execution_count": 29,
   "id": "b174555a",
   "metadata": {},
   "outputs": [
    {
     "name": "stdout",
     "output_type": "stream",
     "text": [
      "matrix has memory of  762.939453125 megabytes\n",
      "rank of matrix approximation is:  49\n",
      "execution time: 118.20474767684937 seconds\n",
      "relative error is:  0.001292946826372431\n",
      "np.allclose is:  False\n"
     ]
    }
   ],
   "source": [
    "A = construct_matrix(m=10000, n=10000, singular_values=\\\n",
    "np.sort(np.random.rand(50))[::-1])\n",
    "U_aprx, S_aprx, V_aprx = blockSVD(A, 10000, 100, gamma=0.01)\n",
    "quality(A, U_aprx, S_aprx, V_aprx) "
   ]
  },
  {
   "cell_type": "code",
   "execution_count": 30,
   "id": "d504abf1",
   "metadata": {},
   "outputs": [
    {
     "name": "stdout",
     "output_type": "stream",
     "text": [
      "matrix has memory of  762.939453125 megabytes\n",
      "rank of matrix approximation is:  49\n",
      "execution time: 162.28913593292236 seconds\n",
      "relative error is:  0.0012929468264108344\n",
      "np.allclose is:  False\n"
     ]
    }
   ],
   "source": [
    "A = construct_matrix(m=10000, n=10000, singular_values=\\\n",
    "np.sort(np.random.rand(50))[::-1])\n",
    "U_aprx, S_aprx, V_aprx = blockSVD(A, 100, 10000, gamma=0.01)\n",
    "quality(A, U_aprx, S_aprx, V_aprx) "
   ]
  },
  {
   "cell_type": "markdown",
   "id": "1f287de6",
   "metadata": {},
   "source": [
    "proceed with column-wise partition + row-wise partition of size 2"
   ]
  },
  {
   "cell_type": "code",
   "execution_count": 32,
   "id": "616806f7",
   "metadata": {},
   "outputs": [
    {
     "name": "stdout",
     "output_type": "stream",
     "text": [
      "matrix has memory of  762.939453125 megabytes\n",
      "rank of matrix approximation is:  49\n",
      "execution time: 88.3730628490448 seconds\n",
      "relative error is:  0.0012929468266200976\n",
      "np.allclose is:  False\n"
     ]
    }
   ],
   "source": [
    "A = construct_matrix(m=10000, n=10000, singular_values=\\\n",
    "np.sort(np.random.rand(50))[::-1])\n",
    "U_aprx, S_aprx, V_aprx = blockSVD(A, 5000, 100, gamma=0.01)\n",
    "quality(A, U_aprx, S_aprx, V_aprx) "
   ]
  },
  {
   "cell_type": "markdown",
   "id": "a0bb3722",
   "metadata": {},
   "source": [
    "делим строку еще по 2."
   ]
  },
  {
   "cell_type": "code",
   "execution_count": 33,
   "id": "06309e5e",
   "metadata": {},
   "outputs": [
    {
     "name": "stdout",
     "output_type": "stream",
     "text": [
      "matrix has memory of  762.939453125 megabytes\n",
      "rank of matrix approximation is:  49\n",
      "execution time: 93.86327385902405 seconds\n",
      "relative error is:  0.001292946826450673\n",
      "np.allclose is:  False\n"
     ]
    }
   ],
   "source": [
    "A = construct_matrix(m=10000, n=10000, singular_values=\\\n",
    "np.sort(np.random.rand(50))[::-1])\n",
    "U_aprx, S_aprx, V_aprx = blockSVD(A, 2500, 100, gamma=0.01)\n",
    "quality(A, U_aprx, S_aprx, V_aprx) "
   ]
  },
  {
   "cell_type": "markdown",
   "id": "33ddc676",
   "metadata": {},
   "source": [
    " делим строку еще по 2."
   ]
  },
  {
   "cell_type": "code",
   "execution_count": 34,
   "id": "257094fc",
   "metadata": {},
   "outputs": [
    {
     "name": "stdout",
     "output_type": "stream",
     "text": [
      "matrix has memory of  762.939453125 megabytes\n",
      "rank of matrix approximation is:  49\n",
      "execution time: 133.7633466720581 seconds\n",
      "relative error is:  0.0012929468261506213\n",
      "np.allclose is:  False\n"
     ]
    }
   ],
   "source": [
    "A = construct_matrix(m=10000, n=10000, singular_values=\\\n",
    "np.sort(np.random.rand(50))[::-1])\n",
    "U_aprx, S_aprx, V_aprx = blockSVD(A, 1250, 100, gamma=0.01)\n",
    "quality(A, U_aprx, S_aprx, V_aprx) "
   ]
  },
  {
   "cell_type": "markdown",
   "id": "41543259",
   "metadata": {},
   "source": [
    "дальше хуже"
   ]
  },
  {
   "cell_type": "markdown",
   "id": "d3558b81",
   "metadata": {},
   "source": [
    "попробуем по колонкам только поделить, но сделать 500 вместо 100."
   ]
  },
  {
   "cell_type": "code",
   "execution_count": 35,
   "id": "7893d06b",
   "metadata": {},
   "outputs": [
    {
     "name": "stdout",
     "output_type": "stream",
     "text": [
      "matrix has memory of  762.939453125 megabytes\n",
      "rank of matrix approximation is:  49\n",
      "execution time: 34.2381694316864 seconds\n",
      "relative error is:  0.0012929468270204054\n",
      "np.allclose is:  False\n"
     ]
    }
   ],
   "source": [
    "A = construct_matrix(m=10000, n=10000, singular_values=\\\n",
    "np.sort(np.random.rand(50))[::-1])\n",
    "U_aprx, S_aprx, V_aprx = blockSVD(A, 10000, 500, gamma=0.01)\n",
    "quality(A, U_aprx, S_aprx, V_aprx) "
   ]
  },
  {
   "cell_type": "code",
   "execution_count": 36,
   "id": "05428b9c",
   "metadata": {},
   "outputs": [
    {
     "name": "stdout",
     "output_type": "stream",
     "text": [
      "matrix has memory of  762.939453125 megabytes\n",
      "rank of matrix approximation is:  49\n",
      "execution time: 29.061747074127197 seconds\n",
      "relative error is:  0.0012929468269189366\n",
      "np.allclose is:  False\n"
     ]
    }
   ],
   "source": [
    "A = construct_matrix(m=10000, n=10000, singular_values=\\\n",
    "np.sort(np.random.rand(50))[::-1])\n",
    "U_aprx, S_aprx, V_aprx = blockSVD(A, 10000, 1000, gamma=0.01)\n",
    "quality(A, U_aprx, S_aprx, V_aprx) "
   ]
  },
  {
   "cell_type": "code",
   "execution_count": null,
   "id": "b7d5e25d",
   "metadata": {},
   "outputs": [],
   "source": [
    "еще раз"
   ]
  },
  {
   "cell_type": "code",
   "execution_count": 37,
   "id": "daca96a5",
   "metadata": {},
   "outputs": [
    {
     "name": "stdout",
     "output_type": "stream",
     "text": [
      "matrix has memory of  762.939453125 megabytes\n",
      "rank of matrix approximation is:  49\n",
      "execution time: 49.91435885429382 seconds\n",
      "relative error is:  0.0012929468268477534\n",
      "np.allclose is:  False\n"
     ]
    }
   ],
   "source": [
    "A = construct_matrix(m=10000, n=10000, singular_values=\\\n",
    "np.sort(np.random.rand(50))[::-1])\n",
    "U_aprx, S_aprx, V_aprx = blockSVD(A, 10000, 2000, gamma=0.01)\n",
    "quality(A, U_aprx, S_aprx, V_aprx) "
   ]
  },
  {
   "cell_type": "markdown",
   "id": "8e9f58f6",
   "metadata": {},
   "source": [
    "дальше хуже"
   ]
  },
  {
   "cell_type": "code",
   "execution_count": 38,
   "id": "b4d55cae",
   "metadata": {},
   "outputs": [
    {
     "name": "stdout",
     "output_type": "stream",
     "text": [
      "matrix has memory of  762.939453125 megabytes\n",
      "rank of matrix approximation is:  49\n",
      "execution time: 35.40580439567566 seconds\n",
      "relative error is:  0.0012929468261462108\n",
      "np.allclose is:  False\n"
     ]
    }
   ],
   "source": [
    "A = construct_matrix(m=10000, n=10000, singular_values=\\\n",
    "np.sort(np.random.rand(50))[::-1])\n",
    "U_aprx, S_aprx, V_aprx = blockSVD(A, 10000, 1500, gamma=0.01)\n",
    "quality(A, U_aprx, S_aprx, V_aprx) "
   ]
  },
  {
   "cell_type": "code",
   "execution_count": 39,
   "id": "53968e3a",
   "metadata": {},
   "outputs": [
    {
     "name": "stdout",
     "output_type": "stream",
     "text": [
      "matrix has memory of  762.939453125 megabytes\n",
      "rank of matrix approximation is:  49\n",
      "execution time: 42.31066393852234 seconds\n",
      "relative error is:  0.0012929468270844765\n",
      "np.allclose is:  False\n"
     ]
    }
   ],
   "source": [
    "A = construct_matrix(m=10000, n=10000, singular_values=\\\n",
    "np.sort(np.random.rand(50))[::-1])\n",
    "U_aprx, S_aprx, V_aprx = blockSVD(A, 5000, 1000, gamma=0.01)\n",
    "quality(A, U_aprx, S_aprx, V_aprx) "
   ]
  },
  {
   "cell_type": "code",
   "execution_count": 40,
   "id": "64734769",
   "metadata": {},
   "outputs": [
    {
     "name": "stdout",
     "output_type": "stream",
     "text": [
      "matrix has memory of  762.939453125 megabytes\n",
      "rank of matrix approximation is:  49\n",
      "execution time: 170.01562643051147 seconds\n",
      "relative error is:  0.0012929468269560196\n",
      "np.allclose is:  False\n"
     ]
    }
   ],
   "source": [
    "A = construct_matrix(m=10000, n=10000, singular_values=\\\n",
    "np.sort(np.random.rand(50))[::-1])\n",
    "U_aprx, S_aprx, V_aprx = blockSVD(A, 2500, 1000, gamma=0.01)\n",
    "quality(A, U_aprx, S_aprx, V_aprx) "
   ]
  },
  {
   "cell_type": "markdown",
   "id": "694216ef",
   "metadata": {},
   "source": [
    "что то очень долго"
   ]
  },
  {
   "cell_type": "code",
   "execution_count": null,
   "id": "e4afe153",
   "metadata": {},
   "outputs": [],
   "source": [
    "A = construct_matrix(m=10000, n=10000, singular_values=\\\n",
    "np.sort(np.random.rand(50))[::-1])\n",
    "U_aprx, S_aprx, V_aprx = blockSVD(A, 1000, 10000, gamma=0.01)\n",
    "quality(A, U_aprx, S_aprx, V_aprx) \n",
    "\n",
    "#было 76 сек"
   ]
  },
  {
   "cell_type": "code",
   "execution_count": 42,
   "id": "b432dcc6",
   "metadata": {},
   "outputs": [
    {
     "name": "stdout",
     "output_type": "stream",
     "text": [
      "matrix has memory of  762.939453125 megabytes\n",
      "rank of matrix approximation is:  49\n",
      "execution time: 68.9508113861084 seconds\n",
      "relative error is:  0.0012929478419216546\n",
      "np.allclose is:  False\n"
     ]
    }
   ],
   "source": [
    "A = construct_matrix(m=10000, n=10000, singular_values=\\\n",
    "np.sort(np.random.rand(50))[::-1])\n",
    "U_aprx, S_aprx, V_aprx = blockSVD(A, 1000, 1000, gamma=0.01)\n",
    "quality(A, U_aprx, S_aprx, V_aprx) "
   ]
  },
  {
   "cell_type": "code",
   "execution_count": 43,
   "id": "34450891",
   "metadata": {},
   "outputs": [
    {
     "name": "stdout",
     "output_type": "stream",
     "text": [
      "matrix has memory of  762.939453125 megabytes\n",
      "rank of matrix approximation is:  49\n",
      "execution time: 51.05747628211975 seconds\n",
      "relative error is:  0.0012929468268477534\n",
      "np.allclose is:  False\n"
     ]
    }
   ],
   "source": [
    "A = construct_matrix(m=10000, n=10000, singular_values=\\\n",
    "np.sort(np.random.rand(50))[::-1])\n",
    "U_aprx, S_aprx, V_aprx = blockSVD(A, 10000, 2000, gamma=0.01)\n",
    "quality(A, U_aprx, S_aprx, V_aprx) "
   ]
  },
  {
   "cell_type": "markdown",
   "id": "b0cc8514",
   "metadata": {},
   "source": [
    "теперь играемся с рангами "
   ]
  },
  {
   "cell_type": "code",
   "execution_count": 44,
   "id": "5a6b8c84",
   "metadata": {},
   "outputs": [
    {
     "name": "stdout",
     "output_type": "stream",
     "text": [
      "matrix has memory of  762.939453125 megabytes\n",
      "rank of matrix approximation is:  49\n",
      "execution time: 32.79981875419617 seconds\n",
      "relative error is:  0.0012929468269189366\n",
      "np.allclose is:  False\n"
     ]
    }
   ],
   "source": [
    "A = construct_matrix(m=10000, n=10000, singular_values=\\\n",
    "np.sort(np.random.rand(50))[::-1])\n",
    "U_aprx, S_aprx, V_aprx = blockSVD(A, 10000, 1000, gamma=0.01)\n",
    "quality(A, U_aprx, S_aprx, V_aprx) "
   ]
  },
  {
   "cell_type": "code",
   "execution_count": 45,
   "id": "b507810c",
   "metadata": {},
   "outputs": [
    {
     "name": "stdout",
     "output_type": "stream",
     "text": [
      "matrix has memory of  762.939453125 megabytes\n",
      "rank of matrix approximation is:  24\n",
      "execution time: 31.06197690963745 seconds\n",
      "relative error is:  0.0017590538828481128\n",
      "np.allclose is:  False\n"
     ]
    }
   ],
   "source": [
    "A = construct_matrix(m=10000, n=10000, singular_values=\\\n",
    "np.sort(np.random.rand(25))[::-1])\n",
    "U_aprx, S_aprx, V_aprx = blockSVD(A, 10000, 1000, gamma=0.01)\n",
    "quality(A, U_aprx, S_aprx, V_aprx) "
   ]
  },
  {
   "cell_type": "code",
   "execution_count": 46,
   "id": "6ac24c24",
   "metadata": {},
   "outputs": [
    {
     "name": "stdout",
     "output_type": "stream",
     "text": [
      "matrix has memory of  762.939453125 megabytes\n",
      "rank of matrix approximation is:  99\n",
      "execution time: 35.308165311813354 seconds\n",
      "relative error is:  0.0019052888115941241\n",
      "np.allclose is:  False\n"
     ]
    }
   ],
   "source": [
    "A = construct_matrix(m=10000, n=10000, singular_values=\\\n",
    "np.sort(np.random.rand(100))[::-1])\n",
    "U_aprx, S_aprx, V_aprx = blockSVD(A, 10000, 1000, gamma=0.01)\n",
    "quality(A, U_aprx, S_aprx, V_aprx) "
   ]
  },
  {
   "cell_type": "code",
   "execution_count": 50,
   "id": "5389fc05",
   "metadata": {},
   "outputs": [
    {
     "name": "stdout",
     "output_type": "stream",
     "text": [
      "matrix has memory of  762.939453125 megabytes\n",
      "rank of matrix approximation is:  196\n",
      "execution time: 39.89589166641235 seconds\n",
      "relative error is:  0.0016999733093508635\n",
      "np.allclose is:  False\n"
     ]
    }
   ],
   "source": [
    "A = construct_matrix(m=10000, n=10000, singular_values=\\\n",
    "np.sort(np.random.rand(200))[::-1])\n",
    "U_aprx, S_aprx, V_aprx = blockSVD(A, 10000, 1000, gamma=0.01)\n",
    "quality(A, U_aprx, S_aprx, V_aprx) "
   ]
  },
  {
   "cell_type": "code",
   "execution_count": 49,
   "id": "5d572db8",
   "metadata": {},
   "outputs": [
    {
     "name": "stdout",
     "output_type": "stream",
     "text": [
      "matrix has memory of  762.939453125 megabytes\n",
      "rank of matrix approximation is:  494\n",
      "execution time: 59.254480838775635 seconds\n",
      "relative error is:  0.0008295716541489007\n",
      "np.allclose is:  False\n"
     ]
    }
   ],
   "source": [
    "A = construct_matrix(m=10000, n=10000, singular_values=\\\n",
    "np.sort(np.random.rand(500))[::-1])\n",
    "U_aprx, S_aprx, V_aprx = blockSVD(A, 10000, 1000, gamma=0.01)\n",
    "quality(A, U_aprx, S_aprx, V_aprx) "
   ]
  },
  {
   "cell_type": "code",
   "execution_count": 48,
   "id": "b2fcd3f8",
   "metadata": {},
   "outputs": [
    {
     "name": "stdout",
     "output_type": "stream",
     "text": [
      "matrix has memory of  762.939453125 megabytes\n",
      "rank of matrix approximation is:  983\n",
      "execution time: 145.97968673706055 seconds\n",
      "relative error is:  0.002572079625545852\n",
      "np.allclose is:  False\n"
     ]
    }
   ],
   "source": [
    "A = construct_matrix(m=10000, n=10000, singular_values=\\\n",
    "np.sort(np.random.rand(1000))[::-1])\n",
    "U_aprx, S_aprx, V_aprx = blockSVD(A, 10000, 1000, gamma=0.01)\n",
    "quality(A, U_aprx, S_aprx, V_aprx) "
   ]
  },
  {
   "cell_type": "code",
   "execution_count": 47,
   "id": "fe630a4d",
   "metadata": {},
   "outputs": [
    {
     "name": "stdout",
     "output_type": "stream",
     "text": [
      "matrix has memory of  762.939453125 megabytes\n",
      "rank of matrix approximation is:  1964\n",
      "execution time: 263.4559862613678 seconds\n",
      "relative error is:  0.0021647808668114592\n",
      "np.allclose is:  False\n"
     ]
    }
   ],
   "source": [
    "A = construct_matrix(m=10000, n=10000, singular_values=\\\n",
    "np.sort(np.random.rand(2000))[::-1])\n",
    "U_aprx, S_aprx, V_aprx = blockSVD(A, 10000, 1000, gamma=0.01)\n",
    "quality(A, U_aprx, S_aprx, V_aprx) "
   ]
  },
  {
   "cell_type": "markdown",
   "id": "74f9f689",
   "metadata": {},
   "source": [
    "теперь играемся с распределением рангов"
   ]
  },
  {
   "cell_type": "code",
   "execution_count": 51,
   "id": "03739ce8",
   "metadata": {},
   "outputs": [
    {
     "name": "stdout",
     "output_type": "stream",
     "text": [
      "matrix has memory of  762.939453125 megabytes\n",
      "rank of matrix approximation is:  5\n",
      "execution time: 29.318974256515503 seconds\n",
      "relative error is:  7.038144941697957e-16\n",
      "np.allclose is:  True\n"
     ]
    }
   ],
   "source": [
    "A = construct_matrix(m=10000, n=10000, singular_values=\\\n",
    "np.sort(np.random.rand(5))[::-1])\n",
    "U_aprx, S_aprx, V_aprx = blockSVD(A, 10000, 1000, gamma=0.01)\n",
    "quality(A, U_aprx, S_aprx, V_aprx) "
   ]
  },
  {
   "cell_type": "code",
   "execution_count": 58,
   "id": "f6a411dd",
   "metadata": {},
   "outputs": [
    {
     "name": "stdout",
     "output_type": "stream",
     "text": [
      "matrix has memory of  762.939453125 megabytes\n",
      "rank of matrix approximation is:  50\n",
      "execution time: 32.303749561309814 seconds\n",
      "relative error is:  2.3824161481091742e-15\n",
      "np.allclose is:  True\n"
     ]
    }
   ],
   "source": [
    "A = construct_matrix(m=10000, n=10000, singular_values=\\\n",
    "np.sort(np.random.rand(50))[::-1])\n",
    "U_aprx, S_aprx, V_aprx = blockSVD(A, 10000, 1000, gamma=0.01)\n",
    "quality(A, U_aprx, S_aprx, V_aprx) "
   ]
  },
  {
   "cell_type": "code",
   "execution_count": 59,
   "id": "b4ed3824",
   "metadata": {},
   "outputs": [
    {
     "name": "stdout",
     "output_type": "stream",
     "text": [
      "matrix has memory of  762.939453125 megabytes\n",
      "rank of matrix approximation is:  7\n",
      "execution time: 29.797606468200684 seconds\n",
      "relative error is:  0.021481710765623344\n",
      "np.allclose is:  False\n"
     ]
    }
   ],
   "source": [
    "A = construct_matrix(m=10000, n=10000, singular_values=\\\n",
    "np.sort(np.random.pareto(0.5,50))[::-1])\n",
    "U_aprx, S_aprx, V_aprx = blockSVD(A, 10000, 1000, gamma=0.01)\n",
    "quality(A, U_aprx, S_aprx, V_aprx) "
   ]
  },
  {
   "cell_type": "code",
   "execution_count": 52,
   "id": "d272ae35",
   "metadata": {},
   "outputs": [
    {
     "name": "stdout",
     "output_type": "stream",
     "text": [
      "matrix has memory of  762.939453125 megabytes\n",
      "rank of matrix approximation is:  35\n",
      "execution time: 31.170085668563843 seconds\n",
      "relative error is:  0.01602111137613208\n",
      "np.allclose is:  False\n"
     ]
    }
   ],
   "source": [
    "A = construct_matrix(m=10000, n=10000, singular_values=\\\n",
    "np.sort(np.random.pareto(1,50))[::-1])\n",
    "U_aprx, S_aprx, V_aprx = blockSVD(A, 10000, 1000, gamma=0.01)\n",
    "quality(A, U_aprx, S_aprx, V_aprx) "
   ]
  },
  {
   "cell_type": "code",
   "execution_count": 53,
   "id": "844efbaf",
   "metadata": {},
   "outputs": [
    {
     "name": "stdout",
     "output_type": "stream",
     "text": [
      "matrix has memory of  762.939453125 megabytes\n",
      "rank of matrix approximation is:  47\n",
      "execution time: 31.337493896484375 seconds\n",
      "relative error is:  0.005916027471111141\n",
      "np.allclose is:  False\n"
     ]
    }
   ],
   "source": [
    "A = construct_matrix(m=10000, n=10000, singular_values=\\\n",
    "np.sort(np.random.pareto(3,50))[::-1])\n",
    "U_aprx, S_aprx, V_aprx = blockSVD(A, 10000, 1000, gamma=0.01)\n",
    "quality(A, U_aprx, S_aprx, V_aprx) "
   ]
  },
  {
   "cell_type": "code",
   "execution_count": 55,
   "id": "bb089bf0",
   "metadata": {},
   "outputs": [
    {
     "name": "stdout",
     "output_type": "stream",
     "text": [
      "matrix has memory of  762.939453125 megabytes\n",
      "rank of matrix approximation is:  48\n",
      "execution time: 32.6082022190094 seconds\n",
      "relative error is:  0.0026045002055041853\n",
      "np.allclose is:  False\n"
     ]
    }
   ],
   "source": [
    "A = construct_matrix(m=10000, n=10000, singular_values=\\\n",
    "np.sort(np.random.pareto(10,50))[::-1])\n",
    "U_aprx, S_aprx, V_aprx = blockSVD(A, 10000, 1000, gamma=0.01)\n",
    "quality(A, U_aprx, S_aprx, V_aprx) "
   ]
  },
  {
   "cell_type": "code",
   "execution_count": 56,
   "id": "008a8865",
   "metadata": {},
   "outputs": [
    {
     "name": "stdout",
     "output_type": "stream",
     "text": [
      "matrix has memory of  762.939453125 megabytes\n",
      "rank of matrix approximation is:  48\n",
      "execution time: 32.04586386680603 seconds\n",
      "relative error is:  0.0027646381804766577\n",
      "np.allclose is:  False\n"
     ]
    }
   ],
   "source": [
    "A = construct_matrix(m=10000, n=10000, singular_values=\\\n",
    "np.sort(np.random.pareto(20,50))[::-1])\n",
    "U_aprx, S_aprx, V_aprx = blockSVD(A, 10000, 1000, gamma=0.01)\n",
    "quality(A, U_aprx, S_aprx, V_aprx) "
   ]
  },
  {
   "cell_type": "markdown",
   "id": "d0295a66",
   "metadata": {},
   "source": [
    "теперь играемся с формой матрицы"
   ]
  },
  {
   "cell_type": "code",
   "execution_count": 71,
   "id": "29ddcfe0",
   "metadata": {},
   "outputs": [
    {
     "name": "stdout",
     "output_type": "stream",
     "text": [
      "matrix has memory of  762.939453125 megabytes\n",
      "rank of matrix approximation is:  50\n",
      "execution time: 26.657194137573242 seconds\n",
      "relative error is:  3.2659186822890186e-15\n",
      "np.allclose is:  True\n"
     ]
    }
   ],
   "source": [
    "A = construct_matrix(m=100000, n=1000, singular_values=\\\n",
    "np.sort(np.random.rand(50))[::-1])\n",
    "U_aprx, S_aprx, V_aprx = blockSVD(A, 10000, 1000, gamma=0.01)\n",
    "quality(A, U_aprx, S_aprx, V_aprx) "
   ]
  },
  {
   "cell_type": "code",
   "execution_count": 72,
   "id": "e373b6a2",
   "metadata": {},
   "outputs": [
    {
     "name": "stdout",
     "output_type": "stream",
     "text": [
      "matrix has memory of  762.939453125 megabytes\n",
      "rank of matrix approximation is:  50\n",
      "execution time: 16.83628225326538 seconds\n",
      "relative error is:  2.5399174067787194e-15\n",
      "np.allclose is:  True\n"
     ]
    }
   ],
   "source": [
    "A = construct_matrix(m=1000000, n=100, singular_values=\\\n",
    "np.sort(np.random.rand(50))[::-1])\n",
    "U_aprx, S_aprx, V_aprx = blockSVD(A, 10000, 100, gamma=0.01)\n",
    "quality(A, U_aprx, S_aprx, V_aprx) "
   ]
  },
  {
   "cell_type": "code",
   "execution_count": 74,
   "id": "f5c4fb16",
   "metadata": {},
   "outputs": [
    {
     "name": "stdout",
     "output_type": "stream",
     "text": [
      "matrix has memory of  762.939453125 megabytes\n",
      "rank of matrix approximation is:  10\n",
      "execution time: 7.501985788345337 seconds\n",
      "relative error is:  6.506229550999398e-15\n",
      "np.allclose is:  True\n"
     ]
    }
   ],
   "source": [
    "A = construct_matrix(m=10000000, n=10, singular_values=\\\n",
    "np.sort(np.random.rand(10))[::-1])\n",
    "U_aprx, S_aprx, V_aprx = blockSVD(A, 100000, 10, gamma=0.01)\n",
    "quality(A, U_aprx, S_aprx, V_aprx) "
   ]
  },
  {
   "cell_type": "code",
   "execution_count": 10,
   "id": "90fac6dd",
   "metadata": {},
   "outputs": [
    {
     "name": "stdout",
     "output_type": "stream",
     "text": [
      "matrix has memory of  762.939453125 megabytes\n",
      "rank of matrix approximation is:  10\n",
      "execution time: 6.114229917526245 seconds\n",
      "relative error is:  4.6022376920220154e-15\n",
      "np.allclose is:  True\n"
     ]
    }
   ],
   "source": [
    "A = construct_matrix(m=10000000, n=10, singular_values=\\\n",
    "np.sort(np.random.rand(10))[::-1])\n",
    "U_aprx, S_aprx, V_aprx = blockSVD(A, 100000, 10, gamma=0.01)\n",
    "quality(A, U_aprx, S_aprx, V_aprx) "
   ]
  },
  {
   "cell_type": "code",
   "execution_count": 76,
   "id": "689d2116",
   "metadata": {},
   "outputs": [
    {
     "name": "stdout",
     "output_type": "stream",
     "text": [
      "matrix has memory of  762.939453125 megabytes\n",
      "rank of matrix approximation is:  10\n",
      "execution time: 63.39677309989929 seconds\n",
      "relative error is:  1.6893415847778152e-15\n",
      "np.allclose is:  True\n"
     ]
    }
   ],
   "source": [
    "A = construct_matrix(m=1000, n=100000, singular_values=\\\n",
    "np.sort(np.random.rand(50))[::-1])\n",
    "U_aprx, S_aprx, V_aprx = blockSVD(A, 1000, 1000, gamma=0.01)\n",
    "quality(A, U_aprx, S_aprx, V_aprx) "
   ]
  },
  {
   "cell_type": "code",
   "execution_count": 79,
   "id": "134b32f7",
   "metadata": {},
   "outputs": [
    {
     "name": "stdout",
     "output_type": "stream",
     "text": [
      "matrix has memory of  762.939453125 megabytes\n",
      "rank of matrix approximation is:  49\n",
      "execution time: 192.03041577339172 seconds\n",
      "relative error is:  0.004013576216857179\n",
      "np.allclose is:  False\n"
     ]
    }
   ],
   "source": [
    "A = construct_matrix(m=1000, n=100000, singular_values=\\\n",
    "np.sort(np.random.rand(50))[::-1])\n",
    "U_aprx, S_aprx, V_aprx = blockSVD(A, 1000, 100, gamma=0.01)\n",
    "quality(A, U_aprx, S_aprx, V_aprx) "
   ]
  },
  {
   "cell_type": "code",
   "execution_count": 83,
   "id": "bb01832d",
   "metadata": {},
   "outputs": [
    {
     "name": "stdout",
     "output_type": "stream",
     "text": [
      "matrix has memory of  762.939453125 megabytes\n",
      "rank of matrix approximation is:  50\n",
      "execution time: 57.470436573028564 seconds\n",
      "relative error is:  3.3644107176625417e-15\n",
      "np.allclose is:  True\n"
     ]
    }
   ],
   "source": [
    "A = construct_matrix(m=1000, n=100000, singular_values=\\\n",
    "np.sort(np.random.rand(50))[::-1])\n",
    "U_aprx, S_aprx, V_aprx = blockSVD(A, 1000, 1000, gamma=0.01)\n",
    "quality(A, U_aprx, S_aprx, V_aprx) "
   ]
  },
  {
   "cell_type": "code",
   "execution_count": 84,
   "id": "f25ca87b",
   "metadata": {},
   "outputs": [
    {
     "name": "stdout",
     "output_type": "stream",
     "text": [
      "matrix has memory of  762.939453125 megabytes\n",
      "rank of matrix approximation is:  50\n",
      "execution time: 63.68443441390991 seconds\n",
      "relative error is:  2.761141014706199e-15\n",
      "np.allclose is:  True\n"
     ]
    }
   ],
   "source": [
    "A = construct_matrix(m=1000, n=100000, singular_values=\\\n",
    "np.sort(np.random.rand(50))[::-1])\n",
    "U_aprx, S_aprx, V_aprx = blockSVD(A, 1000, 10000, gamma=0.01)\n",
    "quality(A, U_aprx, S_aprx, V_aprx) "
   ]
  },
  {
   "cell_type": "code",
   "execution_count": 85,
   "id": "25079c7b",
   "metadata": {
    "scrolled": true
   },
   "outputs": [
    {
     "name": "stdout",
     "output_type": "stream",
     "text": [
      "matrix has memory of  762.939453125 megabytes\n"
     ]
    },
    {
     "ename": "MemoryError",
     "evalue": "Unable to allocate 74.5 GiB for an array with shape (100000, 100000) and data type float64",
     "output_type": "error",
     "traceback": [
      "\u001b[1;31m---------------------------------------------------------------------------\u001b[0m",
      "\u001b[1;31mMemoryError\u001b[0m                               Traceback (most recent call last)",
      "Cell \u001b[1;32mIn[85], line 3\u001b[0m\n\u001b[0;32m      1\u001b[0m A \u001b[38;5;241m=\u001b[39m construct_matrix(m\u001b[38;5;241m=\u001b[39m\u001b[38;5;241m1000\u001b[39m, n\u001b[38;5;241m=\u001b[39m\u001b[38;5;241m100000\u001b[39m, singular_values\u001b[38;5;241m=\u001b[39m\\\n\u001b[0;32m      2\u001b[0m np\u001b[38;5;241m.\u001b[39msort(np\u001b[38;5;241m.\u001b[39mrandom\u001b[38;5;241m.\u001b[39mrand(\u001b[38;5;241m50\u001b[39m))[::\u001b[38;5;241m-\u001b[39m\u001b[38;5;241m1\u001b[39m])\n\u001b[1;32m----> 3\u001b[0m U_aprx, S_aprx, V_aprx \u001b[38;5;241m=\u001b[39m \u001b[43mblockSVD\u001b[49m\u001b[43m(\u001b[49m\u001b[43mA\u001b[49m\u001b[43m,\u001b[49m\u001b[43m \u001b[49m\u001b[38;5;241;43m100\u001b[39;49m\u001b[43m,\u001b[49m\u001b[43m \u001b[49m\u001b[38;5;241;43m10000\u001b[39;49m\u001b[43m,\u001b[49m\u001b[43m \u001b[49m\u001b[43mgamma\u001b[49m\u001b[38;5;241;43m=\u001b[39;49m\u001b[38;5;241;43m0.01\u001b[39;49m\u001b[43m)\u001b[49m\n\u001b[0;32m      4\u001b[0m quality(A, U_aprx, S_aprx, V_aprx)\n",
      "File \u001b[1;32m~\\Downloads\\NLA_Project1\\BlockSVD.py:13\u001b[0m, in \u001b[0;36mtimeit.<locals>.wrapper\u001b[1;34m(*args, **kwargs)\u001b[0m\n\u001b[0;32m     11\u001b[0m \u001b[38;5;28;01mdef\u001b[39;00m \u001b[38;5;21mwrapper\u001b[39m(\u001b[38;5;241m*\u001b[39margs, \u001b[38;5;241m*\u001b[39m\u001b[38;5;241m*\u001b[39mkwargs):\n\u001b[0;32m     12\u001b[0m     start_time \u001b[38;5;241m=\u001b[39m time\u001b[38;5;241m.\u001b[39mtime()\n\u001b[1;32m---> 13\u001b[0m     result \u001b[38;5;241m=\u001b[39m func(\u001b[38;5;241m*\u001b[39margs, \u001b[38;5;241m*\u001b[39m\u001b[38;5;241m*\u001b[39mkwargs)\n\u001b[0;32m     14\u001b[0m     end_time \u001b[38;5;241m=\u001b[39m time\u001b[38;5;241m.\u001b[39mtime()\n\u001b[0;32m     15\u001b[0m     \u001b[38;5;28mprint\u001b[39m(\u001b[38;5;124mf\u001b[39m\u001b[38;5;124m\"\u001b[39m\u001b[38;5;124mexecution time: \u001b[39m\u001b[38;5;132;01m{\u001b[39;00mend_time \u001b[38;5;241m-\u001b[39m start_time\u001b[38;5;132;01m}\u001b[39;00m\u001b[38;5;124m seconds\u001b[39m\u001b[38;5;124m\"\u001b[39m)\n",
      "File \u001b[1;32m~\\Downloads\\NLA_Project1\\BlockSVD.py:27\u001b[0m, in \u001b[0;36mblockSVD\u001b[1;34m(A, d, c, gamma)\u001b[0m\n\u001b[0;32m     25\u001b[0m \u001b[38;5;129m@timeit\u001b[39m\n\u001b[0;32m     26\u001b[0m \u001b[38;5;28;01mdef\u001b[39;00m \u001b[38;5;21mblockSVD\u001b[39m(A, d, c, gamma \u001b[38;5;241m=\u001b[39m \u001b[38;5;241m0.0000001\u001b[39m):\n\u001b[1;32m---> 27\u001b[0m     V_hat, S_hat \u001b[38;5;241m=\u001b[39m \u001b[43mDoSVDofBlocks\u001b[49m\u001b[43m(\u001b[49m\u001b[43mA\u001b[49m\u001b[43m,\u001b[49m\u001b[43m \u001b[49m\u001b[43md\u001b[49m\u001b[43m,\u001b[49m\u001b[43m \u001b[49m\u001b[43mc\u001b[49m\u001b[43m,\u001b[49m\u001b[43m \u001b[49m\u001b[43mgamma\u001b[49m\u001b[43m)\u001b[49m\n\u001b[0;32m     28\u001b[0m     U_hat, S_hat, V_hat \u001b[38;5;241m=\u001b[39m Iter_improve(A, V_hat, S_hat, gamma)\n\u001b[0;32m     29\u001b[0m     \u001b[38;5;28mprint\u001b[39m(\u001b[38;5;124m\"\u001b[39m\u001b[38;5;124mrank of matrix approximation is: \u001b[39m\u001b[38;5;124m\"\u001b[39m, S_hat\u001b[38;5;241m.\u001b[39mshape[\u001b[38;5;241m0\u001b[39m])\n",
      "File \u001b[1;32m~\\Downloads\\NLA_Project1\\BlockSVD.py:47\u001b[0m, in \u001b[0;36mDoSVDofBlocks\u001b[1;34m(A, d, c, gamma)\u001b[0m\n\u001b[0;32m     45\u001b[0m     _, S_j, VT_j \u001b[38;5;241m=\u001b[39m tr_SVD(U_j\u001b[38;5;241m.\u001b[39mT\u001b[38;5;129m@list_X\u001b[39m[j], gamma)\n\u001b[0;32m     46\u001b[0m     list_V\u001b[38;5;241m.\u001b[39mappend(VT_j\u001b[38;5;241m.\u001b[39mT), list_S\u001b[38;5;241m.\u001b[39mappend(S_j) \u001b[38;5;66;03m#calculating V, not V.T!\u001b[39;00m\n\u001b[1;32m---> 47\u001b[0m \u001b[38;5;28;01mreturn\u001b[39;00m \u001b[43mDoMergeOfSlices\u001b[49m\u001b[43m(\u001b[49m\u001b[43mlist_V\u001b[49m\u001b[43m,\u001b[49m\u001b[43m \u001b[49m\u001b[43mlist_S\u001b[49m\u001b[43m,\u001b[49m\u001b[43m \u001b[49m\u001b[43mgamma\u001b[49m\u001b[43m)\u001b[49m\n",
      "File \u001b[1;32m~\\Downloads\\NLA_Project1\\BlockSVD.py:72\u001b[0m, in \u001b[0;36mDoMergeOfSlices\u001b[1;34m(list_U, list_S, gamma)\u001b[0m\n\u001b[0;32m     70\u001b[0m list_S \u001b[38;5;241m=\u001b[39m []\n\u001b[0;32m     71\u001b[0m \u001b[38;5;28;01mfor\u001b[39;00m i \u001b[38;5;129;01min\u001b[39;00m \u001b[38;5;28mrange\u001b[39m(\u001b[38;5;241m1\u001b[39m,N1,\u001b[38;5;241m2\u001b[39m):\n\u001b[1;32m---> 72\u001b[0m     U_j, S_j, _ \u001b[38;5;241m=\u001b[39m \u001b[43mBlockMerge\u001b[49m\u001b[43m(\u001b[49m\u001b[43mlist_Ut\u001b[49m\u001b[43m[\u001b[49m\u001b[43mi\u001b[49m\u001b[38;5;241;43m-\u001b[39;49m\u001b[38;5;241;43m1\u001b[39;49m\u001b[43m]\u001b[49m\u001b[43m,\u001b[49m\u001b[43m \u001b[49m\u001b[43mlist_St\u001b[49m\u001b[43m[\u001b[49m\u001b[43mi\u001b[49m\u001b[38;5;241;43m-\u001b[39;49m\u001b[38;5;241;43m1\u001b[39;49m\u001b[43m]\u001b[49m\u001b[43m,\u001b[49m\u001b[43m \u001b[49m\u001b[43mlist_Ut\u001b[49m\u001b[43m[\u001b[49m\u001b[43mi\u001b[49m\u001b[43m]\u001b[49m\u001b[43m,\u001b[49m\u001b[43m \u001b[49m\u001b[43mlist_St\u001b[49m\u001b[43m[\u001b[49m\u001b[43mi\u001b[49m\u001b[43m]\u001b[49m\u001b[43m,\u001b[49m\u001b[43m \u001b[49m\u001b[43mgamma\u001b[49m\u001b[43m)\u001b[49m\n\u001b[0;32m     73\u001b[0m     list_U\u001b[38;5;241m.\u001b[39mappend(U_j), list_S\u001b[38;5;241m.\u001b[39mappend(S_j)\n\u001b[0;32m     74\u001b[0m \u001b[38;5;28;01mif\u001b[39;00m N1 \u001b[38;5;241m%\u001b[39m \u001b[38;5;241m2\u001b[39m \u001b[38;5;241m==\u001b[39m \u001b[38;5;241m1\u001b[39m:\n",
      "File \u001b[1;32m~\\Downloads\\NLA_Project1\\BlockSVD.py:84\u001b[0m, in \u001b[0;36mBlockMerge\u001b[1;34m(U1, Sigma1, U2, Sigma2, gamma)\u001b[0m\n\u001b[0;32m     81\u001b[0m n_rows \u001b[38;5;241m=\u001b[39m Sigma2\u001b[38;5;241m.\u001b[39mshape[\u001b[38;5;241m0\u001b[39m]\n\u001b[0;32m     82\u001b[0m n_cols \u001b[38;5;241m=\u001b[39m Sigma1\u001b[38;5;241m.\u001b[39mshape[\u001b[38;5;241m0\u001b[39m]\n\u001b[1;32m---> 84\u001b[0m Q \u001b[38;5;241m=\u001b[39m U2 \u001b[38;5;241m-\u001b[39m \u001b[43mU1\u001b[49m\u001b[38;5;129;43m@U1\u001b[39;49m\u001b[38;5;241;43m.\u001b[39;49m\u001b[43mT\u001b[49m\u001b[38;5;129m@U2\u001b[39m\n\u001b[0;32m     85\u001b[0m U0, R \u001b[38;5;241m=\u001b[39m np\u001b[38;5;241m.\u001b[39mlinalg\u001b[38;5;241m.\u001b[39mqr(Q, \u001b[38;5;124m'\u001b[39m\u001b[38;5;124mreduced\u001b[39m\u001b[38;5;124m'\u001b[39m)\n\u001b[0;32m     86\u001b[0m E \u001b[38;5;241m=\u001b[39m np\u001b[38;5;241m.\u001b[39mblock(\n\u001b[0;32m     87\u001b[0m     [[np\u001b[38;5;241m.\u001b[39mdiag(Sigma1), U1\u001b[38;5;241m.\u001b[39mT\u001b[38;5;129m@U2\u001b[39m\u001b[38;5;129m@np\u001b[39m\u001b[38;5;241m.\u001b[39mdiag(Sigma2)], \\\n\u001b[0;32m     88\u001b[0m     [np\u001b[38;5;241m.\u001b[39mzeros((n_rows, n_cols)), R\u001b[38;5;129m@np\u001b[39m\u001b[38;5;241m.\u001b[39mdiag(Sigma2)]]\n\u001b[0;32m     89\u001b[0m             )\n",
      "\u001b[1;31mMemoryError\u001b[0m: Unable to allocate 74.5 GiB for an array with shape (100000, 100000) and data type float64"
     ]
    }
   ],
   "source": [
    "A = construct_matrix(m=1000, n=100000, singular_values=\\\n",
    "np.sort(np.random.rand(50))[::-1])\n",
    "U_aprx, S_aprx, V_aprx = blockSVD(A, 100, 10000, gamma=0.01)\n",
    "quality(A, U_aprx, S_aprx, V_aprx) "
   ]
  },
  {
   "cell_type": "code",
   "execution_count": null,
   "id": "52808c15",
   "metadata": {},
   "outputs": [],
   "source": [
    "# ошибка, число столбцов не может быть слишком большой относительно числа строк. 100x1000 тоже не работает"
   ]
  },
  {
   "cell_type": "code",
   "execution_count": 96,
   "id": "23bc45e5",
   "metadata": {},
   "outputs": [
    {
     "name": "stdout",
     "output_type": "stream",
     "text": [
      "matrix has memory of  762.939453125 megabytes\n"
     ]
    },
    {
     "ename": "MemoryError",
     "evalue": "Unable to allocate 74.5 GiB for an array with shape (100000, 100000) and data type float64",
     "output_type": "error",
     "traceback": [
      "\u001b[1;31m---------------------------------------------------------------------------\u001b[0m",
      "\u001b[1;31mMemoryError\u001b[0m                               Traceback (most recent call last)",
      "Cell \u001b[1;32mIn[96], line 3\u001b[0m\n\u001b[0;32m      1\u001b[0m A \u001b[38;5;241m=\u001b[39m construct_matrix(m\u001b[38;5;241m=\u001b[39m\u001b[38;5;241m1000\u001b[39m, n\u001b[38;5;241m=\u001b[39m\u001b[38;5;241m100000\u001b[39m, singular_values\u001b[38;5;241m=\u001b[39m\\\n\u001b[0;32m      2\u001b[0m np\u001b[38;5;241m.\u001b[39msort(np\u001b[38;5;241m.\u001b[39mrandom\u001b[38;5;241m.\u001b[39mrand(\u001b[38;5;241m50\u001b[39m))[::\u001b[38;5;241m-\u001b[39m\u001b[38;5;241m1\u001b[39m])\n\u001b[1;32m----> 3\u001b[0m U_aprx, S_aprx, V_aprx \u001b[38;5;241m=\u001b[39m \u001b[43mblockSVD\u001b[49m\u001b[43m(\u001b[49m\u001b[43mA\u001b[49m\u001b[43m,\u001b[49m\u001b[43m \u001b[49m\u001b[38;5;241;43m100\u001b[39;49m\u001b[43m,\u001b[49m\u001b[43m \u001b[49m\u001b[38;5;241;43m100\u001b[39;49m\u001b[43m,\u001b[49m\u001b[43m \u001b[49m\u001b[43mgamma\u001b[49m\u001b[38;5;241;43m=\u001b[39;49m\u001b[38;5;241;43m0.01\u001b[39;49m\u001b[43m)\u001b[49m\n\u001b[0;32m      4\u001b[0m quality(A, U_aprx, S_aprx, V_aprx)\n",
      "File \u001b[1;32m~\\Downloads\\NLA_Project1\\BlockSVD.py:13\u001b[0m, in \u001b[0;36mtimeit.<locals>.wrapper\u001b[1;34m(*args, **kwargs)\u001b[0m\n\u001b[0;32m     11\u001b[0m \u001b[38;5;28;01mdef\u001b[39;00m \u001b[38;5;21mwrapper\u001b[39m(\u001b[38;5;241m*\u001b[39margs, \u001b[38;5;241m*\u001b[39m\u001b[38;5;241m*\u001b[39mkwargs):\n\u001b[0;32m     12\u001b[0m     start_time \u001b[38;5;241m=\u001b[39m time\u001b[38;5;241m.\u001b[39mtime()\n\u001b[1;32m---> 13\u001b[0m     result \u001b[38;5;241m=\u001b[39m func(\u001b[38;5;241m*\u001b[39margs, \u001b[38;5;241m*\u001b[39m\u001b[38;5;241m*\u001b[39mkwargs)\n\u001b[0;32m     14\u001b[0m     end_time \u001b[38;5;241m=\u001b[39m time\u001b[38;5;241m.\u001b[39mtime()\n\u001b[0;32m     15\u001b[0m     \u001b[38;5;28mprint\u001b[39m(\u001b[38;5;124mf\u001b[39m\u001b[38;5;124m\"\u001b[39m\u001b[38;5;124mexecution time: \u001b[39m\u001b[38;5;132;01m{\u001b[39;00mend_time \u001b[38;5;241m-\u001b[39m start_time\u001b[38;5;132;01m}\u001b[39;00m\u001b[38;5;124m seconds\u001b[39m\u001b[38;5;124m\"\u001b[39m)\n",
      "File \u001b[1;32m~\\Downloads\\NLA_Project1\\BlockSVD.py:27\u001b[0m, in \u001b[0;36mblockSVD\u001b[1;34m(A, d, c, gamma)\u001b[0m\n\u001b[0;32m     25\u001b[0m \u001b[38;5;129m@timeit\u001b[39m\n\u001b[0;32m     26\u001b[0m \u001b[38;5;28;01mdef\u001b[39;00m \u001b[38;5;21mblockSVD\u001b[39m(A, d, c, gamma \u001b[38;5;241m=\u001b[39m \u001b[38;5;241m0.0000001\u001b[39m):\n\u001b[1;32m---> 27\u001b[0m     V_hat, S_hat \u001b[38;5;241m=\u001b[39m \u001b[43mDoSVDofBlocks\u001b[49m\u001b[43m(\u001b[49m\u001b[43mA\u001b[49m\u001b[43m,\u001b[49m\u001b[43m \u001b[49m\u001b[43md\u001b[49m\u001b[43m,\u001b[49m\u001b[43m \u001b[49m\u001b[43mc\u001b[49m\u001b[43m,\u001b[49m\u001b[43m \u001b[49m\u001b[43mgamma\u001b[49m\u001b[43m)\u001b[49m\n\u001b[0;32m     28\u001b[0m     U_hat, S_hat, V_hat \u001b[38;5;241m=\u001b[39m Iter_improve(A, V_hat, S_hat, gamma)\n\u001b[0;32m     29\u001b[0m     \u001b[38;5;28mprint\u001b[39m(\u001b[38;5;124m\"\u001b[39m\u001b[38;5;124mrank of matrix approximation is: \u001b[39m\u001b[38;5;124m\"\u001b[39m, S_hat\u001b[38;5;241m.\u001b[39mshape[\u001b[38;5;241m0\u001b[39m])\n",
      "File \u001b[1;32m~\\Downloads\\NLA_Project1\\BlockSVD.py:47\u001b[0m, in \u001b[0;36mDoSVDofBlocks\u001b[1;34m(A, d, c, gamma)\u001b[0m\n\u001b[0;32m     45\u001b[0m     _, S_j, VT_j \u001b[38;5;241m=\u001b[39m tr_SVD(U_j\u001b[38;5;241m.\u001b[39mT\u001b[38;5;129m@list_X\u001b[39m[j], gamma)\n\u001b[0;32m     46\u001b[0m     list_V\u001b[38;5;241m.\u001b[39mappend(VT_j\u001b[38;5;241m.\u001b[39mT), list_S\u001b[38;5;241m.\u001b[39mappend(S_j) \u001b[38;5;66;03m#calculating V, not V.T!\u001b[39;00m\n\u001b[1;32m---> 47\u001b[0m \u001b[38;5;28;01mreturn\u001b[39;00m \u001b[43mDoMergeOfSlices\u001b[49m\u001b[43m(\u001b[49m\u001b[43mlist_V\u001b[49m\u001b[43m,\u001b[49m\u001b[43m \u001b[49m\u001b[43mlist_S\u001b[49m\u001b[43m,\u001b[49m\u001b[43m \u001b[49m\u001b[43mgamma\u001b[49m\u001b[43m)\u001b[49m\n",
      "File \u001b[1;32m~\\Downloads\\NLA_Project1\\BlockSVD.py:72\u001b[0m, in \u001b[0;36mDoMergeOfSlices\u001b[1;34m(list_U, list_S, gamma)\u001b[0m\n\u001b[0;32m     70\u001b[0m list_S \u001b[38;5;241m=\u001b[39m []\n\u001b[0;32m     71\u001b[0m \u001b[38;5;28;01mfor\u001b[39;00m i \u001b[38;5;129;01min\u001b[39;00m \u001b[38;5;28mrange\u001b[39m(\u001b[38;5;241m1\u001b[39m,N1,\u001b[38;5;241m2\u001b[39m):\n\u001b[1;32m---> 72\u001b[0m     U_j, S_j, _ \u001b[38;5;241m=\u001b[39m \u001b[43mBlockMerge\u001b[49m\u001b[43m(\u001b[49m\u001b[43mlist_Ut\u001b[49m\u001b[43m[\u001b[49m\u001b[43mi\u001b[49m\u001b[38;5;241;43m-\u001b[39;49m\u001b[38;5;241;43m1\u001b[39;49m\u001b[43m]\u001b[49m\u001b[43m,\u001b[49m\u001b[43m \u001b[49m\u001b[43mlist_St\u001b[49m\u001b[43m[\u001b[49m\u001b[43mi\u001b[49m\u001b[38;5;241;43m-\u001b[39;49m\u001b[38;5;241;43m1\u001b[39;49m\u001b[43m]\u001b[49m\u001b[43m,\u001b[49m\u001b[43m \u001b[49m\u001b[43mlist_Ut\u001b[49m\u001b[43m[\u001b[49m\u001b[43mi\u001b[49m\u001b[43m]\u001b[49m\u001b[43m,\u001b[49m\u001b[43m \u001b[49m\u001b[43mlist_St\u001b[49m\u001b[43m[\u001b[49m\u001b[43mi\u001b[49m\u001b[43m]\u001b[49m\u001b[43m,\u001b[49m\u001b[43m \u001b[49m\u001b[43mgamma\u001b[49m\u001b[43m)\u001b[49m\n\u001b[0;32m     73\u001b[0m     list_U\u001b[38;5;241m.\u001b[39mappend(U_j), list_S\u001b[38;5;241m.\u001b[39mappend(S_j)\n\u001b[0;32m     74\u001b[0m \u001b[38;5;28;01mif\u001b[39;00m N1 \u001b[38;5;241m%\u001b[39m \u001b[38;5;241m2\u001b[39m \u001b[38;5;241m==\u001b[39m \u001b[38;5;241m1\u001b[39m:\n",
      "File \u001b[1;32m~\\Downloads\\NLA_Project1\\BlockSVD.py:84\u001b[0m, in \u001b[0;36mBlockMerge\u001b[1;34m(U1, Sigma1, U2, Sigma2, gamma)\u001b[0m\n\u001b[0;32m     81\u001b[0m n_rows \u001b[38;5;241m=\u001b[39m Sigma2\u001b[38;5;241m.\u001b[39mshape[\u001b[38;5;241m0\u001b[39m]\n\u001b[0;32m     82\u001b[0m n_cols \u001b[38;5;241m=\u001b[39m Sigma1\u001b[38;5;241m.\u001b[39mshape[\u001b[38;5;241m0\u001b[39m]\n\u001b[1;32m---> 84\u001b[0m Q \u001b[38;5;241m=\u001b[39m U2 \u001b[38;5;241m-\u001b[39m \u001b[43mU1\u001b[49m\u001b[38;5;129;43m@U1\u001b[39;49m\u001b[38;5;241;43m.\u001b[39;49m\u001b[43mT\u001b[49m\u001b[38;5;129m@U2\u001b[39m\n\u001b[0;32m     85\u001b[0m U0, R \u001b[38;5;241m=\u001b[39m np\u001b[38;5;241m.\u001b[39mlinalg\u001b[38;5;241m.\u001b[39mqr(Q, \u001b[38;5;124m'\u001b[39m\u001b[38;5;124mreduced\u001b[39m\u001b[38;5;124m'\u001b[39m)\n\u001b[0;32m     86\u001b[0m E \u001b[38;5;241m=\u001b[39m np\u001b[38;5;241m.\u001b[39mblock(\n\u001b[0;32m     87\u001b[0m     [[np\u001b[38;5;241m.\u001b[39mdiag(Sigma1), U1\u001b[38;5;241m.\u001b[39mT\u001b[38;5;129m@U2\u001b[39m\u001b[38;5;129m@np\u001b[39m\u001b[38;5;241m.\u001b[39mdiag(Sigma2)], \\\n\u001b[0;32m     88\u001b[0m     [np\u001b[38;5;241m.\u001b[39mzeros((n_rows, n_cols)), R\u001b[38;5;129m@np\u001b[39m\u001b[38;5;241m.\u001b[39mdiag(Sigma2)]]\n\u001b[0;32m     89\u001b[0m             )\n",
      "\u001b[1;31mMemoryError\u001b[0m: Unable to allocate 74.5 GiB for an array with shape (100000, 100000) and data type float64"
     ]
    }
   ],
   "source": [
    "A = construct_matrix(m=1000, n=100000, singular_values=\\\n",
    "np.sort(np.random.rand(50))[::-1])\n",
    "U_aprx, S_aprx, V_aprx = blockSVD(A, 100, 100, gamma=0.01)\n",
    "quality(A, U_aprx, S_aprx, V_aprx) "
   ]
  },
  {
   "cell_type": "code",
   "execution_count": 8,
   "id": "466581b5",
   "metadata": {},
   "outputs": [
    {
     "name": "stdout",
     "output_type": "stream",
     "text": [
      "matrix has memory of  762.939453125 megabytes\n"
     ]
    },
    {
     "ename": "MemoryError",
     "evalue": "Unable to allocate 74.5 GiB for an array with shape (100000, 100000) and data type float64",
     "output_type": "error",
     "traceback": [
      "\u001b[1;31m---------------------------------------------------------------------------\u001b[0m",
      "\u001b[1;31mMemoryError\u001b[0m                               Traceback (most recent call last)",
      "Cell \u001b[1;32mIn[8], line 3\u001b[0m\n\u001b[0;32m      1\u001b[0m A \u001b[38;5;241m=\u001b[39m construct_matrix(m\u001b[38;5;241m=\u001b[39m\u001b[38;5;241m1000\u001b[39m, n\u001b[38;5;241m=\u001b[39m\u001b[38;5;241m100000\u001b[39m, singular_values\u001b[38;5;241m=\u001b[39m\\\n\u001b[0;32m      2\u001b[0m np\u001b[38;5;241m.\u001b[39msort(np\u001b[38;5;241m.\u001b[39mrandom\u001b[38;5;241m.\u001b[39mrand(\u001b[38;5;241m50\u001b[39m))[::\u001b[38;5;241m-\u001b[39m\u001b[38;5;241m1\u001b[39m])\n\u001b[1;32m----> 3\u001b[0m U_aprx, S_aprx, V_aprx \u001b[38;5;241m=\u001b[39m \u001b[43mblockSVD\u001b[49m\u001b[43m(\u001b[49m\u001b[43mA\u001b[49m\u001b[43m,\u001b[49m\u001b[43m \u001b[49m\u001b[38;5;241;43m100\u001b[39;49m\u001b[43m,\u001b[49m\u001b[43m \u001b[49m\u001b[38;5;241;43m100\u001b[39;49m\u001b[43m,\u001b[49m\u001b[43m \u001b[49m\u001b[43mgamma\u001b[49m\u001b[38;5;241;43m=\u001b[39;49m\u001b[38;5;241;43m0.01\u001b[39;49m\u001b[43m)\u001b[49m\n\u001b[0;32m      4\u001b[0m quality(A, U_aprx, S_aprx, V_aprx)\n",
      "File \u001b[1;32m~\\Downloads\\NLA_Project1\\BlockSVD.py:13\u001b[0m, in \u001b[0;36mtimeit.<locals>.wrapper\u001b[1;34m(*args, **kwargs)\u001b[0m\n\u001b[0;32m     11\u001b[0m \u001b[38;5;28;01mdef\u001b[39;00m \u001b[38;5;21mwrapper\u001b[39m(\u001b[38;5;241m*\u001b[39margs, \u001b[38;5;241m*\u001b[39m\u001b[38;5;241m*\u001b[39mkwargs):\n\u001b[0;32m     12\u001b[0m     start_time \u001b[38;5;241m=\u001b[39m time\u001b[38;5;241m.\u001b[39mtime()\n\u001b[1;32m---> 13\u001b[0m     result \u001b[38;5;241m=\u001b[39m func(\u001b[38;5;241m*\u001b[39margs, \u001b[38;5;241m*\u001b[39m\u001b[38;5;241m*\u001b[39mkwargs)\n\u001b[0;32m     14\u001b[0m     end_time \u001b[38;5;241m=\u001b[39m time\u001b[38;5;241m.\u001b[39mtime()\n\u001b[0;32m     15\u001b[0m     \u001b[38;5;28mprint\u001b[39m(\u001b[38;5;124mf\u001b[39m\u001b[38;5;124m\"\u001b[39m\u001b[38;5;124mexecution time: \u001b[39m\u001b[38;5;132;01m{\u001b[39;00mend_time \u001b[38;5;241m-\u001b[39m start_time\u001b[38;5;132;01m}\u001b[39;00m\u001b[38;5;124m seconds\u001b[39m\u001b[38;5;124m\"\u001b[39m)\n",
      "File \u001b[1;32m~\\Downloads\\NLA_Project1\\BlockSVD.py:27\u001b[0m, in \u001b[0;36mblockSVD\u001b[1;34m(A, d, c, gamma)\u001b[0m\n\u001b[0;32m     25\u001b[0m \u001b[38;5;129m@timeit\u001b[39m\n\u001b[0;32m     26\u001b[0m \u001b[38;5;28;01mdef\u001b[39;00m \u001b[38;5;21mblockSVD\u001b[39m(A, d, c, gamma \u001b[38;5;241m=\u001b[39m \u001b[38;5;241m0.0000001\u001b[39m):\n\u001b[1;32m---> 27\u001b[0m     V_hat, S_hat \u001b[38;5;241m=\u001b[39m \u001b[43mDoSVDofBlocks\u001b[49m\u001b[43m(\u001b[49m\u001b[43mA\u001b[49m\u001b[43m,\u001b[49m\u001b[43m \u001b[49m\u001b[43md\u001b[49m\u001b[43m,\u001b[49m\u001b[43m \u001b[49m\u001b[43mc\u001b[49m\u001b[43m,\u001b[49m\u001b[43m \u001b[49m\u001b[43mgamma\u001b[49m\u001b[43m)\u001b[49m\n\u001b[0;32m     28\u001b[0m     U_hat, S_hat, V_hat \u001b[38;5;241m=\u001b[39m Iter_improve(A, V_hat, S_hat, gamma)\n\u001b[0;32m     29\u001b[0m     \u001b[38;5;28mprint\u001b[39m(\u001b[38;5;124m\"\u001b[39m\u001b[38;5;124mrank of matrix approximation is: \u001b[39m\u001b[38;5;124m\"\u001b[39m, S_hat\u001b[38;5;241m.\u001b[39mshape[\u001b[38;5;241m0\u001b[39m])\n",
      "File \u001b[1;32m~\\Downloads\\NLA_Project1\\BlockSVD.py:47\u001b[0m, in \u001b[0;36mDoSVDofBlocks\u001b[1;34m(A, d, c, gamma)\u001b[0m\n\u001b[0;32m     45\u001b[0m     _, S_j, VT_j \u001b[38;5;241m=\u001b[39m tr_SVD(U_j\u001b[38;5;241m.\u001b[39mT\u001b[38;5;129m@list_X\u001b[39m[j], gamma)\n\u001b[0;32m     46\u001b[0m     list_V\u001b[38;5;241m.\u001b[39mappend(VT_j\u001b[38;5;241m.\u001b[39mT), list_S\u001b[38;5;241m.\u001b[39mappend(S_j) \u001b[38;5;66;03m#calculating V, not V.T!\u001b[39;00m\n\u001b[1;32m---> 47\u001b[0m \u001b[38;5;28;01mreturn\u001b[39;00m \u001b[43mDoMergeOfSlices\u001b[49m\u001b[43m(\u001b[49m\u001b[43mlist_V\u001b[49m\u001b[43m,\u001b[49m\u001b[43m \u001b[49m\u001b[43mlist_S\u001b[49m\u001b[43m,\u001b[49m\u001b[43m \u001b[49m\u001b[43mgamma\u001b[49m\u001b[43m)\u001b[49m\n",
      "File \u001b[1;32m~\\Downloads\\NLA_Project1\\BlockSVD.py:72\u001b[0m, in \u001b[0;36mDoMergeOfSlices\u001b[1;34m(list_U, list_S, gamma)\u001b[0m\n\u001b[0;32m     70\u001b[0m list_S \u001b[38;5;241m=\u001b[39m []\n\u001b[0;32m     71\u001b[0m \u001b[38;5;28;01mfor\u001b[39;00m i \u001b[38;5;129;01min\u001b[39;00m \u001b[38;5;28mrange\u001b[39m(\u001b[38;5;241m1\u001b[39m,N1,\u001b[38;5;241m2\u001b[39m):\n\u001b[1;32m---> 72\u001b[0m     U_j, S_j, _ \u001b[38;5;241m=\u001b[39m \u001b[43mBlockMerge\u001b[49m\u001b[43m(\u001b[49m\u001b[43mlist_Ut\u001b[49m\u001b[43m[\u001b[49m\u001b[43mi\u001b[49m\u001b[38;5;241;43m-\u001b[39;49m\u001b[38;5;241;43m1\u001b[39;49m\u001b[43m]\u001b[49m\u001b[43m,\u001b[49m\u001b[43m \u001b[49m\u001b[43mlist_St\u001b[49m\u001b[43m[\u001b[49m\u001b[43mi\u001b[49m\u001b[38;5;241;43m-\u001b[39;49m\u001b[38;5;241;43m1\u001b[39;49m\u001b[43m]\u001b[49m\u001b[43m,\u001b[49m\u001b[43m \u001b[49m\u001b[43mlist_Ut\u001b[49m\u001b[43m[\u001b[49m\u001b[43mi\u001b[49m\u001b[43m]\u001b[49m\u001b[43m,\u001b[49m\u001b[43m \u001b[49m\u001b[43mlist_St\u001b[49m\u001b[43m[\u001b[49m\u001b[43mi\u001b[49m\u001b[43m]\u001b[49m\u001b[43m,\u001b[49m\u001b[43m \u001b[49m\u001b[43mgamma\u001b[49m\u001b[43m)\u001b[49m\n\u001b[0;32m     73\u001b[0m     list_U\u001b[38;5;241m.\u001b[39mappend(U_j), list_S\u001b[38;5;241m.\u001b[39mappend(S_j)\n\u001b[0;32m     74\u001b[0m \u001b[38;5;28;01mif\u001b[39;00m N1 \u001b[38;5;241m%\u001b[39m \u001b[38;5;241m2\u001b[39m \u001b[38;5;241m==\u001b[39m \u001b[38;5;241m1\u001b[39m:\n",
      "File \u001b[1;32m~\\Downloads\\NLA_Project1\\BlockSVD.py:84\u001b[0m, in \u001b[0;36mBlockMerge\u001b[1;34m(U1, Sigma1, U2, Sigma2, gamma)\u001b[0m\n\u001b[0;32m     81\u001b[0m n_rows \u001b[38;5;241m=\u001b[39m Sigma2\u001b[38;5;241m.\u001b[39mshape[\u001b[38;5;241m0\u001b[39m]\n\u001b[0;32m     82\u001b[0m n_cols \u001b[38;5;241m=\u001b[39m Sigma1\u001b[38;5;241m.\u001b[39mshape[\u001b[38;5;241m0\u001b[39m]\n\u001b[1;32m---> 84\u001b[0m Q \u001b[38;5;241m=\u001b[39m U2 \u001b[38;5;241m-\u001b[39m \u001b[43mU1\u001b[49m\u001b[38;5;129;43m@U1\u001b[39;49m\u001b[38;5;241;43m.\u001b[39;49m\u001b[43mT\u001b[49m\u001b[38;5;129m@U2\u001b[39m\n\u001b[0;32m     85\u001b[0m U0, R \u001b[38;5;241m=\u001b[39m np\u001b[38;5;241m.\u001b[39mlinalg\u001b[38;5;241m.\u001b[39mqr(Q, \u001b[38;5;124m'\u001b[39m\u001b[38;5;124mreduced\u001b[39m\u001b[38;5;124m'\u001b[39m)\n\u001b[0;32m     86\u001b[0m E \u001b[38;5;241m=\u001b[39m np\u001b[38;5;241m.\u001b[39mblock(\n\u001b[0;32m     87\u001b[0m     [[np\u001b[38;5;241m.\u001b[39mdiag(Sigma1), U1\u001b[38;5;241m.\u001b[39mT\u001b[38;5;129m@U2\u001b[39m\u001b[38;5;129m@np\u001b[39m\u001b[38;5;241m.\u001b[39mdiag(Sigma2)], \\\n\u001b[0;32m     88\u001b[0m     [np\u001b[38;5;241m.\u001b[39mzeros((n_rows, n_cols)), R\u001b[38;5;129m@np\u001b[39m\u001b[38;5;241m.\u001b[39mdiag(Sigma2)]]\n\u001b[0;32m     89\u001b[0m             )\n",
      "\u001b[1;31mMemoryError\u001b[0m: Unable to allocate 74.5 GiB for an array with shape (100000, 100000) and data type float64"
     ]
    }
   ],
   "source": [
    "A = construct_matrix(m=1000, n=100000, singular_values=\\\n",
    "np.sort(np.random.rand(50))[::-1])\n",
    "U_aprx, S_aprx, V_aprx = blockSVD(A, 100, 100, gamma=0.01)\n",
    "quality(A, U_aprx, S_aprx, V_aprx) "
   ]
  },
  {
   "cell_type": "code",
   "execution_count": 13,
   "id": "fe85ae77",
   "metadata": {},
   "outputs": [
    {
     "name": "stdout",
     "output_type": "stream",
     "text": [
      "matrix has memory of  7629.39453125 megabytes\n",
      "rank of matrix approximation is:  50\n",
      "execution time: 400.6256878376007 seconds\n",
      "relative error is:  2.6698375614245413e-15\n"
     ]
    },
    {
     "ename": "MemoryError",
     "evalue": "Unable to allocate 7.45 GiB for an array with shape (10000, 100000) and data type float64",
     "output_type": "error",
     "traceback": [
      "\u001b[1;31m---------------------------------------------------------------------------\u001b[0m",
      "\u001b[1;31mMemoryError\u001b[0m                               Traceback (most recent call last)",
      "Cell \u001b[1;32mIn[13], line 4\u001b[0m\n\u001b[0;32m      1\u001b[0m A \u001b[38;5;241m=\u001b[39m construct_matrix(m\u001b[38;5;241m=\u001b[39m\u001b[38;5;241m10000\u001b[39m, n\u001b[38;5;241m=\u001b[39m\u001b[38;5;241m100000\u001b[39m, singular_values\u001b[38;5;241m=\u001b[39m\\\n\u001b[0;32m      2\u001b[0m np\u001b[38;5;241m.\u001b[39msort(np\u001b[38;5;241m.\u001b[39mrandom\u001b[38;5;241m.\u001b[39mrand(\u001b[38;5;241m50\u001b[39m))[::\u001b[38;5;241m-\u001b[39m\u001b[38;5;241m1\u001b[39m])\n\u001b[0;32m      3\u001b[0m U_aprx, S_aprx, V_aprx \u001b[38;5;241m=\u001b[39m blockSVD(A, \u001b[38;5;241m10000\u001b[39m, \u001b[38;5;241m1000\u001b[39m, gamma\u001b[38;5;241m=\u001b[39m\u001b[38;5;241m0.01\u001b[39m)\n\u001b[1;32m----> 4\u001b[0m \u001b[43mquality\u001b[49m\u001b[43m(\u001b[49m\u001b[43mA\u001b[49m\u001b[43m,\u001b[49m\u001b[43m \u001b[49m\u001b[43mU_aprx\u001b[49m\u001b[43m,\u001b[49m\u001b[43m \u001b[49m\u001b[43mS_aprx\u001b[49m\u001b[43m,\u001b[49m\u001b[43m \u001b[49m\u001b[43mV_aprx\u001b[49m\u001b[43m)\u001b[49m\n",
      "File \u001b[1;32m~\\Downloads\\NLA_Project1\\BlockSVD.py:177\u001b[0m, in \u001b[0;36mquality\u001b[1;34m(A, U_aprx, S_aprx, V_aprx)\u001b[0m\n\u001b[0;32m    175\u001b[0m \u001b[38;5;28;01mdef\u001b[39;00m \u001b[38;5;21mquality\u001b[39m(A, U_aprx, S_aprx, V_aprx):\n\u001b[0;32m    176\u001b[0m     \u001b[38;5;28mprint\u001b[39m(\u001b[38;5;124m'\u001b[39m\u001b[38;5;124mrelative error is: \u001b[39m\u001b[38;5;124m'\u001b[39m, np\u001b[38;5;241m.\u001b[39mlinalg\u001b[38;5;241m.\u001b[39mnorm(U_aprx\u001b[38;5;129m@np\u001b[39m\u001b[38;5;241m.\u001b[39mdiag(S_aprx)\u001b[38;5;129m@V_aprx\u001b[39m\u001b[38;5;241m.\u001b[39mT \u001b[38;5;241m-\u001b[39m A)\u001b[38;5;241m/\u001b[39mnp\u001b[38;5;241m.\u001b[39mlinalg\u001b[38;5;241m.\u001b[39mnorm(A))\n\u001b[1;32m--> 177\u001b[0m     \u001b[38;5;28mprint\u001b[39m(\u001b[38;5;124m\"\u001b[39m\u001b[38;5;124mnp.allclose is: \u001b[39m\u001b[38;5;124m\"\u001b[39m, \u001b[43mnp\u001b[49m\u001b[38;5;241;43m.\u001b[39;49m\u001b[43mallclose\u001b[49m\u001b[43m(\u001b[49m\u001b[43mU_aprx\u001b[49m\u001b[38;5;129;43m@np\u001b[39;49m\u001b[38;5;241;43m.\u001b[39;49m\u001b[43mdiag\u001b[49m\u001b[43m(\u001b[49m\u001b[43mS_aprx\u001b[49m\u001b[43m)\u001b[49m\u001b[38;5;129;43m@V_aprx\u001b[39;49m\u001b[38;5;241;43m.\u001b[39;49m\u001b[43mT\u001b[49m\u001b[43m,\u001b[49m\u001b[43m \u001b[49m\u001b[43mA\u001b[49m\u001b[43m)\u001b[49m)\n",
      "File \u001b[1;32m<__array_function__ internals>:180\u001b[0m, in \u001b[0;36mallclose\u001b[1;34m(*args, **kwargs)\u001b[0m\n",
      "File \u001b[1;32m~\\anaconda3\\lib\\site-packages\\numpy\\core\\numeric.py:2265\u001b[0m, in \u001b[0;36mallclose\u001b[1;34m(a, b, rtol, atol, equal_nan)\u001b[0m\n\u001b[0;32m   2194\u001b[0m \u001b[38;5;129m@array_function_dispatch\u001b[39m(_allclose_dispatcher)\n\u001b[0;32m   2195\u001b[0m \u001b[38;5;28;01mdef\u001b[39;00m \u001b[38;5;21mallclose\u001b[39m(a, b, rtol\u001b[38;5;241m=\u001b[39m\u001b[38;5;241m1.e-5\u001b[39m, atol\u001b[38;5;241m=\u001b[39m\u001b[38;5;241m1.e-8\u001b[39m, equal_nan\u001b[38;5;241m=\u001b[39m\u001b[38;5;28;01mFalse\u001b[39;00m):\n\u001b[0;32m   2196\u001b[0m     \u001b[38;5;124;03m\"\"\"\u001b[39;00m\n\u001b[0;32m   2197\u001b[0m \u001b[38;5;124;03m    Returns True if two arrays are element-wise equal within a tolerance.\u001b[39;00m\n\u001b[0;32m   2198\u001b[0m \n\u001b[1;32m   (...)\u001b[0m\n\u001b[0;32m   2263\u001b[0m \n\u001b[0;32m   2264\u001b[0m \u001b[38;5;124;03m    \"\"\"\u001b[39;00m\n\u001b[1;32m-> 2265\u001b[0m     res \u001b[38;5;241m=\u001b[39m \u001b[38;5;28mall\u001b[39m(\u001b[43misclose\u001b[49m\u001b[43m(\u001b[49m\u001b[43ma\u001b[49m\u001b[43m,\u001b[49m\u001b[43m \u001b[49m\u001b[43mb\u001b[49m\u001b[43m,\u001b[49m\u001b[43m \u001b[49m\u001b[43mrtol\u001b[49m\u001b[38;5;241;43m=\u001b[39;49m\u001b[43mrtol\u001b[49m\u001b[43m,\u001b[49m\u001b[43m \u001b[49m\u001b[43matol\u001b[49m\u001b[38;5;241;43m=\u001b[39;49m\u001b[43matol\u001b[49m\u001b[43m,\u001b[49m\u001b[43m \u001b[49m\u001b[43mequal_nan\u001b[49m\u001b[38;5;241;43m=\u001b[39;49m\u001b[43mequal_nan\u001b[49m\u001b[43m)\u001b[49m)\n\u001b[0;32m   2266\u001b[0m     \u001b[38;5;28;01mreturn\u001b[39;00m \u001b[38;5;28mbool\u001b[39m(res)\n",
      "File \u001b[1;32m<__array_function__ internals>:180\u001b[0m, in \u001b[0;36misclose\u001b[1;34m(*args, **kwargs)\u001b[0m\n",
      "File \u001b[1;32m~\\anaconda3\\lib\\site-packages\\numpy\\core\\numeric.py:2375\u001b[0m, in \u001b[0;36misclose\u001b[1;34m(a, b, rtol, atol, equal_nan)\u001b[0m\n\u001b[0;32m   2373\u001b[0m yfin \u001b[38;5;241m=\u001b[39m isfinite(y)\n\u001b[0;32m   2374\u001b[0m \u001b[38;5;28;01mif\u001b[39;00m \u001b[38;5;28mall\u001b[39m(xfin) \u001b[38;5;129;01mand\u001b[39;00m \u001b[38;5;28mall\u001b[39m(yfin):\n\u001b[1;32m-> 2375\u001b[0m     \u001b[38;5;28;01mreturn\u001b[39;00m \u001b[43mwithin_tol\u001b[49m\u001b[43m(\u001b[49m\u001b[43mx\u001b[49m\u001b[43m,\u001b[49m\u001b[43m \u001b[49m\u001b[43my\u001b[49m\u001b[43m,\u001b[49m\u001b[43m \u001b[49m\u001b[43matol\u001b[49m\u001b[43m,\u001b[49m\u001b[43m \u001b[49m\u001b[43mrtol\u001b[49m\u001b[43m)\u001b[49m\n\u001b[0;32m   2376\u001b[0m \u001b[38;5;28;01melse\u001b[39;00m:\n\u001b[0;32m   2377\u001b[0m     finite \u001b[38;5;241m=\u001b[39m xfin \u001b[38;5;241m&\u001b[39m yfin\n",
      "File \u001b[1;32m~\\anaconda3\\lib\\site-packages\\numpy\\core\\numeric.py:2356\u001b[0m, in \u001b[0;36misclose.<locals>.within_tol\u001b[1;34m(x, y, atol, rtol)\u001b[0m\n\u001b[0;32m   2354\u001b[0m \u001b[38;5;28;01mdef\u001b[39;00m \u001b[38;5;21mwithin_tol\u001b[39m(x, y, atol, rtol):\n\u001b[0;32m   2355\u001b[0m     \u001b[38;5;28;01mwith\u001b[39;00m errstate(invalid\u001b[38;5;241m=\u001b[39m\u001b[38;5;124m'\u001b[39m\u001b[38;5;124mignore\u001b[39m\u001b[38;5;124m'\u001b[39m):\n\u001b[1;32m-> 2356\u001b[0m         \u001b[38;5;28;01mreturn\u001b[39;00m less_equal(\u001b[38;5;28mabs\u001b[39m(\u001b[43mx\u001b[49m\u001b[38;5;241;43m-\u001b[39;49m\u001b[43my\u001b[49m), atol \u001b[38;5;241m+\u001b[39m rtol \u001b[38;5;241m*\u001b[39m \u001b[38;5;28mabs\u001b[39m(y))\n",
      "\u001b[1;31mMemoryError\u001b[0m: Unable to allocate 7.45 GiB for an array with shape (10000, 100000) and data type float64"
     ]
    }
   ],
   "source": [
    "A = construct_matrix(m=10000, n=100000, singular_values=\\\n",
    "np.sort(np.random.rand(50))[::-1])\n",
    "U_aprx, S_aprx, V_aprx = blockSVD(A, 10000, 1000, gamma=0.01)\n",
    "quality(A, U_aprx, S_aprx, V_aprx) "
   ]
  },
  {
   "cell_type": "code",
   "execution_count": null,
   "id": "269de987",
   "metadata": {},
   "outputs": [
    {
     "name": "stdout",
     "output_type": "stream",
     "text": [
      "matrix has memory of  7629.39453125 megabytes\n"
     ]
    }
   ],
   "source": [
    "A = construct_matrix(m=10000, n=100000, singular_values=\\\n",
    "np.sort(np.random.rand(50))[::-1])\n",
    "timeit(np.linalg.svd)(A, full_matrices = False) #считался 40 минут, так и не досчитался"
   ]
  },
  {
   "cell_type": "code",
   "execution_count": 7,
   "id": "5466d54e",
   "metadata": {
    "scrolled": false
   },
   "outputs": [
    {
     "name": "stdout",
     "output_type": "stream",
     "text": [
      "matrix has memory of  762.939453125 megabytes\n",
      "execution time: 2.3006808757781982 seconds\n"
     ]
    },
    {
     "data": {
      "text/plain": [
       "(array([[-2.05093529e-04,  5.54990937e-04,  1.50421395e-04, ...,\n",
       "          1.55865532e-02,  1.39510158e-01,  7.44419103e-02],\n",
       "        [-8.54206670e-05, -4.87824287e-05,  7.09777168e-04, ...,\n",
       "          3.98941940e-02,  5.80642156e-02,  4.64002135e-02],\n",
       "        [-1.12718141e-05,  7.90771990e-04,  3.73970337e-04, ...,\n",
       "          7.71514666e-01, -4.37330890e-01,  3.26050908e-01],\n",
       "        ...,\n",
       "        [-3.47000586e-04,  3.89795268e-04, -2.91691025e-04, ...,\n",
       "         -4.76764233e-05,  1.86408576e-04,  4.07070543e-05],\n",
       "        [-1.14325668e-04,  2.75739153e-04,  5.57624088e-04, ...,\n",
       "         -1.47530186e-05, -5.30555837e-05, -2.33793446e-06],\n",
       "        [-3.63089808e-05,  3.12180858e-04,  2.02645786e-04, ...,\n",
       "         -1.62460627e-05, -3.02950400e-05, -8.24181238e-05]]),\n",
       " array([9.62748423e-01, 3.28161439e-01, 2.23365007e-01, 1.53910495e-01,\n",
       "        8.70453252e-02, 7.85542229e-16, 2.52170720e-16, 2.32431308e-16,\n",
       "        1.09931645e-16, 8.13748806e-17]),\n",
       " array([[-0.42892598, -0.44603139, -0.42975106, -0.02276353, -0.23762734,\n",
       "         -0.28945915, -0.09709944, -0.3630553 , -0.38746496, -0.01595155],\n",
       "        [ 0.28320967, -0.0613305 ,  0.22082911, -0.39381205, -0.12926639,\n",
       "         -0.30904252, -0.69359723, -0.23354447,  0.24130976, -0.07816524],\n",
       "        [ 0.11574414, -0.20024035,  0.08690222,  0.13129131,  0.19262907,\n",
       "         -0.3811241 ,  0.42363834, -0.45075109,  0.46565616,  0.37399801],\n",
       "        [-0.14479622,  0.1778775 , -0.25147422, -0.61362456, -0.4193001 ,\n",
       "         -0.10024554,  0.25584189,  0.31183791,  0.2329004 ,  0.3237545 ],\n",
       "        [-0.17047005, -0.4394714 ,  0.22147339,  0.3304239 , -0.18566143,\n",
       "          0.13448764, -0.31838057,  0.38932912,  0.13554506,  0.54378446],\n",
       "        [-0.36630572, -0.14030058, -0.36513173,  0.0060034 ,  0.42220449,\n",
       "         -0.0474579 , -0.16566688,  0.2570132 ,  0.56320773, -0.34866246],\n",
       "        [ 0.09473278,  0.27303594, -0.06712124,  0.26169398,  0.117384  ,\n",
       "         -0.76811721, -0.06584116,  0.4179438 , -0.23625423,  0.06983469],\n",
       "        [-0.2607635 , -0.21847412,  0.41361229, -0.50133323,  0.56144453,\n",
       "         -0.06378884,  0.08664267,  0.11654948, -0.32219989,  0.13292421],\n",
       "        [ 0.34436826,  0.08251115, -0.56462935, -0.08690274,  0.41139469,\n",
       "          0.22264827, -0.25245216, -0.07870686, -0.14655119,  0.48787505],\n",
       "        [-0.58536382,  0.61939563,  0.13783657,  0.11846752,  0.05416245,\n",
       "          0.03764142, -0.24532478, -0.31802499,  0.0622958 ,  0.26666349]]))"
      ]
     },
     "execution_count": 7,
     "metadata": {},
     "output_type": "execute_result"
    }
   ],
   "source": [
    "A = construct_matrix(m=10000000, n=10, singular_values=\\\n",
    "np.sort(np.random.rand(10))[::-1])\n",
    "timeit(np.linalg.svd)(A, full_matrices = False)"
   ]
  },
  {
   "cell_type": "code",
   "execution_count": 4,
   "id": "6e083106",
   "metadata": {},
   "outputs": [
    {
     "name": "stdout",
     "output_type": "stream",
     "text": [
      "matrix has memory of  762.939453125 megabytes\n",
      "rank of matrix approximation is:  50\n",
      "execution time: 98.38085436820984 seconds\n",
      "relative error is:  2.6883061734873016e-15\n",
      "np.allclose is:  True\n"
     ]
    }
   ],
   "source": [
    "A = construct_matrix(m=1000, n=100000, singular_values=\\\n",
    "np.sort(np.random.rand(50))[::-1])\n",
    "U_aprx, S_aprx, V_aprx = blockSVD(A, 1000, 100, gamma=0.01)\n",
    "quality(A, U_aprx, S_aprx, V_aprx) "
   ]
  },
  {
   "cell_type": "code",
   "execution_count": 5,
   "id": "9958b141",
   "metadata": {},
   "outputs": [
    {
     "name": "stdout",
     "output_type": "stream",
     "text": [
      "matrix has memory of  762.939453125 megabytes\n",
      "rank of matrix approximation is:  50\n",
      "execution time: 47.382139444351196 seconds\n",
      "relative error is:  3.3644107176625417e-15\n",
      "np.allclose is:  True\n"
     ]
    }
   ],
   "source": [
    "A = construct_matrix(m=1000, n=100000, singular_values=\\\n",
    "np.sort(np.random.rand(50))[::-1])\n",
    "U_aprx, S_aprx, V_aprx = blockSVD(A, 1000, 1000, gamma=0.01)\n",
    "quality(A, U_aprx, S_aprx, V_aprx) "
   ]
  },
  {
   "cell_type": "code",
   "execution_count": 7,
   "id": "2d76d59e",
   "metadata": {},
   "outputs": [
    {
     "name": "stdout",
     "output_type": "stream",
     "text": [
      "matrix has memory of  762.939453125 megabytes\n",
      "rank of matrix approximation is:  50\n",
      "execution time: 131.5382969379425 seconds\n",
      "relative error is:  2.7811998009537213e-15\n",
      "np.allclose is:  True\n"
     ]
    }
   ],
   "source": [
    "A = construct_matrix(m=1000, n=100000, singular_values=\\\n",
    "np.sort(np.random.rand(50))[::-1])\n",
    "U_aprx, S_aprx, V_aprx = blockSVD(A, 1000, 500, gamma=0.01)\n",
    "quality(A, U_aprx, S_aprx, V_aprx) "
   ]
  },
  {
   "cell_type": "code",
   "execution_count": 8,
   "id": "831664eb",
   "metadata": {},
   "outputs": [
    {
     "name": "stdout",
     "output_type": "stream",
     "text": [
      "matrix has memory of  762.939453125 megabytes\n",
      "rank of matrix approximation is:  50\n",
      "execution time: 64.61932921409607 seconds\n",
      "relative error is:  2.9544097676172203e-15\n",
      "np.allclose is:  True\n"
     ]
    }
   ],
   "source": [
    "A = construct_matrix(m=1000, n=100000, singular_values=\\\n",
    "np.sort(np.random.rand(50))[::-1])\n",
    "U_aprx, S_aprx, V_aprx = blockSVD(A, 1000, 5000, gamma=0.01)\n",
    "quality(A, U_aprx, S_aprx, V_aprx) "
   ]
  },
  {
   "cell_type": "code",
   "execution_count": 10,
   "id": "08b2bbf3",
   "metadata": {},
   "outputs": [
    {
     "name": "stdout",
     "output_type": "stream",
     "text": [
      "matrix has memory of  762.939453125 megabytes\n",
      "rank of matrix approximation is:  49\n",
      "execution time: 32.1997344493866 seconds\n",
      "relative error is:  0.0023415085166258527\n",
      "np.allclose is:  False\n"
     ]
    }
   ],
   "source": [
    "A = construct_matrix(m=100, n=1000000, singular_values=\\\n",
    "np.sort(np.random.rand(50))[::-1])\n",
    "U_aprx, S_aprx, V_aprx = blockSVD(A, 100, 5000, gamma=0.01)\n",
    "quality(A, U_aprx, S_aprx, V_aprx) "
   ]
  },
  {
   "cell_type": "code",
   "execution_count": 11,
   "id": "93eae5d3",
   "metadata": {},
   "outputs": [
    {
     "name": "stdout",
     "output_type": "stream",
     "text": [
      "matrix has memory of  762.939453125 megabytes\n",
      "rank of matrix approximation is:  49\n",
      "execution time: 52.73057317733765 seconds\n",
      "relative error is:  0.002311029090222684\n",
      "np.allclose is:  False\n"
     ]
    }
   ],
   "source": [
    "A = construct_matrix(m=100, n=1000000, singular_values=\\\n",
    "np.sort(np.random.rand(50))[::-1])\n",
    "U_aprx, S_aprx, V_aprx = blockSVD(A, 100, 1000, gamma=0.01)\n",
    "quality(A, U_aprx, S_aprx, V_aprx) "
   ]
  },
  {
   "cell_type": "code",
   "execution_count": 12,
   "id": "7c6f92b7",
   "metadata": {},
   "outputs": [
    {
     "name": "stdout",
     "output_type": "stream",
     "text": [
      "matrix has memory of  762.939453125 megabytes\n",
      "rank of matrix approximation is:  49\n",
      "execution time: 41.325549364089966 seconds\n",
      "relative error is:  0.0023110290898854906\n",
      "np.allclose is:  False\n"
     ]
    }
   ],
   "source": [
    "A = construct_matrix(m=100, n=1000000, singular_values=\\\n",
    "np.sort(np.random.rand(50))[::-1])\n",
    "U_aprx, S_aprx, V_aprx = blockSVD(A, 100, 10000, gamma=0.01)\n",
    "quality(A, U_aprx, S_aprx, V_aprx) "
   ]
  },
  {
   "cell_type": "code",
   "execution_count": 13,
   "id": "d99c44ab",
   "metadata": {},
   "outputs": [
    {
     "name": "stdout",
     "output_type": "stream",
     "text": [
      "matrix has memory of  762.939453125 megabytes\n",
      "rank of matrix approximation is:  49\n",
      "execution time: 38.70057535171509 seconds\n",
      "relative error is:  0.0023110290935960034\n",
      "np.allclose is:  False\n"
     ]
    }
   ],
   "source": [
    "A = construct_matrix(m=100, n=1000000, singular_values=\\\n",
    "np.sort(np.random.rand(50))[::-1])\n",
    "U_aprx, S_aprx, V_aprx = blockSVD(A, 100, 7500, gamma=0.01)\n",
    "quality(A, U_aprx, S_aprx, V_aprx) "
   ]
  },
  {
   "cell_type": "code",
   "execution_count": 14,
   "id": "0d19d01c",
   "metadata": {},
   "outputs": [
    {
     "name": "stdout",
     "output_type": "stream",
     "text": [
      "matrix has memory of  762.939453125 megabytes\n",
      "rank of matrix approximation is:  49\n",
      "execution time: 71.43722009658813 seconds\n",
      "relative error is:  0.0023110290899499954\n",
      "np.allclose is:  False\n"
     ]
    }
   ],
   "source": [
    "A = construct_matrix(m=100, n=1000000, singular_values=\\\n",
    "np.sort(np.random.rand(50))[::-1])\n",
    "U_aprx, S_aprx, V_aprx = blockSVD(A, 100, 2500, gamma=0.01)\n",
    "quality(A, U_aprx, S_aprx, V_aprx) "
   ]
  },
  {
   "cell_type": "code",
   "execution_count": 17,
   "id": "1a18be75",
   "metadata": {},
   "outputs": [
    {
     "name": "stdout",
     "output_type": "stream",
     "text": [
      "execution time: 14.164824962615967 seconds\n"
     ]
    },
    {
     "data": {
      "text/plain": [
       "(array([[ 0.06815859, -0.16024581,  0.01614457, ...,  0.0025521 ,\n",
       "         -0.1072634 ,  0.00103778],\n",
       "        [ 0.17644443, -0.0129171 ,  0.04948115, ..., -0.03746337,\n",
       "         -0.00191714,  0.03202555],\n",
       "        [ 0.00571946, -0.14613841, -0.01972624, ...,  0.04144061,\n",
       "         -0.06091884,  0.02471881],\n",
       "        ...,\n",
       "        [ 0.17856867,  0.08295949,  0.06755205, ...,  0.05134356,\n",
       "         -0.08770188, -0.17359836],\n",
       "        [ 0.00110044, -0.11427211, -0.04758337, ...,  0.150144  ,\n",
       "         -0.1740547 ,  0.11077851],\n",
       "        [ 0.07189157,  0.05780384,  0.07150595, ...,  0.16697934,\n",
       "         -0.04966171, -0.01805851]]),\n",
       " array([9.97602087e-01, 9.96781695e-01, 9.94104852e-01, 9.60988009e-01,\n",
       "        9.31625374e-01, 8.70659508e-01, 8.43657829e-01, 8.19933659e-01,\n",
       "        8.18766866e-01, 8.09810844e-01, 7.98670168e-01, 7.96021699e-01,\n",
       "        7.72163876e-01, 7.37804365e-01, 7.31397833e-01, 6.75843948e-01,\n",
       "        6.67920218e-01, 6.50305937e-01, 6.43980994e-01, 6.10654930e-01,\n",
       "        6.07379152e-01, 6.01757859e-01, 5.74699996e-01, 5.59676390e-01,\n",
       "        5.53630653e-01, 5.22245120e-01, 5.03916884e-01, 5.03014216e-01,\n",
       "        4.81702657e-01, 4.71419822e-01, 4.60364586e-01, 4.50488250e-01,\n",
       "        4.37801790e-01, 4.34000454e-01, 3.14724092e-01, 2.92362300e-01,\n",
       "        2.54149932e-01, 2.32544810e-01, 2.29875120e-01, 2.03305023e-01,\n",
       "        1.88056153e-01, 1.85676093e-01, 1.68922173e-01, 1.41484487e-01,\n",
       "        1.08710901e-01, 7.48705157e-02, 5.09394935e-02, 2.48909476e-02,\n",
       "        2.03348810e-02, 9.67987490e-03, 1.59938325e-15, 1.42462611e-15,\n",
       "        1.24144057e-15, 1.21055942e-15, 1.17041110e-15, 1.10590824e-15,\n",
       "        1.08073740e-15, 1.00963627e-15, 8.92344504e-16, 8.91960454e-16,\n",
       "        8.43226433e-16, 7.59118078e-16, 7.54682733e-16, 6.97707715e-16,\n",
       "        6.92751712e-16, 6.41577002e-16, 6.34474852e-16, 5.97236323e-16,\n",
       "        5.41366652e-16, 5.29270750e-16, 5.11907580e-16, 4.89675156e-16,\n",
       "        4.70064464e-16, 4.46883550e-16, 4.42079842e-16, 4.34825352e-16,\n",
       "        3.90391960e-16, 3.76761208e-16, 3.31172462e-16, 3.30812132e-16,\n",
       "        3.07601120e-16, 3.04507353e-16, 2.92047585e-16, 2.61763732e-16,\n",
       "        2.48736642e-16, 2.21423680e-16, 2.07298605e-16, 2.06564086e-16,\n",
       "        2.01501609e-16, 2.00923400e-16, 1.79342770e-16, 1.77754176e-16,\n",
       "        1.75287341e-16, 1.70879924e-16, 1.69571860e-16, 1.65831231e-16,\n",
       "        1.65120350e-16, 1.58619219e-16, 1.54747110e-16, 1.45003124e-16]),\n",
       " array([[ 6.81682246e-04,  3.42119414e-04,  7.77696205e-04, ...,\n",
       "          6.51494112e-04,  1.50424071e-03,  3.10294146e-04],\n",
       "        [ 4.66728630e-04,  1.72145106e-03,  6.30714758e-04, ...,\n",
       "          1.47170761e-03, -8.06176914e-05, -3.08682643e-04],\n",
       "        [-1.39931118e-03,  7.09865721e-04, -3.78254306e-04, ...,\n",
       "         -9.84314793e-04,  1.59687578e-03, -2.25215294e-03],\n",
       "        ...,\n",
       "        [ 3.77126998e-03,  1.39583202e-02,  7.05548431e-02, ...,\n",
       "          1.10059664e-03, -4.68162112e-04, -8.29887683e-04],\n",
       "        [-8.38303925e-02, -3.61824421e-04, -1.91340158e-02, ...,\n",
       "          5.30719976e-04,  5.90842951e-04,  5.14100197e-04],\n",
       "        [ 2.74632489e-03,  5.51539991e-03, -7.92911550e-04, ...,\n",
       "          1.02599971e-03, -6.01756568e-04,  4.28361782e-05]]))"
      ]
     },
     "execution_count": 17,
     "metadata": {},
     "output_type": "execute_result"
    }
   ],
   "source": [
    "timeit(np.linalg.svd)(A, full_matrices = False) "
   ]
  },
  {
   "cell_type": "code",
   "execution_count": 2,
   "id": "5b23c4b2",
   "metadata": {},
   "outputs": [
    {
     "name": "stdout",
     "output_type": "stream",
     "text": [
      "matrix has memory of  7629.39453125 megabytes\n"
     ]
    }
   ],
   "source": [
    "A = construct_matrix(m=100, n=10000000, singular_values=\\\n",
    "np.sort(np.random.rand(50))[::-1])"
   ]
  },
  {
   "cell_type": "code",
   "execution_count": 20,
   "id": "cd67f25c",
   "metadata": {},
   "outputs": [
    {
     "name": "stdout",
     "output_type": "stream",
     "text": [
      "execution time: 0.01882195472717285 seconds\n"
     ]
    },
    {
     "data": {
      "text/plain": [
       "(array([[ 9.68607557e-312,  9.68476457e-312, -7.52899700e-002, ...,\n",
       "         -4.23952752e-015,  6.49480469e-015,  3.54685899e-015],\n",
       "        [-1.34457843e-001, -4.16390280e-002, -8.67106411e-002, ...,\n",
       "         -9.71521418e-002, -1.53018797e-002,  1.16190860e-001],\n",
       "        [-4.21656883e-002,  7.62893864e-002, -2.67522459e-002, ...,\n",
       "          2.47656893e-002, -9.22745815e-002,  1.82879026e-002],\n",
       "        ...,\n",
       "        [-4.34400898e-002, -1.38856275e-001, -1.54118461e-001, ...,\n",
       "          4.85503419e-002,  3.80176274e-002,  1.20824249e-002],\n",
       "        [-2.50251550e-002,  4.02812255e-002, -3.95650566e-002, ...,\n",
       "         -4.45347146e-002, -6.58384603e-002,  1.25764088e-001],\n",
       "        [ 8.53581362e-003, -7.11783249e-002, -3.68274537e-002, ...,\n",
       "         -1.62252248e-002,  7.35761910e-002,  5.52162461e-002]]),\n",
       " array([9.97602087e-01, 9.96781695e-01, 9.94104852e-01, 9.60988009e-01,\n",
       "        9.31625374e-01, 8.70659508e-01, 8.43657829e-01, 8.19933659e-01,\n",
       "        8.18766866e-01, 8.09810844e-01, 7.98670168e-01, 7.96021699e-01,\n",
       "        7.72163876e-01, 7.37804365e-01, 7.31397833e-01, 6.75843948e-01,\n",
       "        6.67920218e-01, 6.50305937e-01, 6.43980994e-01, 6.10654930e-01,\n",
       "        6.07379152e-01, 6.01757859e-01, 5.74699996e-01, 5.59676390e-01,\n",
       "        5.53630653e-01, 5.22245120e-01, 5.03916884e-01, 5.03014216e-01,\n",
       "        4.81702657e-01, 4.71419822e-01, 4.60364586e-01, 4.50488250e-01,\n",
       "        4.37801790e-01, 4.34000454e-01, 3.14724092e-01, 2.92362300e-01,\n",
       "        2.54149932e-01, 2.32544810e-01, 2.29875120e-01, 2.03305023e-01,\n",
       "        1.88056153e-01, 1.85676093e-01, 1.68922173e-01, 1.41484487e-01,\n",
       "        1.08710901e-01, 7.48705157e-02, 5.09394935e-02, 2.48909476e-02,\n",
       "        2.03348810e-02, 9.67987490e-03, 1.59938325e-15, 1.42462611e-15,\n",
       "        1.24144057e-15, 1.21055942e-15, 1.17041110e-15, 1.10590824e-15,\n",
       "        1.08073740e-15, 1.00963627e-15, 8.92344504e-16, 8.91960454e-16,\n",
       "        8.43226433e-16, 7.59118078e-16, 7.54682733e-16, 6.97707715e-16,\n",
       "        6.92751712e-16, 6.41577002e-16, 6.34474852e-16, 5.97236323e-16,\n",
       "        5.41366652e-16, 5.29270750e-16, 5.11907580e-16, 4.89675156e-16,\n",
       "        4.70064464e-16, 4.46883550e-16, 4.42079842e-16, 4.34825352e-16,\n",
       "        3.90391960e-16, 3.76761208e-16, 3.31172462e-16, 3.30812132e-16,\n",
       "        3.07601120e-16, 3.04507353e-16, 2.92047585e-16, 2.61763732e-16,\n",
       "        2.48736642e-16, 2.21423680e-16, 2.07298605e-16, 2.06564086e-16,\n",
       "        2.01501609e-16, 2.00923400e-16, 1.79342770e-16, 1.77754176e-16,\n",
       "        1.75287341e-16, 1.70879924e-16, 1.69571860e-16, 1.65831231e-16,\n",
       "        1.65120350e-16, 1.58619219e-16, 1.54747110e-16, 1.45003124e-16]),\n",
       " array([[0., 0., 0., ..., 0., 0., 0.],\n",
       "        [0., 0., 0., ..., 0., 0., 0.],\n",
       "        [0., 0., 0., ..., 0., 0., 0.],\n",
       "        ...,\n",
       "        [0., 0., 0., ..., 0., 0., 0.],\n",
       "        [0., 0., 0., ..., 0., 0., 0.],\n",
       "        [0., 0., 0., ..., 0., 0., 0.]]))"
      ]
     },
     "execution_count": 20,
     "metadata": {},
     "output_type": "execute_result"
    }
   ],
   "source": [
    "timeit(np.linalg.svd)(A, full_matrices = False) "
   ]
  },
  {
   "cell_type": "code",
   "execution_count": null,
   "id": "e15a31f0",
   "metadata": {},
   "outputs": [
    {
     "name": "stdout",
     "output_type": "stream",
     "text": [
      "rank of matrix approximation is:  50\n",
      "execution time: 405.8230426311493 seconds\n",
      "relative error is:  2.7948321552104536e-15\n"
     ]
    }
   ],
   "source": [
    "U_aprx, S_aprx, V_aprx = blockSVD(A, 100, 5000, gamma=0.01)\n",
    "quality(A, U_aprx, S_aprx, V_aprx) "
   ]
  },
  {
   "cell_type": "code",
   "execution_count": null,
   "id": "81d53749",
   "metadata": {},
   "outputs": [],
   "source": []
  },
  {
   "cell_type": "code",
   "execution_count": 5,
   "id": "9a2226d5",
   "metadata": {},
   "outputs": [
    {
     "name": "stdout",
     "output_type": "stream",
     "text": [
      "matrix has memory of  762.939453125 megabytes\n",
      "rank of matrix approximation is:  10\n",
      "execution time: 44.49514293670654 seconds\n",
      "relative error is:  1.6598916134332804e-15\n",
      "np.allclose is:  True\n"
     ]
    }
   ],
   "source": [
    "A = construct_matrix(m=10, n=10000000, singular_values=\\\n",
    "np.sort(np.random.rand(10))[::-1])\n",
    "U_aprx, S_aprx, V_aprx = blockSVD(A, 10, 1000, gamma=0.01)\n",
    "quality(A, U_aprx, S_aprx, V_aprx) "
   ]
  },
  {
   "cell_type": "code",
   "execution_count": 8,
   "id": "aca91d41",
   "metadata": {},
   "outputs": [
    {
     "name": "stdout",
     "output_type": "stream",
     "text": [
      "matrix has memory of  762.939453125 megabytes\n",
      "rank of matrix approximation is:  10\n",
      "execution time: 15.208763360977173 seconds\n",
      "relative error is:  1.325365791678646e-15\n",
      "np.allclose is:  True\n"
     ]
    }
   ],
   "source": [
    "A = construct_matrix(m=10, n=10000000, singular_values=\\\n",
    "np.sort(np.random.rand(10))[::-1])\n",
    "U_aprx, S_aprx, V_aprx = blockSVD(A, 10, 100000, gamma=0.01)\n",
    "quality(A, U_aprx, S_aprx, V_aprx) "
   ]
  },
  {
   "cell_type": "code",
   "execution_count": 9,
   "id": "d49f294f",
   "metadata": {},
   "outputs": [
    {
     "name": "stdout",
     "output_type": "stream",
     "text": [
      "matrix has memory of  762.939453125 megabytes\n",
      "rank of matrix approximation is:  10\n",
      "execution time: 14.34555435180664 seconds\n",
      "relative error is:  1.1081298943366356e-15\n",
      "np.allclose is:  True\n"
     ]
    }
   ],
   "source": [
    "A = construct_matrix(m=10, n=10000000, singular_values=\\\n",
    "np.sort(np.random.rand(10))[::-1])\n",
    "U_aprx, S_aprx, V_aprx = blockSVD(A, 10, 1000000, gamma=0.01)\n",
    "quality(A, U_aprx, S_aprx, V_aprx) "
   ]
  },
  {
   "cell_type": "code",
   "execution_count": 10,
   "id": "e3787f71",
   "metadata": {},
   "outputs": [
    {
     "name": "stdout",
     "output_type": "stream",
     "text": [
      "matrix has memory of  762.939453125 megabytes\n",
      "execution time: 4.043733358383179 seconds\n"
     ]
    },
    {
     "data": {
      "text/plain": [
       "(array([[-0.20476003,  0.46791825, -0.09898519,  0.01672616, -0.35938116,\n",
       "          0.52090212, -0.09898764,  0.45810392,  0.08449834,  0.31899286],\n",
       "        [-0.01125349,  0.64104822,  0.03456666,  0.15380457,  0.1596036 ,\n",
       "         -0.2361641 , -0.01034554, -0.22421966, -0.64816616,  0.11105043],\n",
       "        [-0.33449826, -0.18348828,  0.15405076,  0.02335539,  0.07255162,\n",
       "         -0.57539519, -0.283905  ,  0.32697969,  0.0514379 ,  0.55105251],\n",
       "        [-0.33214307, -0.16073056, -0.1467139 , -0.43079191,  0.39423473,\n",
       "          0.23265843, -0.37393719,  0.25077655, -0.38489824, -0.3103619 ],\n",
       "        [-0.06671796,  0.27678381, -0.45811054, -0.48787294, -0.33520468,\n",
       "         -0.49048604,  0.13726202,  0.08403261,  0.15486168, -0.26121054],\n",
       "        [-0.5300692 ,  0.08076804,  0.26614204, -0.0518838 , -0.31095076,\n",
       "          0.05412372, -0.37658907, -0.5892603 ,  0.18208943, -0.13098211],\n",
       "        [-0.21248879,  0.0059725 ,  0.68421054, -0.13068058, -0.18400638,\n",
       "         -0.06644272,  0.4650144 ,  0.31741494, -0.173022  , -0.29050153],\n",
       "        [-0.42218405, -0.21639711, -0.26066625, -0.19678244,  0.07176493,\n",
       "          0.17272499,  0.59396833, -0.29082593, -0.15008553,  0.416383  ],\n",
       "        [-0.47185622,  0.02716694, -0.2996185 ,  0.66802925,  0.14938157,\n",
       "         -0.09602649,  0.15257045,  0.17062905,  0.12348467, -0.3760358 ],\n",
       "        [-0.06538184,  0.42411467,  0.19285076, -0.21716697,  0.64367006,\n",
       "          0.02650204,  0.12918452, -0.03641885,  0.54506762,  0.03703863]]),\n",
       " array([0.96274842, 0.74462833, 0.59472012, 0.43109979, 0.32816144,\n",
       "        0.28858291, 0.22336501, 0.15391049, 0.14708726, 0.08704533]),\n",
       " array([[-1.72133209e-05, -1.58692776e-04, -4.42223564e-04, ...,\n",
       "         -3.89638128e-05, -5.15638227e-04, -3.60234821e-04],\n",
       "        [-5.07572696e-04,  4.64751075e-05, -2.40562968e-04, ...,\n",
       "         -5.35885052e-04,  4.20276655e-04,  4.35456711e-05],\n",
       "        [-2.56830988e-05, -6.75032204e-04,  3.77686544e-04, ...,\n",
       "         -5.51829179e-04, -7.29603376e-05,  3.06067735e-04],\n",
       "        ...,\n",
       "        [ 3.48355503e-04, -4.38495582e-04,  3.79730375e-04, ...,\n",
       "          3.73551606e-04, -3.59383229e-05, -3.94434018e-04],\n",
       "        [-2.36813296e-04,  3.42666940e-04, -5.47494672e-04, ...,\n",
       "          4.96666740e-04, -1.79220215e-04, -3.30251597e-04],\n",
       "        [-3.70846886e-04, -5.98147895e-05,  3.20948815e-05, ...,\n",
       "          3.90553721e-04, -3.34120421e-04, -4.68298029e-05]]))"
      ]
     },
     "execution_count": 10,
     "metadata": {},
     "output_type": "execute_result"
    }
   ],
   "source": [
    "A = construct_matrix(m=10, n=10000000, singular_values=\\\n",
    "np.sort(np.random.rand(10))[::-1])\n",
    "timeit(np.linalg.svd)(A, full_matrices = False) "
   ]
  },
  {
   "cell_type": "code",
   "execution_count": 11,
   "id": "9f6f83ec",
   "metadata": {},
   "outputs": [
    {
     "name": "stdout",
     "output_type": "stream",
     "text": [
      "matrix has memory of  762.939453125 megabytes\n",
      "execution time: 14.161437749862671 seconds\n"
     ]
    },
    {
     "data": {
      "text/plain": [
       "(array([[-6.84430094e-02, -1.45136176e-01,  4.54981454e-02, ...,\n",
       "         -4.99476349e-15, -1.95814338e-01,  7.03980263e-01],\n",
       "        [-3.76158565e-03, -2.14657559e-01,  1.05331126e-01, ...,\n",
       "          3.92721406e-02,  2.62263363e-02, -8.98464837e-02],\n",
       "        [-1.11809260e-01,  8.12846090e-02,  1.95019098e-02, ...,\n",
       "         -2.80515878e-02, -1.86769277e-03, -3.64357521e-02],\n",
       "        ...,\n",
       "        [-1.21278468e-01, -8.87515456e-02,  2.33417001e-02, ...,\n",
       "          4.01451615e-03,  1.75443470e-01,  2.99435803e-02],\n",
       "        [-6.10793253e-02, -1.12062516e-01, -1.24976337e-01, ...,\n",
       "         -4.96829623e-02,  3.92333344e-02, -2.05498516e-02],\n",
       "        [-1.46084293e-01, -9.21281815e-03, -9.76106379e-02, ...,\n",
       "         -2.46829278e-02,  1.08945102e-01,  2.26027438e-02]]),\n",
       " array([9.62748423e-01, 7.44628331e-01, 5.94720116e-01, 4.31099789e-01,\n",
       "        3.28161439e-01, 2.88582912e-01, 2.23365007e-01, 1.53910495e-01,\n",
       "        1.47087257e-01, 8.70453252e-02, 1.88651102e-15, 1.27162099e-15,\n",
       "        9.79366831e-16, 8.55092373e-16, 8.45614392e-16, 7.51679875e-16,\n",
       "        5.66938503e-16, 4.72163233e-16, 4.08610855e-16, 3.60599740e-16,\n",
       "        3.08611748e-16, 2.88096790e-16, 2.54180446e-16, 2.33681060e-16,\n",
       "        1.55445060e-16, 1.43518671e-16, 1.06249130e-16, 9.11338738e-17,\n",
       "        7.89574675e-17, 7.33636964e-17, 7.33636964e-17, 7.33636964e-17,\n",
       "        7.33636964e-17, 7.33636964e-17, 7.33636964e-17, 7.33636964e-17,\n",
       "        7.33636964e-17, 7.33636964e-17, 7.33636964e-17, 7.33636964e-17,\n",
       "        7.33636964e-17, 7.33636964e-17, 7.33636964e-17, 7.33636964e-17,\n",
       "        7.33636964e-17, 7.33636964e-17, 7.33636964e-17, 7.33636964e-17,\n",
       "        7.33636964e-17, 7.33636964e-17, 7.33636964e-17, 7.33636964e-17,\n",
       "        7.33636964e-17, 7.33636964e-17, 7.33636964e-17, 7.33636964e-17,\n",
       "        7.33636964e-17, 7.33636964e-17, 7.33636964e-17, 7.33636964e-17,\n",
       "        7.33636964e-17, 7.33636964e-17, 7.33636964e-17, 7.33636964e-17,\n",
       "        7.33636964e-17, 7.33636964e-17, 7.33636964e-17, 7.33636964e-17,\n",
       "        7.33636964e-17, 7.33636964e-17, 7.33636964e-17, 7.33636964e-17,\n",
       "        7.33636964e-17, 7.33636964e-17, 7.33636964e-17, 7.33636964e-17,\n",
       "        7.33636964e-17, 7.33636964e-17, 7.33636964e-17, 7.33636964e-17,\n",
       "        7.33636964e-17, 7.33636964e-17, 7.33636964e-17, 7.33636964e-17,\n",
       "        7.33636964e-17, 7.33636964e-17, 7.33636964e-17, 7.33636964e-17,\n",
       "        7.33636964e-17, 7.33636964e-17, 7.33636964e-17, 7.33636964e-17,\n",
       "        7.33636964e-17, 7.33636964e-17, 7.33636964e-17, 7.33636964e-17,\n",
       "        7.33636964e-17, 7.33636964e-17, 6.09358678e-17, 2.24565553e-17]),\n",
       " array([[-3.20622230e-04, -3.83101293e-04, -1.20782641e-03, ...,\n",
       "         -7.77231527e-04, -5.94825326e-04, -1.31282502e-03],\n",
       "        [-1.05498311e-03, -2.15084123e-03,  5.90242182e-04, ...,\n",
       "         -9.55095236e-04, -1.56626407e-03,  4.13612994e-04],\n",
       "        [ 1.62499806e-03,  1.23264881e-03,  1.44175117e-03, ...,\n",
       "         -5.19314113e-04,  3.61465498e-04, -3.66793805e-05],\n",
       "        ...,\n",
       "        [-7.02883625e-05, -4.31384391e-05, -2.25033485e-03, ...,\n",
       "          2.64570875e-04, -3.97247772e-04, -1.63276874e-03],\n",
       "        [ 4.29175711e-02,  3.26469846e-02, -2.08616121e-02, ...,\n",
       "          5.11654813e-04,  5.49521379e-04, -2.44606318e-04],\n",
       "        [-4.96485978e-02, -3.42969257e-02,  1.80318576e-02, ...,\n",
       "         -1.43884928e-04,  8.73987879e-05,  4.53694703e-04]]))"
      ]
     },
     "execution_count": 11,
     "metadata": {},
     "output_type": "execute_result"
    }
   ],
   "source": [
    "A = construct_matrix(m=100, n=1000000, singular_values=\\\n",
    "np.sort(np.random.rand(10))[::-1])\n",
    "timeit(np.linalg.svd)(A, full_matrices = False) "
   ]
  },
  {
   "cell_type": "code",
   "execution_count": 12,
   "id": "995b54f8",
   "metadata": {},
   "outputs": [
    {
     "name": "stdout",
     "output_type": "stream",
     "text": [
      "matrix has memory of  762.939453125 megabytes\n",
      "execution time: 12.946063756942749 seconds\n"
     ]
    },
    {
     "data": {
      "text/plain": [
       "(array([[-0.02127115,  0.05312401, -0.01392251, ...,  0.245398  ,\n",
       "         -0.22218997,  0.57281019],\n",
       "        [-0.00116905,  0.07565365, -0.03600481, ...,  0.10647135,\n",
       "          0.19321381, -0.08114277],\n",
       "        [-0.03474879, -0.02525874,  0.00262722, ..., -0.01729941,\n",
       "         -0.02051416,  0.01802453],\n",
       "        ...,\n",
       "        [-0.00378399,  0.07340987, -0.04534541, ...,  0.08394108,\n",
       "          0.06152268,  0.03011158],\n",
       "        [-0.02009926,  0.02681456,  0.00958349, ..., -0.0095507 ,\n",
       "         -0.00688142,  0.00805101],\n",
       "        [-0.02557849, -0.00096127, -0.01245334, ..., -0.00419769,\n",
       "         -0.01838164, -0.01531923]]),\n",
       " array([8.44012092e-01, 8.13468028e-01, 7.98633822e-01, 6.70935677e-01,\n",
       "        5.89098352e-01, 5.07252861e-01, 4.89370411e-01, 4.85438537e-01,\n",
       "        3.36365184e-01, 2.02824084e-01, 7.49633326e-16, 3.09360194e-16,\n",
       "        2.92114848e-16, 2.72952296e-16, 2.56978463e-16, 2.43946513e-16,\n",
       "        2.42429900e-16, 2.37278263e-16, 2.24742070e-16, 2.12051123e-16,\n",
       "        2.11529890e-16, 1.97300831e-16, 1.88753034e-16, 1.79836733e-16,\n",
       "        1.79367654e-16, 1.71108205e-16, 1.70055647e-16, 1.52018646e-16,\n",
       "        1.50196581e-16, 1.48170030e-16, 1.38648397e-16, 1.36111815e-16,\n",
       "        1.30035630e-16, 1.28354383e-16, 1.26110008e-16, 1.22080717e-16,\n",
       "        1.19481447e-16, 1.15747310e-16, 1.08032603e-16, 1.06070843e-16,\n",
       "        1.04818543e-16, 9.76638795e-17, 9.48754465e-17, 8.89304452e-17,\n",
       "        8.55512820e-17, 8.44620287e-17, 8.01659860e-17, 7.75812409e-17,\n",
       "        7.73608831e-17, 7.67636229e-17, 7.43235306e-17, 7.22715175e-17,\n",
       "        6.96484900e-17, 6.96484900e-17, 6.96484900e-17, 6.96484900e-17,\n",
       "        6.96484900e-17, 6.96484900e-17, 6.96484900e-17, 6.96484900e-17,\n",
       "        6.96484900e-17, 6.96484900e-17, 6.96484900e-17, 6.96484900e-17,\n",
       "        6.96484900e-17, 6.96484900e-17, 6.96484900e-17, 6.96484900e-17,\n",
       "        6.96484900e-17, 6.96484900e-17, 6.96484900e-17, 6.96484900e-17,\n",
       "        6.96484900e-17, 6.96484900e-17, 6.96484900e-17, 6.96484900e-17,\n",
       "        6.96484900e-17, 6.96484900e-17, 6.96484900e-17, 6.96484900e-17,\n",
       "        6.96484900e-17, 6.96484900e-17, 6.96484900e-17, 6.96484900e-17,\n",
       "        6.96484900e-17, 6.96484900e-17, 6.96484900e-17, 6.96484900e-17,\n",
       "        6.96484900e-17, 6.96484900e-17, 6.96484900e-17, 6.96484900e-17,\n",
       "        6.96484900e-17, 6.96484900e-17, 6.96484900e-17, 6.96484900e-17,\n",
       "        6.96484900e-17, 6.96484900e-17, 6.96484900e-17, 6.96484900e-17,\n",
       "        6.96484900e-17, 6.96484900e-17, 6.96484900e-17, 6.96484900e-17,\n",
       "        6.96484900e-17, 6.96484900e-17, 6.96484900e-17, 6.96484900e-17,\n",
       "        6.96484900e-17, 6.96484900e-17, 6.96484900e-17, 6.96484900e-17,\n",
       "        6.96484900e-17, 6.96484900e-17, 6.96484900e-17, 6.96484900e-17,\n",
       "        6.96484900e-17, 6.96484900e-17, 6.96484900e-17, 6.96484900e-17,\n",
       "        6.96484900e-17, 6.96484900e-17, 6.96484900e-17, 6.96484900e-17,\n",
       "        6.96484900e-17, 6.96484900e-17, 6.96484900e-17, 6.96484900e-17,\n",
       "        6.96484900e-17, 6.96484900e-17, 6.96484900e-17, 6.96484900e-17,\n",
       "        6.96484900e-17, 6.96484900e-17, 6.96484900e-17, 6.96484900e-17,\n",
       "        6.96484900e-17, 6.96484900e-17, 6.96484900e-17, 6.96484900e-17,\n",
       "        6.96484900e-17, 6.96484900e-17, 6.96484900e-17, 6.96484900e-17,\n",
       "        6.96484900e-17, 6.96484900e-17, 6.96484900e-17, 6.96484900e-17,\n",
       "        6.96484900e-17, 6.96484900e-17, 6.96484900e-17, 6.96484900e-17,\n",
       "        6.96484900e-17, 6.96484900e-17, 6.96484900e-17, 6.96484900e-17,\n",
       "        6.96484900e-17, 6.96484900e-17, 6.96484900e-17, 6.96484900e-17,\n",
       "        6.96484900e-17, 6.96484900e-17, 6.96484900e-17, 6.96484900e-17,\n",
       "        6.96484900e-17, 6.96484900e-17, 6.96484900e-17, 6.96484900e-17,\n",
       "        6.96484900e-17, 6.96484900e-17, 6.96484900e-17, 6.96484900e-17,\n",
       "        6.96484900e-17, 6.96484900e-17, 6.96484900e-17, 6.96484900e-17,\n",
       "        6.96484900e-17, 6.96484900e-17, 6.96484900e-17, 6.96484900e-17,\n",
       "        6.96484900e-17, 6.96484900e-17, 6.96484900e-17, 6.96484900e-17,\n",
       "        6.96484900e-17, 6.96484900e-17, 6.96484900e-17, 6.96484900e-17,\n",
       "        6.96484900e-17, 6.96484900e-17, 6.96484900e-17, 6.96484900e-17,\n",
       "        6.96484900e-17, 6.96484900e-17, 6.96484900e-17, 6.96484900e-17,\n",
       "        6.96484900e-17, 6.96484900e-17, 6.96484900e-17, 6.96484900e-17,\n",
       "        6.96484900e-17, 6.96484900e-17, 6.96484900e-17, 6.96484900e-17,\n",
       "        6.96484900e-17, 6.96484900e-17, 6.96484900e-17, 6.96484900e-17,\n",
       "        6.96484900e-17, 6.96484900e-17, 6.96484900e-17, 6.96484900e-17,\n",
       "        6.96484900e-17, 6.96484900e-17, 6.96484900e-17, 6.96484900e-17,\n",
       "        6.96484900e-17, 6.96484900e-17, 6.96484900e-17, 6.96484900e-17,\n",
       "        6.96484900e-17, 6.96484900e-17, 6.96484900e-17, 6.96484900e-17,\n",
       "        6.96484900e-17, 6.96484900e-17, 6.96484900e-17, 6.96484900e-17,\n",
       "        6.96484900e-17, 6.96484900e-17, 6.96484900e-17, 6.96484900e-17,\n",
       "        6.96484900e-17, 6.96484900e-17, 6.96484900e-17, 6.96484900e-17,\n",
       "        6.96484900e-17, 6.96484900e-17, 6.96484900e-17, 6.96484900e-17,\n",
       "        6.96484900e-17, 6.96484900e-17, 6.96484900e-17, 6.96484900e-17,\n",
       "        6.96484900e-17, 6.96484900e-17, 6.96484900e-17, 6.96484900e-17,\n",
       "        6.96484900e-17, 6.96484900e-17, 6.96484900e-17, 6.96484900e-17,\n",
       "        6.96484900e-17, 6.96484900e-17, 6.96484900e-17, 6.96484900e-17,\n",
       "        6.96484900e-17, 6.96484900e-17, 6.96484900e-17, 6.96484900e-17,\n",
       "        6.96484900e-17, 6.96484900e-17, 6.96484900e-17, 6.96484900e-17,\n",
       "        6.96484900e-17, 6.96484900e-17, 6.96484900e-17, 6.96484900e-17,\n",
       "        6.96484900e-17, 6.96484900e-17, 6.96484900e-17, 6.96484900e-17,\n",
       "        6.96484900e-17, 6.96484900e-17, 6.96484900e-17, 6.96484900e-17,\n",
       "        6.96484900e-17, 6.96484900e-17, 6.96484900e-17, 6.96484900e-17,\n",
       "        6.96484900e-17, 6.96484900e-17, 6.96484900e-17, 6.96484900e-17,\n",
       "        6.96484900e-17, 6.96484900e-17, 6.96484900e-17, 6.96484900e-17,\n",
       "        6.96484900e-17, 6.96484900e-17, 6.96484900e-17, 6.96484900e-17,\n",
       "        6.96484900e-17, 6.96484900e-17, 6.96484900e-17, 6.96484900e-17,\n",
       "        6.96484900e-17, 6.96484900e-17, 6.96484900e-17, 6.96484900e-17,\n",
       "        6.96484900e-17, 6.96484900e-17, 6.96484900e-17, 6.96484900e-17,\n",
       "        6.96484900e-17, 6.96484900e-17, 6.96484900e-17, 6.96484900e-17,\n",
       "        6.96484900e-17, 6.96484900e-17, 6.96484900e-17, 6.96484900e-17,\n",
       "        6.96484900e-17, 6.96484900e-17, 6.96484900e-17, 6.96484900e-17,\n",
       "        6.96484900e-17, 6.96484900e-17, 6.96484900e-17, 6.96484900e-17,\n",
       "        6.96484900e-17, 6.96484900e-17, 6.96484900e-17, 6.96484900e-17,\n",
       "        6.96484900e-17, 6.96484900e-17, 6.96484900e-17, 6.96484900e-17,\n",
       "        6.96484900e-17, 6.96484900e-17, 6.96484900e-17, 6.96484900e-17,\n",
       "        6.96484900e-17, 6.96484900e-17, 6.96484900e-17, 6.96484900e-17,\n",
       "        6.96484900e-17, 6.96484900e-17, 6.96484900e-17, 6.96484900e-17,\n",
       "        6.96484900e-17, 6.96484900e-17, 6.96484900e-17, 6.96484900e-17,\n",
       "        6.96484900e-17, 6.96484900e-17, 6.96484900e-17, 6.96484900e-17,\n",
       "        6.96484900e-17, 6.96484900e-17, 6.96484900e-17, 6.96484900e-17,\n",
       "        6.96484900e-17, 6.96484900e-17, 6.96484900e-17, 6.96484900e-17,\n",
       "        6.96484900e-17, 6.96484900e-17, 6.96484900e-17, 6.96484900e-17,\n",
       "        6.96484900e-17, 6.96484900e-17, 6.96484900e-17, 6.96484900e-17,\n",
       "        6.96484900e-17, 6.96484900e-17, 6.96484900e-17, 6.96484900e-17,\n",
       "        6.96484900e-17, 6.96484900e-17, 6.96484900e-17, 6.96484900e-17,\n",
       "        6.96484900e-17, 6.96484900e-17, 6.96484900e-17, 6.96484900e-17,\n",
       "        6.96484900e-17, 6.96484900e-17, 6.96484900e-17, 6.96484900e-17,\n",
       "        6.96484900e-17, 6.96484900e-17, 6.96484900e-17, 6.96484900e-17,\n",
       "        6.96484900e-17, 6.96484900e-17, 6.96484900e-17, 6.96484900e-17,\n",
       "        6.96484900e-17, 6.96484900e-17, 6.96484900e-17, 6.96484900e-17,\n",
       "        6.96484900e-17, 6.96484900e-17, 6.96484900e-17, 6.96484900e-17,\n",
       "        6.96484900e-17, 6.96484900e-17, 6.96484900e-17, 6.96484900e-17,\n",
       "        6.96484900e-17, 6.96484900e-17, 6.96484900e-17, 6.96484900e-17,\n",
       "        6.96484900e-17, 6.96484900e-17, 6.96484900e-17, 6.96484900e-17,\n",
       "        6.96484900e-17, 6.96484900e-17, 6.96484900e-17, 6.96484900e-17,\n",
       "        6.96484900e-17, 6.96484900e-17, 6.96484900e-17, 6.96484900e-17,\n",
       "        6.96484900e-17, 6.96484900e-17, 6.96484900e-17, 6.96484900e-17,\n",
       "        6.96484900e-17, 6.96484900e-17, 6.96484900e-17, 6.96484900e-17,\n",
       "        6.96484900e-17, 6.96484900e-17, 6.96484900e-17, 6.96484900e-17,\n",
       "        6.96484900e-17, 6.96484900e-17, 6.96484900e-17, 6.96484900e-17,\n",
       "        6.96484900e-17, 6.96484900e-17, 6.96484900e-17, 6.96484900e-17,\n",
       "        6.96484900e-17, 6.96484900e-17, 6.96484900e-17, 6.96484900e-17,\n",
       "        6.96484900e-17, 6.96484900e-17, 6.96484900e-17, 6.96484900e-17,\n",
       "        6.96484900e-17, 6.96484900e-17, 6.96484900e-17, 6.96484900e-17,\n",
       "        6.96484900e-17, 6.96484900e-17, 6.96484900e-17, 6.96484900e-17,\n",
       "        6.96484900e-17, 6.96484900e-17, 6.96484900e-17, 6.96484900e-17,\n",
       "        6.96484900e-17, 6.96484900e-17, 6.96484900e-17, 6.96484900e-17,\n",
       "        6.96484900e-17, 6.96484900e-17, 6.96484900e-17, 6.96484900e-17,\n",
       "        6.96484900e-17, 6.96484900e-17, 6.96484900e-17, 6.96484900e-17,\n",
       "        6.96484900e-17, 6.96484900e-17, 6.96484900e-17, 6.96484900e-17,\n",
       "        6.96484900e-17, 6.96484900e-17, 6.96484900e-17, 6.96484900e-17,\n",
       "        6.96484900e-17, 6.96484900e-17, 6.96484900e-17, 6.96484900e-17,\n",
       "        6.96484900e-17, 6.96484900e-17, 6.96484900e-17, 6.96484900e-17,\n",
       "        6.96484900e-17, 6.96484900e-17, 6.96484900e-17, 6.96484900e-17,\n",
       "        6.96484900e-17, 6.96484900e-17, 6.96484900e-17, 6.96484900e-17,\n",
       "        6.96484900e-17, 6.96484900e-17, 6.96484900e-17, 6.96484900e-17,\n",
       "        6.96484900e-17, 6.96484900e-17, 6.96484900e-17, 6.96484900e-17,\n",
       "        6.96484900e-17, 6.96484900e-17, 6.96484900e-17, 6.96484900e-17,\n",
       "        6.96484900e-17, 6.96484900e-17, 6.96484900e-17, 6.96484900e-17,\n",
       "        6.96484900e-17, 6.96484900e-17, 6.96484900e-17, 6.96484900e-17,\n",
       "        6.96484900e-17, 6.96484900e-17, 6.96484900e-17, 6.96484900e-17,\n",
       "        6.96484900e-17, 6.96484900e-17, 6.96484900e-17, 6.96484900e-17,\n",
       "        6.96484900e-17, 6.96484900e-17, 6.96484900e-17, 6.96484900e-17,\n",
       "        6.96484900e-17, 6.96484900e-17, 6.96484900e-17, 6.96484900e-17,\n",
       "        6.96484900e-17, 6.96484900e-17, 6.96484900e-17, 6.96484900e-17,\n",
       "        6.96484900e-17, 6.96484900e-17, 6.96484900e-17, 6.96484900e-17,\n",
       "        6.96484900e-17, 6.96484900e-17, 6.96484900e-17, 6.96484900e-17,\n",
       "        6.96484900e-17, 6.96484900e-17, 6.96484900e-17, 6.96484900e-17,\n",
       "        6.96484900e-17, 6.96484900e-17, 6.96484900e-17, 6.96484900e-17,\n",
       "        6.96484900e-17, 6.96484900e-17, 6.96484900e-17, 6.96484900e-17,\n",
       "        6.96484900e-17, 6.96484900e-17, 6.96484900e-17, 6.96484900e-17,\n",
       "        6.96484900e-17, 6.96484900e-17, 6.96484900e-17, 6.96484900e-17,\n",
       "        6.96484900e-17, 6.96484900e-17, 6.96484900e-17, 6.96484900e-17,\n",
       "        6.96484900e-17, 6.96484900e-17, 6.96484900e-17, 6.96484900e-17,\n",
       "        6.96484900e-17, 6.96484900e-17, 6.96484900e-17, 6.96484900e-17,\n",
       "        6.96484900e-17, 6.96484900e-17, 6.96484900e-17, 6.96484900e-17,\n",
       "        6.96484900e-17, 6.96484900e-17, 6.96484900e-17, 6.96484900e-17,\n",
       "        6.96484900e-17, 6.96484900e-17, 6.96484900e-17, 6.96484900e-17,\n",
       "        6.96484900e-17, 6.96484900e-17, 6.96484900e-17, 6.96484900e-17,\n",
       "        6.96484900e-17, 6.96484900e-17, 6.96484900e-17, 6.96484900e-17,\n",
       "        6.96484900e-17, 6.96484900e-17, 6.96484900e-17, 6.96484900e-17,\n",
       "        6.96484900e-17, 6.96484900e-17, 6.96484900e-17, 6.96484900e-17,\n",
       "        6.96484900e-17, 6.96484900e-17, 6.96484900e-17, 6.96484900e-17,\n",
       "        6.96484900e-17, 6.96484900e-17, 6.96484900e-17, 6.96484900e-17,\n",
       "        6.96484900e-17, 6.96484900e-17, 6.96484900e-17, 6.96484900e-17,\n",
       "        6.96484900e-17, 6.96484900e-17, 6.96484900e-17, 6.96484900e-17,\n",
       "        6.96484900e-17, 6.96484900e-17, 6.96484900e-17, 6.96484900e-17,\n",
       "        6.96484900e-17, 6.96484900e-17, 6.96484900e-17, 6.96484900e-17,\n",
       "        6.96484900e-17, 6.96484900e-17, 6.96484900e-17, 6.96484900e-17,\n",
       "        6.96484900e-17, 6.96484900e-17, 6.96484900e-17, 6.96484900e-17,\n",
       "        6.96484900e-17, 6.96484900e-17, 6.96484900e-17, 6.96484900e-17,\n",
       "        6.96484900e-17, 6.96484900e-17, 6.96484900e-17, 6.96484900e-17,\n",
       "        6.96484900e-17, 6.96484900e-17, 6.96484900e-17, 6.96484900e-17,\n",
       "        6.96484900e-17, 6.96484900e-17, 6.96484900e-17, 6.96484900e-17,\n",
       "        6.96484900e-17, 6.96484900e-17, 6.96484900e-17, 6.96484900e-17,\n",
       "        6.96484900e-17, 6.96484900e-17, 6.96484900e-17, 6.96484900e-17,\n",
       "        6.96484900e-17, 6.96484900e-17, 6.96484900e-17, 6.96484900e-17,\n",
       "        6.96484900e-17, 6.96484900e-17, 6.96484900e-17, 6.96484900e-17,\n",
       "        6.96484900e-17, 6.96484900e-17, 6.96484900e-17, 6.96484900e-17,\n",
       "        6.96484900e-17, 6.96484900e-17, 6.96484900e-17, 6.96484900e-17,\n",
       "        6.96484900e-17, 6.96484900e-17, 6.96484900e-17, 6.96484900e-17,\n",
       "        6.96484900e-17, 6.96484900e-17, 6.96484900e-17, 6.96484900e-17,\n",
       "        6.96484900e-17, 6.96484900e-17, 6.96484900e-17, 6.96484900e-17,\n",
       "        6.96484900e-17, 6.96484900e-17, 6.96484900e-17, 6.96484900e-17,\n",
       "        6.96484900e-17, 6.96484900e-17, 6.96484900e-17, 6.96484900e-17,\n",
       "        6.96484900e-17, 6.96484900e-17, 6.96484900e-17, 6.96484900e-17,\n",
       "        6.96484900e-17, 6.96484900e-17, 6.96484900e-17, 6.96484900e-17,\n",
       "        6.96484900e-17, 6.96484900e-17, 6.96484900e-17, 6.96484900e-17,\n",
       "        6.96484900e-17, 6.96484900e-17, 6.96484900e-17, 6.96484900e-17,\n",
       "        6.96484900e-17, 6.96484900e-17, 6.96484900e-17, 6.96484900e-17,\n",
       "        6.96484900e-17, 6.96484900e-17, 6.96484900e-17, 6.96484900e-17,\n",
       "        6.96484900e-17, 6.96484900e-17, 6.96484900e-17, 6.96484900e-17,\n",
       "        6.96484900e-17, 6.96484900e-17, 6.96484900e-17, 6.96484900e-17,\n",
       "        6.96484900e-17, 6.96484900e-17, 6.96484900e-17, 6.96484900e-17,\n",
       "        6.96484900e-17, 6.96484900e-17, 6.96484900e-17, 6.96484900e-17,\n",
       "        6.96484900e-17, 6.96484900e-17, 6.96484900e-17, 6.96484900e-17,\n",
       "        6.96484900e-17, 6.96484900e-17, 6.96484900e-17, 6.96484900e-17,\n",
       "        6.96484900e-17, 6.96484900e-17, 6.96484900e-17, 6.96484900e-17,\n",
       "        6.96484900e-17, 6.96484900e-17, 6.96484900e-17, 6.96484900e-17,\n",
       "        6.96484900e-17, 6.96484900e-17, 6.96484900e-17, 6.96484900e-17,\n",
       "        6.96484900e-17, 6.96484900e-17, 6.96484900e-17, 6.96484900e-17,\n",
       "        6.96484900e-17, 6.96484900e-17, 6.96484900e-17, 6.96484900e-17,\n",
       "        6.96484900e-17, 6.96484900e-17, 6.96484900e-17, 6.96484900e-17,\n",
       "        6.96484900e-17, 6.96484900e-17, 6.96484900e-17, 6.96484900e-17,\n",
       "        6.96484900e-17, 6.96484900e-17, 6.96484900e-17, 6.96484900e-17,\n",
       "        6.96484900e-17, 6.96484900e-17, 6.96484900e-17, 6.96484900e-17,\n",
       "        6.96484900e-17, 6.96484900e-17, 6.96484900e-17, 6.96484900e-17,\n",
       "        6.96484900e-17, 6.96484900e-17, 6.96484900e-17, 6.96484900e-17,\n",
       "        6.96484900e-17, 6.96484900e-17, 6.96484900e-17, 6.96484900e-17,\n",
       "        6.96484900e-17, 6.96484900e-17, 6.96484900e-17, 6.96484900e-17,\n",
       "        6.96484900e-17, 6.96484900e-17, 6.96484900e-17, 6.96484900e-17,\n",
       "        6.96484900e-17, 6.96484900e-17, 6.96484900e-17, 6.96484900e-17,\n",
       "        6.96484900e-17, 6.96484900e-17, 6.96484900e-17, 6.96484900e-17,\n",
       "        6.96484900e-17, 6.96484900e-17, 6.96484900e-17, 6.96484900e-17,\n",
       "        6.96484900e-17, 6.96484900e-17, 6.96484900e-17, 6.96484900e-17,\n",
       "        6.96484900e-17, 6.96484900e-17, 6.96484900e-17, 6.96484900e-17,\n",
       "        6.96484900e-17, 6.96484900e-17, 6.96484900e-17, 6.96484900e-17,\n",
       "        6.96484900e-17, 6.96484900e-17, 6.96484900e-17, 6.96484900e-17,\n",
       "        6.96484900e-17, 6.96484900e-17, 6.96484900e-17, 6.96484900e-17,\n",
       "        6.96484900e-17, 6.96484900e-17, 6.96484900e-17, 6.96484900e-17,\n",
       "        6.96484900e-17, 6.96484900e-17, 6.96484900e-17, 6.96484900e-17,\n",
       "        6.96484900e-17, 6.96484900e-17, 6.96484900e-17, 6.96484900e-17,\n",
       "        6.96484900e-17, 6.96484900e-17, 6.96484900e-17, 6.96484900e-17,\n",
       "        6.96484900e-17, 6.96484900e-17, 6.96484900e-17, 6.96484900e-17,\n",
       "        6.96484900e-17, 6.96484900e-17, 6.96484900e-17, 6.96484900e-17,\n",
       "        6.96484900e-17, 6.96484900e-17, 6.96484900e-17, 6.96484900e-17,\n",
       "        6.96484900e-17, 6.96484900e-17, 6.96484900e-17, 6.96484900e-17,\n",
       "        6.96484900e-17, 6.96484900e-17, 6.96484900e-17, 6.96484900e-17,\n",
       "        6.96484900e-17, 6.96484900e-17, 6.96484900e-17, 6.96484900e-17,\n",
       "        6.96484900e-17, 6.96484900e-17, 6.96484900e-17, 6.96484900e-17,\n",
       "        6.96484900e-17, 6.96484900e-17, 6.96484900e-17, 6.96484900e-17,\n",
       "        6.96484900e-17, 6.96484900e-17, 6.96484900e-17, 6.96484900e-17,\n",
       "        6.96484900e-17, 6.96484900e-17, 6.96484900e-17, 6.96484900e-17,\n",
       "        6.96484900e-17, 6.96484900e-17, 6.96484900e-17, 6.96484900e-17,\n",
       "        6.96484900e-17, 6.96484900e-17, 6.96484900e-17, 6.96484900e-17,\n",
       "        6.96484900e-17, 6.96484900e-17, 6.96484900e-17, 6.96484900e-17,\n",
       "        6.96484900e-17, 6.96484900e-17, 6.96484900e-17, 6.96484900e-17,\n",
       "        6.96484900e-17, 6.96484900e-17, 6.96484900e-17, 6.96484900e-17,\n",
       "        6.96484900e-17, 6.96484900e-17, 6.96484900e-17, 6.96484900e-17,\n",
       "        6.96484900e-17, 6.96484900e-17, 6.96484900e-17, 6.96484900e-17,\n",
       "        6.96484900e-17, 6.96484900e-17, 6.96484900e-17, 6.96484900e-17,\n",
       "        6.96484900e-17, 6.96484900e-17, 6.96484900e-17, 6.96484900e-17,\n",
       "        6.96484900e-17, 6.96484900e-17, 6.96484900e-17, 6.96484900e-17,\n",
       "        6.96484900e-17, 6.96484900e-17, 6.96484900e-17, 6.96484900e-17,\n",
       "        6.96484900e-17, 6.96484900e-17, 6.96484900e-17, 6.96484900e-17,\n",
       "        6.96484900e-17, 6.96484900e-17, 6.96484900e-17, 6.96484900e-17,\n",
       "        6.96484900e-17, 6.96484900e-17, 6.96484900e-17, 6.96484900e-17,\n",
       "        6.96484900e-17, 6.96484900e-17, 6.96484900e-17, 6.96484900e-17,\n",
       "        6.96484900e-17, 6.96484900e-17, 6.96484900e-17, 6.96484900e-17,\n",
       "        6.96484900e-17, 6.96484900e-17, 6.96484900e-17, 6.96484900e-17,\n",
       "        6.96484900e-17, 6.96484900e-17, 6.96484900e-17, 6.96484900e-17,\n",
       "        6.96484900e-17, 6.96484900e-17, 6.96484900e-17, 6.96484900e-17,\n",
       "        6.96484900e-17, 6.96484900e-17, 6.96484900e-17, 6.96484900e-17,\n",
       "        6.96484900e-17, 6.96484900e-17, 6.96484900e-17, 6.96484900e-17,\n",
       "        6.96484900e-17, 6.96484900e-17, 6.96484900e-17, 6.96484900e-17,\n",
       "        6.96484900e-17, 6.96484900e-17, 6.96484900e-17, 6.96484900e-17,\n",
       "        6.96484900e-17, 6.96484900e-17, 6.96484900e-17, 6.96484900e-17,\n",
       "        6.96484900e-17, 6.96484900e-17, 6.96484900e-17, 6.96484900e-17,\n",
       "        6.96484900e-17, 6.96484900e-17, 6.96484900e-17, 6.96484900e-17,\n",
       "        6.96484900e-17, 6.96484900e-17, 6.45696202e-17, 5.38783653e-17,\n",
       "        4.33124166e-17, 4.19095023e-17, 3.97352858e-17, 3.84657194e-17,\n",
       "        2.63872343e-17, 2.11200165e-17, 1.64284308e-17, 1.01365052e-17]),\n",
       " array([[-2.04613972e-03, -4.85233693e-03, -9.69528221e-04, ...,\n",
       "         -4.76186116e-03, -4.43330415e-03, -2.35697564e-03],\n",
       "        [ 4.36410716e-04,  5.34313985e-04, -8.63321518e-04, ...,\n",
       "         -2.86218447e-03, -4.02201600e-03, -3.63027770e-04],\n",
       "        [-1.16962070e-03,  2.14165906e-03,  7.52708236e-03, ...,\n",
       "         -3.08261312e-03,  4.77614066e-03,  1.81974274e-03],\n",
       "        ...,\n",
       "        [-2.32033690e-02, -2.47162524e-02,  1.75766265e-02, ...,\n",
       "          6.16978935e-03,  2.66404889e-04, -3.50237700e-03],\n",
       "        [-3.47349222e-02,  4.11684794e-03,  3.15809950e-04, ...,\n",
       "          1.99922024e-03, -2.56674247e-03, -3.84841409e-04],\n",
       "        [-1.55521874e-02, -3.16769384e-02,  1.50325230e-02, ...,\n",
       "          7.21704393e-04,  3.46306497e-03,  9.22727743e-07]]))"
      ]
     },
     "execution_count": 12,
     "metadata": {},
     "output_type": "execute_result"
    }
   ],
   "source": [
    "A = construct_matrix(m=1000, n=100000, singular_values=\\\n",
    "np.sort(np.random.rand(10))[::-1])\n",
    "timeit(np.linalg.svd)(A, full_matrices = False) "
   ]
  },
  {
   "cell_type": "code",
   "execution_count": 13,
   "id": "97ec8387",
   "metadata": {},
   "outputs": [
    {
     "name": "stdout",
     "output_type": "stream",
     "text": [
      "matrix has memory of  762.939453125 megabytes\n",
      "execution time: 248.0271987915039 seconds\n"
     ]
    },
    {
     "data": {
      "text/plain": [
       "(array([[-0.00650598,  0.01754999,  0.00460454, ..., -0.06142705,\n",
       "          0.00883209,  0.00779284],\n",
       "        [-0.00035756,  0.02487743,  0.01178598, ...,  0.03428767,\n",
       "          0.06081512,  0.0045491 ],\n",
       "        [-0.01062823, -0.00816664, -0.00105267, ...,  0.05556431,\n",
       "          0.01926617,  0.00958843],\n",
       "        ...,\n",
       "        [-0.0015625 ,  0.00067622,  0.02001695, ...,  0.00069095,\n",
       "          0.00975289, -0.00033107],\n",
       "        [-0.01581634,  0.00468113, -0.0129832 , ..., -0.00902599,\n",
       "         -0.013501  ,  0.00746056],\n",
       "        [-0.01361733, -0.01187221,  0.01550869, ..., -0.00563358,\n",
       "          0.00983175, -0.00187349]]),\n",
       " array([6.22146144e-01, 6.12202996e-01, 5.69124307e-01, ...,\n",
       "        4.27240756e-17, 3.25735333e-17, 7.21952455e-18]),\n",
       " array([[-0.00996873, -0.00018291, -0.01331338, ..., -0.00139381,\n",
       "         -0.01073937, -0.01545405],\n",
       "        [ 0.00243274,  0.02265893, -0.00825565, ...,  0.01223619,\n",
       "          0.01397704,  0.00436747],\n",
       "        [ 0.00360778,  0.00381297, -0.00487957, ..., -0.01879114,\n",
       "         -0.00513724,  0.01433082],\n",
       "        ...,\n",
       "        [ 0.        ,  0.08001543,  0.02472252, ..., -0.00284547,\n",
       "          0.01168041, -0.00118106],\n",
       "        [ 0.        , -0.02893757, -0.00122098, ...,  0.00274233,\n",
       "          0.01293558, -0.00100539],\n",
       "        [ 0.        ,  0.04372817, -0.01689566, ..., -0.00566713,\n",
       "          0.00111323,  0.0088239 ]]))"
      ]
     },
     "execution_count": 13,
     "metadata": {},
     "output_type": "execute_result"
    }
   ],
   "source": [
    "A = construct_matrix(m=10000, n=10000, singular_values=\\\n",
    "np.sort(np.random.rand(10))[::-1])\n",
    "timeit(np.linalg.svd)(A, full_matrices = False) "
   ]
  },
  {
   "cell_type": "code",
   "execution_count": 14,
   "id": "1f64bd0b",
   "metadata": {},
   "outputs": [
    {
     "name": "stdout",
     "output_type": "stream",
     "text": [
      "matrix has memory of  762.939453125 megabytes\n",
      "execution time: 10.113072633743286 seconds\n"
     ]
    },
    {
     "data": {
      "text/plain": [
       "(array([[ 0.00205211, -0.00554365, -0.00149952, ...,  0.02689217,\n",
       "         -0.00946165,  0.03803366],\n",
       "        [ 0.00011278, -0.00789943, -0.00374799, ..., -0.00257747,\n",
       "         -0.00873037, -0.00353969],\n",
       "        [ 0.00335235,  0.00264313,  0.00029217, ..., -0.01857207,\n",
       "         -0.00802959, -0.00941449],\n",
       "        ...,\n",
       "        [ 0.00327937, -0.00083651,  0.0009791 , ...,  0.00152193,\n",
       "          0.00094597,  0.00041375],\n",
       "        [ 0.00214198,  0.00132039, -0.00633604, ...,  0.00385857,\n",
       "          0.00023983,  0.00384246],\n",
       "        [ 0.00270509, -0.00464661,  0.00545616, ..., -0.00112554,\n",
       "          0.00537015, -0.0054242 ]]),\n",
       " array([8.86300678e-01, 5.78407302e-01, 4.78112565e-01, 4.58676591e-01,\n",
       "        4.46837025e-01, 2.82587967e-01, 2.77595304e-01, 2.03081350e-01,\n",
       "        9.92154979e-02, 1.76681257e-02, 7.87193136e-16, 3.20641142e-16,\n",
       "        2.27704195e-16, 2.18355306e-16, 2.08494992e-16, 2.02486325e-16,\n",
       "        1.87721369e-16, 1.77971609e-16, 1.63291154e-16, 1.57919245e-16,\n",
       "        1.47449846e-16, 1.43940413e-16, 1.37996226e-16, 1.33163423e-16,\n",
       "        1.29853993e-16, 1.16623768e-16, 1.08008036e-16, 1.06771126e-16,\n",
       "        1.02467159e-16, 9.01385446e-17, 8.04649438e-17, 7.79784580e-17,\n",
       "        7.51586983e-17, 6.96499612e-17, 6.53069111e-17, 6.53069111e-17,\n",
       "        6.53069111e-17, 6.53069111e-17, 6.53069111e-17, 6.53069111e-17,\n",
       "        6.53069111e-17, 6.53069111e-17, 6.53069111e-17, 6.53069111e-17,\n",
       "        6.53069111e-17, 6.53069111e-17, 6.53069111e-17, 6.53069111e-17,\n",
       "        6.53069111e-17, 6.53069111e-17, 6.53069111e-17, 6.53069111e-17,\n",
       "        6.53069111e-17, 6.53069111e-17, 6.53069111e-17, 6.53069111e-17,\n",
       "        6.53069111e-17, 6.53069111e-17, 6.53069111e-17, 6.53069111e-17,\n",
       "        6.53069111e-17, 6.53069111e-17, 6.53069111e-17, 6.53069111e-17,\n",
       "        6.53069111e-17, 6.53069111e-17, 6.53069111e-17, 6.53069111e-17,\n",
       "        6.53069111e-17, 6.53069111e-17, 6.53069111e-17, 6.53069111e-17,\n",
       "        6.53069111e-17, 6.53069111e-17, 6.53069111e-17, 6.53069111e-17,\n",
       "        6.53069111e-17, 6.53069111e-17, 6.53069111e-17, 6.53069111e-17,\n",
       "        6.53069111e-17, 6.53069111e-17, 6.53069111e-17, 6.53069111e-17,\n",
       "        6.53069111e-17, 6.53069111e-17, 6.53069111e-17, 6.53069111e-17,\n",
       "        6.53069111e-17, 6.53069111e-17, 6.53069111e-17, 6.53069111e-17,\n",
       "        6.53069111e-17, 6.53069111e-17, 6.53069111e-17, 6.53069111e-17,\n",
       "        6.53069111e-17, 6.53069111e-17, 6.53069111e-17, 6.53069111e-17,\n",
       "        6.53069111e-17, 6.53069111e-17, 6.53069111e-17, 6.53069111e-17,\n",
       "        6.53069111e-17, 6.53069111e-17, 6.53069111e-17, 6.53069111e-17,\n",
       "        6.53069111e-17, 6.53069111e-17, 6.53069111e-17, 6.53069111e-17,\n",
       "        6.53069111e-17, 6.53069111e-17, 6.53069111e-17, 6.53069111e-17,\n",
       "        6.53069111e-17, 6.53069111e-17, 6.53069111e-17, 6.53069111e-17,\n",
       "        6.53069111e-17, 6.53069111e-17, 6.53069111e-17, 6.53069111e-17,\n",
       "        6.53069111e-17, 6.53069111e-17, 6.53069111e-17, 6.53069111e-17,\n",
       "        6.53069111e-17, 6.53069111e-17, 6.53069111e-17, 6.53069111e-17,\n",
       "        6.53069111e-17, 6.53069111e-17, 6.53069111e-17, 6.53069111e-17,\n",
       "        6.53069111e-17, 6.53069111e-17, 6.53069111e-17, 6.53069111e-17,\n",
       "        6.53069111e-17, 6.53069111e-17, 6.53069111e-17, 6.53069111e-17,\n",
       "        6.53069111e-17, 6.53069111e-17, 6.53069111e-17, 6.53069111e-17,\n",
       "        6.53069111e-17, 6.53069111e-17, 6.53069111e-17, 6.53069111e-17,\n",
       "        6.53069111e-17, 6.53069111e-17, 6.53069111e-17, 6.53069111e-17,\n",
       "        6.53069111e-17, 6.53069111e-17, 6.53069111e-17, 6.53069111e-17,\n",
       "        6.53069111e-17, 6.53069111e-17, 6.53069111e-17, 6.53069111e-17,\n",
       "        6.53069111e-17, 6.53069111e-17, 6.53069111e-17, 6.53069111e-17,\n",
       "        6.53069111e-17, 6.53069111e-17, 6.53069111e-17, 6.53069111e-17,\n",
       "        6.53069111e-17, 6.53069111e-17, 6.53069111e-17, 6.53069111e-17,\n",
       "        6.53069111e-17, 6.53069111e-17, 6.53069111e-17, 6.53069111e-17,\n",
       "        6.53069111e-17, 6.53069111e-17, 6.53069111e-17, 6.53069111e-17,\n",
       "        6.53069111e-17, 6.53069111e-17, 6.53069111e-17, 6.53069111e-17,\n",
       "        6.53069111e-17, 6.53069111e-17, 6.53069111e-17, 6.53069111e-17,\n",
       "        6.53069111e-17, 6.53069111e-17, 6.53069111e-17, 6.53069111e-17,\n",
       "        6.53069111e-17, 6.53069111e-17, 6.53069111e-17, 6.53069111e-17,\n",
       "        6.53069111e-17, 6.53069111e-17, 6.53069111e-17, 6.53069111e-17,\n",
       "        6.53069111e-17, 6.53069111e-17, 6.53069111e-17, 6.53069111e-17,\n",
       "        6.53069111e-17, 6.53069111e-17, 6.53069111e-17, 6.53069111e-17,\n",
       "        6.53069111e-17, 6.53069111e-17, 6.53069111e-17, 6.53069111e-17,\n",
       "        6.53069111e-17, 6.53069111e-17, 6.53069111e-17, 6.53069111e-17,\n",
       "        6.53069111e-17, 6.53069111e-17, 6.53069111e-17, 6.53069111e-17,\n",
       "        6.53069111e-17, 6.53069111e-17, 6.53069111e-17, 6.53069111e-17,\n",
       "        6.53069111e-17, 6.53069111e-17, 6.53069111e-17, 6.53069111e-17,\n",
       "        6.53069111e-17, 6.53069111e-17, 6.53069111e-17, 6.53069111e-17,\n",
       "        6.53069111e-17, 6.53069111e-17, 6.53069111e-17, 6.53069111e-17,\n",
       "        6.53069111e-17, 6.53069111e-17, 6.53069111e-17, 6.53069111e-17,\n",
       "        6.53069111e-17, 6.53069111e-17, 6.53069111e-17, 6.53069111e-17,\n",
       "        6.53069111e-17, 6.53069111e-17, 6.53069111e-17, 6.53069111e-17,\n",
       "        6.53069111e-17, 6.53069111e-17, 6.53069111e-17, 6.53069111e-17,\n",
       "        6.53069111e-17, 6.53069111e-17, 6.53069111e-17, 6.53069111e-17,\n",
       "        6.53069111e-17, 6.53069111e-17, 6.53069111e-17, 6.53069111e-17,\n",
       "        6.53069111e-17, 6.53069111e-17, 6.53069111e-17, 6.53069111e-17,\n",
       "        6.53069111e-17, 6.53069111e-17, 6.53069111e-17, 6.53069111e-17,\n",
       "        6.53069111e-17, 6.53069111e-17, 6.53069111e-17, 6.53069111e-17,\n",
       "        6.53069111e-17, 6.53069111e-17, 6.53069111e-17, 6.53069111e-17,\n",
       "        6.53069111e-17, 6.53069111e-17, 6.53069111e-17, 6.53069111e-17,\n",
       "        6.53069111e-17, 6.53069111e-17, 6.53069111e-17, 6.53069111e-17,\n",
       "        6.53069111e-17, 6.53069111e-17, 6.53069111e-17, 6.53069111e-17,\n",
       "        6.53069111e-17, 6.53069111e-17, 6.53069111e-17, 6.53069111e-17,\n",
       "        6.53069111e-17, 6.53069111e-17, 6.53069111e-17, 6.53069111e-17,\n",
       "        6.53069111e-17, 6.53069111e-17, 6.53069111e-17, 6.53069111e-17,\n",
       "        6.53069111e-17, 6.53069111e-17, 6.53069111e-17, 6.53069111e-17,\n",
       "        6.53069111e-17, 6.53069111e-17, 6.53069111e-17, 6.53069111e-17,\n",
       "        6.53069111e-17, 6.53069111e-17, 6.53069111e-17, 6.53069111e-17,\n",
       "        6.53069111e-17, 6.53069111e-17, 6.53069111e-17, 6.53069111e-17,\n",
       "        6.53069111e-17, 6.53069111e-17, 6.53069111e-17, 6.53069111e-17,\n",
       "        6.53069111e-17, 6.53069111e-17, 6.53069111e-17, 6.53069111e-17,\n",
       "        6.53069111e-17, 6.53069111e-17, 6.53069111e-17, 6.53069111e-17,\n",
       "        6.53069111e-17, 6.53069111e-17, 6.53069111e-17, 6.53069111e-17,\n",
       "        6.53069111e-17, 6.53069111e-17, 6.53069111e-17, 6.53069111e-17,\n",
       "        6.53069111e-17, 6.53069111e-17, 6.53069111e-17, 6.53069111e-17,\n",
       "        6.53069111e-17, 6.53069111e-17, 6.53069111e-17, 6.53069111e-17,\n",
       "        6.53069111e-17, 6.53069111e-17, 6.53069111e-17, 6.53069111e-17,\n",
       "        6.53069111e-17, 6.53069111e-17, 6.53069111e-17, 6.53069111e-17,\n",
       "        6.53069111e-17, 6.53069111e-17, 6.53069111e-17, 6.53069111e-17,\n",
       "        6.53069111e-17, 6.53069111e-17, 6.53069111e-17, 6.53069111e-17,\n",
       "        6.53069111e-17, 6.53069111e-17, 6.53069111e-17, 6.53069111e-17,\n",
       "        6.53069111e-17, 6.53069111e-17, 6.53069111e-17, 6.53069111e-17,\n",
       "        6.53069111e-17, 6.53069111e-17, 6.53069111e-17, 6.53069111e-17,\n",
       "        6.53069111e-17, 6.53069111e-17, 6.53069111e-17, 6.53069111e-17,\n",
       "        6.53069111e-17, 6.53069111e-17, 6.53069111e-17, 6.53069111e-17,\n",
       "        6.53069111e-17, 6.53069111e-17, 6.53069111e-17, 6.53069111e-17,\n",
       "        6.53069111e-17, 6.53069111e-17, 6.53069111e-17, 6.53069111e-17,\n",
       "        6.53069111e-17, 6.53069111e-17, 6.53069111e-17, 6.53069111e-17,\n",
       "        6.53069111e-17, 6.53069111e-17, 6.53069111e-17, 6.53069111e-17,\n",
       "        6.53069111e-17, 6.53069111e-17, 6.53069111e-17, 6.53069111e-17,\n",
       "        6.53069111e-17, 6.53069111e-17, 6.53069111e-17, 6.53069111e-17,\n",
       "        6.53069111e-17, 6.53069111e-17, 6.53069111e-17, 6.53069111e-17,\n",
       "        6.53069111e-17, 6.53069111e-17, 6.53069111e-17, 6.53069111e-17,\n",
       "        6.53069111e-17, 6.53069111e-17, 6.53069111e-17, 6.53069111e-17,\n",
       "        6.53069111e-17, 6.53069111e-17, 6.53069111e-17, 6.53069111e-17,\n",
       "        6.53069111e-17, 6.53069111e-17, 6.53069111e-17, 6.53069111e-17,\n",
       "        6.53069111e-17, 6.53069111e-17, 6.53069111e-17, 6.53069111e-17,\n",
       "        6.53069111e-17, 6.53069111e-17, 6.53069111e-17, 6.53069111e-17,\n",
       "        6.53069111e-17, 6.53069111e-17, 6.53069111e-17, 6.53069111e-17,\n",
       "        6.53069111e-17, 6.53069111e-17, 6.53069111e-17, 6.53069111e-17,\n",
       "        6.53069111e-17, 6.53069111e-17, 6.53069111e-17, 6.53069111e-17,\n",
       "        6.53069111e-17, 6.53069111e-17, 6.53069111e-17, 6.53069111e-17,\n",
       "        6.53069111e-17, 6.53069111e-17, 6.53069111e-17, 6.53069111e-17,\n",
       "        6.53069111e-17, 6.53069111e-17, 6.53069111e-17, 6.53069111e-17,\n",
       "        6.53069111e-17, 6.53069111e-17, 6.53069111e-17, 6.53069111e-17,\n",
       "        6.53069111e-17, 6.53069111e-17, 6.53069111e-17, 6.53069111e-17,\n",
       "        6.53069111e-17, 6.53069111e-17, 6.53069111e-17, 6.53069111e-17,\n",
       "        6.53069111e-17, 6.53069111e-17, 6.53069111e-17, 6.53069111e-17,\n",
       "        6.53069111e-17, 6.53069111e-17, 6.53069111e-17, 6.53069111e-17,\n",
       "        6.53069111e-17, 6.53069111e-17, 6.53069111e-17, 6.53069111e-17,\n",
       "        6.53069111e-17, 6.53069111e-17, 6.53069111e-17, 6.53069111e-17,\n",
       "        6.53069111e-17, 6.53069111e-17, 6.53069111e-17, 6.53069111e-17,\n",
       "        6.53069111e-17, 6.53069111e-17, 6.53069111e-17, 6.53069111e-17,\n",
       "        6.53069111e-17, 6.53069111e-17, 6.53069111e-17, 6.53069111e-17,\n",
       "        6.53069111e-17, 6.53069111e-17, 6.53069111e-17, 6.53069111e-17,\n",
       "        6.53069111e-17, 6.53069111e-17, 6.53069111e-17, 6.53069111e-17,\n",
       "        6.53069111e-17, 6.53069111e-17, 6.53069111e-17, 6.53069111e-17,\n",
       "        6.53069111e-17, 6.53069111e-17, 6.53069111e-17, 6.53069111e-17,\n",
       "        6.53069111e-17, 6.53069111e-17, 6.53069111e-17, 6.53069111e-17,\n",
       "        6.53069111e-17, 6.53069111e-17, 6.53069111e-17, 6.53069111e-17,\n",
       "        6.53069111e-17, 6.53069111e-17, 6.53069111e-17, 6.53069111e-17,\n",
       "        6.53069111e-17, 6.53069111e-17, 6.53069111e-17, 6.53069111e-17,\n",
       "        6.53069111e-17, 6.53069111e-17, 6.53069111e-17, 6.53069111e-17,\n",
       "        6.53069111e-17, 6.53069111e-17, 6.53069111e-17, 6.53069111e-17,\n",
       "        6.53069111e-17, 6.53069111e-17, 6.53069111e-17, 6.53069111e-17,\n",
       "        6.53069111e-17, 6.53069111e-17, 6.53069111e-17, 6.53069111e-17,\n",
       "        6.53069111e-17, 6.53069111e-17, 6.53069111e-17, 6.53069111e-17,\n",
       "        6.53069111e-17, 6.53069111e-17, 6.53069111e-17, 6.53069111e-17,\n",
       "        6.53069111e-17, 6.53069111e-17, 6.53069111e-17, 6.53069111e-17,\n",
       "        6.53069111e-17, 6.53069111e-17, 6.53069111e-17, 6.53069111e-17,\n",
       "        6.53069111e-17, 6.53069111e-17, 6.53069111e-17, 6.53069111e-17,\n",
       "        6.53069111e-17, 6.53069111e-17, 6.53069111e-17, 6.53069111e-17,\n",
       "        6.53069111e-17, 6.53069111e-17, 6.53069111e-17, 6.53069111e-17,\n",
       "        6.53069111e-17, 6.53069111e-17, 6.53069111e-17, 6.53069111e-17,\n",
       "        6.53069111e-17, 6.53069111e-17, 6.53069111e-17, 6.53069111e-17,\n",
       "        6.53069111e-17, 6.53069111e-17, 6.53069111e-17, 6.53069111e-17,\n",
       "        6.53069111e-17, 6.53069111e-17, 6.53069111e-17, 6.53069111e-17,\n",
       "        6.53069111e-17, 6.53069111e-17, 6.53069111e-17, 6.53069111e-17,\n",
       "        6.53069111e-17, 6.53069111e-17, 6.53069111e-17, 6.53069111e-17,\n",
       "        6.53069111e-17, 6.53069111e-17, 6.53069111e-17, 6.53069111e-17,\n",
       "        6.53069111e-17, 6.53069111e-17, 6.53069111e-17, 6.53069111e-17,\n",
       "        6.53069111e-17, 6.53069111e-17, 6.53069111e-17, 6.53069111e-17,\n",
       "        6.53069111e-17, 6.53069111e-17, 6.53069111e-17, 6.53069111e-17,\n",
       "        6.53069111e-17, 6.53069111e-17, 6.53069111e-17, 6.53069111e-17,\n",
       "        6.53069111e-17, 6.53069111e-17, 6.53069111e-17, 6.53069111e-17,\n",
       "        6.53069111e-17, 6.53069111e-17, 6.53069111e-17, 6.53069111e-17,\n",
       "        6.53069111e-17, 6.53069111e-17, 6.53069111e-17, 6.53069111e-17,\n",
       "        6.53069111e-17, 6.53069111e-17, 6.53069111e-17, 6.53069111e-17,\n",
       "        6.53069111e-17, 6.53069111e-17, 6.53069111e-17, 6.53069111e-17,\n",
       "        6.53069111e-17, 6.53069111e-17, 6.53069111e-17, 6.53069111e-17,\n",
       "        6.53069111e-17, 6.53069111e-17, 6.53069111e-17, 6.53069111e-17,\n",
       "        6.53069111e-17, 6.53069111e-17, 6.53069111e-17, 6.53069111e-17,\n",
       "        6.53069111e-17, 6.53069111e-17, 6.53069111e-17, 6.53069111e-17,\n",
       "        6.53069111e-17, 6.53069111e-17, 6.53069111e-17, 6.53069111e-17,\n",
       "        6.53069111e-17, 6.53069111e-17, 6.53069111e-17, 6.53069111e-17,\n",
       "        6.53069111e-17, 6.53069111e-17, 6.53069111e-17, 6.53069111e-17,\n",
       "        6.53069111e-17, 6.53069111e-17, 6.53069111e-17, 6.53069111e-17,\n",
       "        6.53069111e-17, 6.53069111e-17, 6.53069111e-17, 6.53069111e-17,\n",
       "        6.53069111e-17, 6.53069111e-17, 6.53069111e-17, 6.53069111e-17,\n",
       "        6.53069111e-17, 6.53069111e-17, 6.53069111e-17, 6.53069111e-17,\n",
       "        6.53069111e-17, 6.53069111e-17, 6.53069111e-17, 6.53069111e-17,\n",
       "        6.53069111e-17, 6.53069111e-17, 6.53069111e-17, 6.53069111e-17,\n",
       "        6.53069111e-17, 6.53069111e-17, 6.53069111e-17, 6.53069111e-17,\n",
       "        6.53069111e-17, 6.53069111e-17, 6.53069111e-17, 6.53069111e-17,\n",
       "        6.53069111e-17, 6.53069111e-17, 6.53069111e-17, 6.53069111e-17,\n",
       "        6.53069111e-17, 6.53069111e-17, 6.53069111e-17, 6.53069111e-17,\n",
       "        6.53069111e-17, 6.53069111e-17, 6.53069111e-17, 6.53069111e-17,\n",
       "        6.53069111e-17, 6.53069111e-17, 6.53069111e-17, 6.53069111e-17,\n",
       "        6.53069111e-17, 6.53069111e-17, 6.53069111e-17, 6.53069111e-17,\n",
       "        6.53069111e-17, 6.53069111e-17, 6.53069111e-17, 6.53069111e-17,\n",
       "        6.53069111e-17, 6.53069111e-17, 6.53069111e-17, 6.53069111e-17,\n",
       "        6.53069111e-17, 6.53069111e-17, 6.53069111e-17, 6.53069111e-17,\n",
       "        6.53069111e-17, 6.53069111e-17, 6.53069111e-17, 6.53069111e-17,\n",
       "        6.53069111e-17, 6.53069111e-17, 6.53069111e-17, 6.53069111e-17,\n",
       "        6.53069111e-17, 6.53069111e-17, 6.53069111e-17, 6.53069111e-17,\n",
       "        6.53069111e-17, 6.53069111e-17, 6.53069111e-17, 6.53069111e-17,\n",
       "        6.53069111e-17, 6.53069111e-17, 6.53069111e-17, 6.53069111e-17,\n",
       "        6.53069111e-17, 6.53069111e-17, 6.53069111e-17, 6.53069111e-17,\n",
       "        6.53069111e-17, 6.53069111e-17, 6.53069111e-17, 6.53069111e-17,\n",
       "        6.53069111e-17, 6.53069111e-17, 6.53069111e-17, 6.53069111e-17,\n",
       "        6.53069111e-17, 6.53069111e-17, 6.53069111e-17, 6.53069111e-17,\n",
       "        6.53069111e-17, 6.53069111e-17, 6.53069111e-17, 6.53069111e-17,\n",
       "        6.53069111e-17, 6.53069111e-17, 6.53069111e-17, 6.53069111e-17,\n",
       "        6.53069111e-17, 6.53069111e-17, 6.53069111e-17, 6.53069111e-17,\n",
       "        6.53069111e-17, 6.53069111e-17, 6.53069111e-17, 6.53069111e-17,\n",
       "        6.53069111e-17, 6.53069111e-17, 6.53069111e-17, 6.53069111e-17,\n",
       "        6.53069111e-17, 6.53069111e-17, 6.53069111e-17, 6.53069111e-17,\n",
       "        6.53069111e-17, 6.53069111e-17, 6.53069111e-17, 6.53069111e-17,\n",
       "        6.53069111e-17, 6.53069111e-17, 6.53069111e-17, 6.53069111e-17,\n",
       "        6.53069111e-17, 6.53069111e-17, 6.53069111e-17, 6.53069111e-17,\n",
       "        6.53069111e-17, 6.53069111e-17, 6.53069111e-17, 6.53069111e-17,\n",
       "        6.53069111e-17, 6.53069111e-17, 6.53069111e-17, 6.53069111e-17,\n",
       "        6.53069111e-17, 6.53069111e-17, 6.53069111e-17, 6.53069111e-17,\n",
       "        6.53069111e-17, 6.53069111e-17, 6.53069111e-17, 6.53069111e-17,\n",
       "        6.53069111e-17, 6.53069111e-17, 6.53069111e-17, 6.53069111e-17,\n",
       "        6.53069111e-17, 6.53069111e-17, 6.53069111e-17, 6.53069111e-17,\n",
       "        6.53069111e-17, 6.53069111e-17, 6.53069111e-17, 6.53069111e-17,\n",
       "        6.53069111e-17, 6.53069111e-17, 6.53069111e-17, 6.53069111e-17,\n",
       "        6.53069111e-17, 6.53069111e-17, 6.53069111e-17, 6.53069111e-17,\n",
       "        6.53069111e-17, 6.53069111e-17, 6.53069111e-17, 6.53069111e-17,\n",
       "        6.53069111e-17, 6.53069111e-17, 6.53069111e-17, 6.53069111e-17,\n",
       "        6.53069111e-17, 6.53069111e-17, 6.53069111e-17, 6.53069111e-17,\n",
       "        6.53069111e-17, 6.53069111e-17, 6.53069111e-17, 6.53069111e-17,\n",
       "        6.53069111e-17, 6.53069111e-17, 6.53069111e-17, 6.53069111e-17,\n",
       "        6.53069111e-17, 6.53069111e-17, 6.53069111e-17, 6.53069111e-17,\n",
       "        6.53069111e-17, 6.53069111e-17, 6.53069111e-17, 6.53069111e-17,\n",
       "        6.53069111e-17, 6.53069111e-17, 6.53069111e-17, 6.53069111e-17,\n",
       "        6.53069111e-17, 6.53069111e-17, 6.53069111e-17, 6.53069111e-17,\n",
       "        6.53069111e-17, 6.53069111e-17, 6.53069111e-17, 6.53069111e-17,\n",
       "        6.53069111e-17, 6.53069111e-17, 6.53069111e-17, 6.53069111e-17,\n",
       "        6.53069111e-17, 6.53069111e-17, 6.53069111e-17, 6.53069111e-17,\n",
       "        6.53069111e-17, 6.53069111e-17, 6.53069111e-17, 6.53069111e-17,\n",
       "        6.53069111e-17, 6.53069111e-17, 6.53069111e-17, 6.53069111e-17,\n",
       "        6.53069111e-17, 6.53069111e-17, 6.53069111e-17, 6.53069111e-17,\n",
       "        6.53069111e-17, 6.53069111e-17, 6.53069111e-17, 6.53069111e-17,\n",
       "        6.53069111e-17, 6.53069111e-17, 6.53069111e-17, 6.53069111e-17,\n",
       "        6.53069111e-17, 6.53069111e-17, 6.53069111e-17, 6.53069111e-17,\n",
       "        6.53069111e-17, 6.53069111e-17, 6.53069111e-17, 6.53069111e-17,\n",
       "        6.53069111e-17, 6.53069111e-17, 6.53069111e-17, 6.53069111e-17,\n",
       "        6.53069111e-17, 6.53069111e-17, 6.53069111e-17, 6.53069111e-17,\n",
       "        6.53069111e-17, 6.53069111e-17, 6.53069111e-17, 6.53069111e-17,\n",
       "        6.53069111e-17, 6.53069111e-17, 6.53069111e-17, 6.53069111e-17,\n",
       "        6.53069111e-17, 6.53069111e-17, 6.53069111e-17, 6.53069111e-17,\n",
       "        6.53069111e-17, 6.53069111e-17, 6.53069111e-17, 6.53069111e-17,\n",
       "        6.53069111e-17, 6.53069111e-17, 6.53069111e-17, 6.53069111e-17,\n",
       "        6.53069111e-17, 6.53069111e-17, 6.53069111e-17, 6.53069111e-17,\n",
       "        6.53069111e-17, 6.53069111e-17, 6.53069111e-17, 6.53069111e-17,\n",
       "        6.53069111e-17, 6.53069111e-17, 6.53069111e-17, 6.53069111e-17,\n",
       "        6.53069111e-17, 6.53069111e-17, 6.53069111e-17, 6.53069111e-17,\n",
       "        6.53069111e-17, 6.53069111e-17, 6.53069111e-17, 6.53069111e-17,\n",
       "        6.53069111e-17, 6.53069111e-17, 6.53069111e-17, 6.53069111e-17,\n",
       "        6.53069111e-17, 6.53069111e-17, 6.53069111e-17, 6.53069111e-17,\n",
       "        6.53069111e-17, 6.53069111e-17, 6.53069111e-17, 6.53069111e-17,\n",
       "        6.53069111e-17, 6.53069111e-17, 6.53069111e-17, 6.53069111e-17,\n",
       "        6.53069111e-17, 6.53069111e-17, 6.53069111e-17, 6.53069111e-17,\n",
       "        6.53069111e-17, 6.53069111e-17, 6.53069111e-17, 6.53069111e-17,\n",
       "        6.53069111e-17, 6.53069111e-17, 6.53069111e-17, 6.53069111e-17,\n",
       "        6.53069111e-17, 6.22257413e-17, 5.59721430e-17, 3.99451876e-17,\n",
       "        3.92258788e-17, 3.59237910e-17, 1.30136284e-17, 1.24838769e-17]),\n",
       " array([[ 3.20906052e-02,  4.22190174e-02,  1.43912073e-02, ...,\n",
       "          4.68859933e-02,  4.36509721e-02,  2.32071328e-02],\n",
       "        [-6.79120228e-03, -2.00308230e-02,  5.21314052e-02, ...,\n",
       "         -2.88923646e-02, -4.06337063e-02, -3.63865768e-03],\n",
       "        [ 3.52565485e-02, -3.13533030e-02,  1.78640575e-02, ...,\n",
       "          2.76597260e-02, -5.05383217e-02, -1.95530689e-02],\n",
       "        ...,\n",
       "        [ 0.00000000e+00,  5.01096041e-04,  3.31584256e-02, ...,\n",
       "         -5.44022381e-02, -6.70579069e-02,  1.32944286e-02],\n",
       "        [ 0.00000000e+00, -8.36434196e-05,  2.19700226e-01, ...,\n",
       "          3.85694420e-02, -3.60531317e-02,  2.44676562e-03],\n",
       "        [ 0.00000000e+00,  1.41854069e-02,  1.48902634e-01, ...,\n",
       "         -4.82104368e-02, -1.40285406e-02, -7.69561119e-03]]))"
      ]
     },
     "execution_count": 14,
     "metadata": {},
     "output_type": "execute_result"
    }
   ],
   "source": [
    "A = construct_matrix(m=100000, n=1000, singular_values=\\\n",
    "np.sort(np.random.rand(10))[::-1])\n",
    "timeit(np.linalg.svd)(A, full_matrices = False) "
   ]
  },
  {
   "cell_type": "code",
   "execution_count": 15,
   "id": "85811434",
   "metadata": {},
   "outputs": [
    {
     "name": "stdout",
     "output_type": "stream",
     "text": [
      "matrix has memory of  762.939453125 megabytes\n",
      "execution time: 3.2619497776031494 seconds\n"
     ]
    },
    {
     "data": {
      "text/plain": [
       "(array([[ 6.48653959e-04, -1.75324399e-03,  4.74144555e-04, ...,\n",
       "          7.86937638e-04, -1.15174762e-03,  2.92612260e-05],\n",
       "        [ 3.56496221e-05, -2.49800269e-03,  1.18049001e-03, ...,\n",
       "         -1.16554741e-04, -3.87663709e-03, -2.10969584e-03],\n",
       "        [ 1.05964831e-03,  8.35484161e-04, -8.67222352e-05, ...,\n",
       "          5.28228893e-04,  7.47092027e-03,  6.10840318e-04],\n",
       "        ...,\n",
       "        [ 1.65237066e-03,  1.10218495e-03,  3.81062630e-04, ...,\n",
       "          1.45220246e-04, -2.29800010e-05,  4.53253164e-04],\n",
       "        [ 1.28568595e-03,  4.67104286e-04,  9.23145158e-04, ...,\n",
       "         -1.08387542e-03, -7.07702849e-04,  7.48992517e-04],\n",
       "        [ 5.16260333e-04, -7.13236975e-04,  1.88316413e-03, ...,\n",
       "          1.07905202e-03, -5.79608825e-04, -4.87583296e-05]]),\n",
       " array([6.22146144e-01, 6.12202996e-01, 5.69124307e-01, 5.55397504e-01,\n",
       "        5.02193941e-01, 4.63429122e-01, 3.28661880e-01, 1.34318561e-01,\n",
       "        1.14750647e-01, 1.67463163e-02, 5.28341167e-16, 5.19022568e-16,\n",
       "        4.61018108e-16, 4.45723626e-16, 3.90610726e-16, 3.87562870e-16,\n",
       "        3.74423196e-16, 2.96415215e-16, 2.23351158e-16, 1.13391139e-16,\n",
       "        9.86964046e-17, 5.32705166e-17, 5.22071346e-17, 5.22071346e-17,\n",
       "        5.22071346e-17, 5.22071346e-17, 5.22071346e-17, 5.22071346e-17,\n",
       "        5.22071346e-17, 5.22071346e-17, 5.22071346e-17, 5.22071346e-17,\n",
       "        5.22071346e-17, 5.22071346e-17, 5.22071346e-17, 5.22071346e-17,\n",
       "        5.22071346e-17, 5.22071346e-17, 5.22071346e-17, 5.22071346e-17,\n",
       "        5.22071346e-17, 5.22071346e-17, 5.22071346e-17, 5.22071346e-17,\n",
       "        5.22071346e-17, 5.22071346e-17, 5.22071346e-17, 5.22071346e-17,\n",
       "        5.22071346e-17, 5.22071346e-17, 5.22071346e-17, 5.22071346e-17,\n",
       "        5.22071346e-17, 5.22071346e-17, 5.22071346e-17, 5.22071346e-17,\n",
       "        5.22071346e-17, 5.22071346e-17, 5.22071346e-17, 5.22071346e-17,\n",
       "        5.22071346e-17, 5.22071346e-17, 5.22071346e-17, 5.22071346e-17,\n",
       "        5.22071346e-17, 5.22071346e-17, 5.22071346e-17, 5.22071346e-17,\n",
       "        5.22071346e-17, 5.22071346e-17, 5.22071346e-17, 5.22071346e-17,\n",
       "        5.22071346e-17, 5.22071346e-17, 5.22071346e-17, 5.22071346e-17,\n",
       "        5.22071346e-17, 5.22071346e-17, 5.22071346e-17, 5.22071346e-17,\n",
       "        5.22071346e-17, 5.22071346e-17, 5.22071346e-17, 5.22071346e-17,\n",
       "        5.22071346e-17, 5.22071346e-17, 5.22071346e-17, 5.22071346e-17,\n",
       "        5.22071346e-17, 5.22071346e-17, 5.22071346e-17, 5.22071346e-17,\n",
       "        5.22071346e-17, 5.22071346e-17, 5.22071346e-17, 5.22071346e-17,\n",
       "        5.22071346e-17, 5.22071346e-17, 4.73225571e-17, 2.09084546e-17]),\n",
       " array([[ 0.1517676 ,  0.16158233,  0.10133373, ...,  0.07351165,\n",
       "          0.05625942,  0.12416884],\n",
       "        [ 0.07050748,  0.00891051, -0.10171556, ..., -0.08979248,\n",
       "         -0.14536183,  0.03430146],\n",
       "        [ 0.1089745 , -0.14316119, -0.14596527, ..., -0.0423911 ,\n",
       "          0.05363871,  0.00764097],\n",
       "        ...,\n",
       "        [ 0.        ,  0.27850972,  0.0058512 , ..., -0.0228369 ,\n",
       "          0.01487285, -0.02632724],\n",
       "        [-0.16685848, -0.03984194,  0.03091911, ..., -0.07338352,\n",
       "         -0.26372984, -0.05980236],\n",
       "        [ 0.88165149,  0.06544503, -0.02550396, ...,  0.02103015,\n",
       "         -0.03833977,  0.02144139]]))"
      ]
     },
     "execution_count": 15,
     "metadata": {},
     "output_type": "execute_result"
    }
   ],
   "source": [
    "A = construct_matrix(m=1000000, n=100, singular_values=\\\n",
    "np.sort(np.random.rand(10))[::-1])\n",
    "timeit(np.linalg.svd)(A, full_matrices = False) "
   ]
  },
  {
   "cell_type": "code",
   "execution_count": 16,
   "id": "7fd64d23",
   "metadata": {},
   "outputs": [
    {
     "name": "stdout",
     "output_type": "stream",
     "text": [
      "matrix has memory of  762.939453125 megabytes\n",
      "execution time: 2.515782356262207 seconds\n"
     ]
    },
    {
     "data": {
      "text/plain": [
       "(array([[ 2.05130347e-04,  5.54736994e-04,  1.50257892e-04, ...,\n",
       "         -4.66160787e-04,  1.38367871e-04,  2.35727353e-04],\n",
       "        [ 1.12738375e-05,  7.90525654e-04,  3.73744449e-04, ...,\n",
       "         -1.60390107e-04,  4.55998409e-05, -1.05316478e-04],\n",
       "        [ 3.35103211e-04, -2.64571761e-04, -2.72555514e-05, ...,\n",
       "         -1.28783375e-04,  1.95782111e-04, -3.93419431e-04],\n",
       "        ...,\n",
       "        [ 4.05170477e-04,  1.05841167e-04,  1.72153499e-04, ...,\n",
       "          7.31529895e-05, -1.77962966e-04,  2.43149678e-04],\n",
       "        [ 3.63816534e-04, -3.34049001e-04,  3.81618759e-04, ...,\n",
       "         -4.59899483e-04,  5.23416006e-04,  4.42760383e-04],\n",
       "        [ 5.10712209e-04,  2.39847827e-05, -5.30822872e-04, ...,\n",
       "          5.02509122e-05,  1.79139008e-04, -8.76870865e-05]]),\n",
       " array([0.84401209, 0.81346803, 0.79863382, 0.67093568, 0.58909835,\n",
       "        0.50725286, 0.48937041, 0.48543854, 0.33636518, 0.20282408]),\n",
       " array([[ 0.14045789,  0.32451897,  0.18745477,  0.46313348,  0.30089907,\n",
       "          0.12310055,  0.42047406,  0.03620058,  0.47907026,  0.33468773],\n",
       "        [-0.21439667,  0.2349889 , -0.49726237, -0.2628536 , -0.28331916,\n",
       "         -0.04937953,  0.23586808, -0.55171645,  0.37374857,  0.0056148 ],\n",
       "        [ 0.21178344, -0.05318521, -0.11723014, -0.2160473 , -0.15662055,\n",
       "          0.66314857,  0.38948343,  0.33377389,  0.06881399, -0.39970742],\n",
       "        [-0.06233802,  0.35487381,  0.08155108,  0.4750737 ,  0.03198986,\n",
       "          0.30076501, -0.28607731, -0.40691817, -0.16458623, -0.52138159],\n",
       "        [ 0.65366492,  0.07767671,  0.1095436 , -0.01536007, -0.1161774 ,\n",
       "         -0.36471489,  0.42261189, -0.28484864, -0.36033706, -0.13548534],\n",
       "        [-0.22903861,  0.51453838, -0.36765171,  0.08307041, -0.0286459 ,\n",
       "          0.04626216,  0.17819207,  0.29318626, -0.5850754 ,  0.27881627],\n",
       "        [ 0.27268675,  0.40858602,  0.11924638, -0.59726636,  0.46657766,\n",
       "          0.21103705, -0.29256874, -0.14043699, -0.00510217,  0.14204292],\n",
       "        [ 0.24644677,  0.24124236, -0.42901242,  0.07834803,  0.16266291,\n",
       "         -0.42799803, -0.22007825,  0.420658  ,  0.30665946, -0.40225228],\n",
       "        [ 0.43817696, -0.34668534, -0.55594448,  0.27060173,  0.09089478,\n",
       "          0.28994341, -0.25260725, -0.17135366, -0.07144155,  0.33897672],\n",
       "        [ 0.28060248,  0.30755328,  0.20660142,  0.02857399, -0.7327367 ,\n",
       "          0.07238108, -0.35473327,  0.15548748,  0.16629413,  0.25172351]]))"
      ]
     },
     "execution_count": 16,
     "metadata": {},
     "output_type": "execute_result"
    }
   ],
   "source": [
    "A = construct_matrix(m=10000000, n=10, singular_values=\\\n",
    "np.sort(np.random.rand(10))[::-1])\n",
    "timeit(np.linalg.svd)(A, full_matrices = False) "
   ]
  },
  {
   "cell_type": "code",
   "execution_count": 21,
   "id": "804fe61c",
   "metadata": {},
   "outputs": [
    {
     "name": "stdout",
     "output_type": "stream",
     "text": [
      "matrix has memory of  762.939453125 megabytes\n",
      "rank of matrix approximation is:  49\n",
      "execution time: 68.42594361305237 seconds\n",
      "relative error is:  0.0012929478409621376\n",
      "np.allclose is:  False\n"
     ]
    }
   ],
   "source": [
    "A = construct_matrix(m=10000, n=10000, singular_values=\\\n",
    "np.sort(np.random.rand(50))[::-1])\n",
    "U_aprx, S_aprx, V_aprx = blockSVD(A, 1000, 10000, gamma=0.01)\n",
    "quality(A, U_aprx, S_aprx, V_aprx) "
   ]
  },
  {
   "cell_type": "code",
   "execution_count": 23,
   "id": "97fbdb95",
   "metadata": {},
   "outputs": [
    {
     "name": "stdout",
     "output_type": "stream",
     "text": [
      "matrix has memory of  762.939453125 megabytes\n",
      "rank of matrix approximation is:  48\n",
      "execution time: 31.247755765914917 seconds\n",
      "relative error is:  0.0036741015349595917\n",
      "np.allclose is:  False\n"
     ]
    }
   ],
   "source": [
    "A = construct_matrix(m=10000, n=10000, singular_values=\\\n",
    "np.sort(np.random.rand(50))[::-1])\n",
    "U_aprx, S_aprx, V_aprx = blockSVD(A, 10000, 1000, gamma=0.01)\n",
    "quality(A, U_aprx, S_aprx, V_aprx) "
   ]
  },
  {
   "cell_type": "code",
   "execution_count": 24,
   "id": "1c9f299c",
   "metadata": {},
   "outputs": [
    {
     "name": "stdout",
     "output_type": "stream",
     "text": [
      "matrix has memory of  762.939453125 megabytes\n",
      "rank of matrix approximation is:  49\n",
      "execution time: 188.78008604049683 seconds\n",
      "relative error is:  0.0012929477998570786\n",
      "np.allclose is:  False\n"
     ]
    }
   ],
   "source": [
    "A = construct_matrix(m=10000, n=10000, singular_values=\\\n",
    "np.sort(np.random.rand(50))[::-1])\n",
    "U_aprx, S_aprx, V_aprx = blockSVD(A, 2000, 1000, gamma=0.01)\n",
    "quality(A, U_aprx, S_aprx, V_aprx) "
   ]
  },
  {
   "cell_type": "code",
   "execution_count": 25,
   "id": "2a9209cb",
   "metadata": {},
   "outputs": [
    {
     "name": "stdout",
     "output_type": "stream",
     "text": [
      "matrix has memory of  762.939453125 megabytes\n",
      "rank of matrix approximation is:  49\n",
      "execution time: 37.271209478378296 seconds\n",
      "relative error is:  0.0012929468270844765\n",
      "np.allclose is:  False\n"
     ]
    }
   ],
   "source": [
    "A = construct_matrix(m=10000, n=10000, singular_values=\\\n",
    "np.sort(np.random.rand(50))[::-1])\n",
    "U_aprx, S_aprx, V_aprx = blockSVD(A, 5000, 1000, gamma=0.01)\n",
    "quality(A, U_aprx, S_aprx, V_aprx) "
   ]
  },
  {
   "cell_type": "code",
   "execution_count": 26,
   "id": "2c064428",
   "metadata": {},
   "outputs": [
    {
     "name": "stdout",
     "output_type": "stream",
     "text": [
      "matrix has memory of  762.939453125 megabytes\n",
      "rank of matrix approximation is:  49\n",
      "execution time: 56.88597249984741 seconds\n",
      "relative error is:  0.0012929468269652993\n",
      "np.allclose is:  False\n"
     ]
    }
   ],
   "source": [
    "A = construct_matrix(m=10000, n=10000, singular_values=\\\n",
    "np.sort(np.random.rand(50))[::-1])\n",
    "U_aprx, S_aprx, V_aprx = blockSVD(A, 5000, 2000, gamma=0.01)\n",
    "quality(A, U_aprx, S_aprx, V_aprx) "
   ]
  },
  {
   "cell_type": "code",
   "execution_count": 2,
   "id": "12dd2977",
   "metadata": {},
   "outputs": [
    {
     "name": "stdout",
     "output_type": "stream",
     "text": [
      "matrix has memory of  7629.39453125 megabytes\n"
     ]
    },
    {
     "ename": "MemoryError",
     "evalue": "Unable to allocate 7.28 TiB for an array with shape (1000000, 1000000) and data type float64",
     "output_type": "error",
     "traceback": [
      "\u001b[1;31m---------------------------------------------------------------------------\u001b[0m",
      "\u001b[1;31mMemoryError\u001b[0m                               Traceback (most recent call last)",
      "Cell \u001b[1;32mIn[2], line 3\u001b[0m\n\u001b[0;32m      1\u001b[0m A \u001b[38;5;241m=\u001b[39m construct_matrix(m\u001b[38;5;241m=\u001b[39m\u001b[38;5;241m1000000\u001b[39m, n\u001b[38;5;241m=\u001b[39m\u001b[38;5;241m1000\u001b[39m, singular_values\u001b[38;5;241m=\u001b[39m\\\n\u001b[0;32m      2\u001b[0m np\u001b[38;5;241m.\u001b[39msort(np\u001b[38;5;241m.\u001b[39mrandom\u001b[38;5;241m.\u001b[39mrand(\u001b[38;5;241m50\u001b[39m))[::\u001b[38;5;241m-\u001b[39m\u001b[38;5;241m1\u001b[39m])\n\u001b[1;32m----> 3\u001b[0m U_aprx, S_aprx, V_aprx \u001b[38;5;241m=\u001b[39m \u001b[43mblockSVD\u001b[49m\u001b[43m(\u001b[49m\u001b[43mA\u001b[49m\u001b[43m,\u001b[49m\u001b[43m \u001b[49m\u001b[38;5;241;43m1000000\u001b[39;49m\u001b[43m,\u001b[49m\u001b[43m \u001b[49m\u001b[38;5;241;43m100\u001b[39;49m\u001b[43m,\u001b[49m\u001b[43m \u001b[49m\u001b[43mgamma\u001b[49m\u001b[38;5;241;43m=\u001b[39;49m\u001b[38;5;241;43m0.01\u001b[39;49m\u001b[43m)\u001b[49m\n\u001b[0;32m      4\u001b[0m quality(A, U_aprx, S_aprx, V_aprx)\n",
      "File \u001b[1;32m~\\Downloads\\NLA_Project1\\BlockSVD.py:13\u001b[0m, in \u001b[0;36mtimeit.<locals>.wrapper\u001b[1;34m(*args, **kwargs)\u001b[0m\n\u001b[0;32m     11\u001b[0m \u001b[38;5;28;01mdef\u001b[39;00m \u001b[38;5;21mwrapper\u001b[39m(\u001b[38;5;241m*\u001b[39margs, \u001b[38;5;241m*\u001b[39m\u001b[38;5;241m*\u001b[39mkwargs):\n\u001b[0;32m     12\u001b[0m     start_time \u001b[38;5;241m=\u001b[39m time\u001b[38;5;241m.\u001b[39mtime()\n\u001b[1;32m---> 13\u001b[0m     result \u001b[38;5;241m=\u001b[39m func(\u001b[38;5;241m*\u001b[39margs, \u001b[38;5;241m*\u001b[39m\u001b[38;5;241m*\u001b[39mkwargs)\n\u001b[0;32m     14\u001b[0m     end_time \u001b[38;5;241m=\u001b[39m time\u001b[38;5;241m.\u001b[39mtime()\n\u001b[0;32m     15\u001b[0m     \u001b[38;5;28mprint\u001b[39m(\u001b[38;5;124mf\u001b[39m\u001b[38;5;124m\"\u001b[39m\u001b[38;5;124mexecution time: \u001b[39m\u001b[38;5;132;01m{\u001b[39;00mend_time \u001b[38;5;241m-\u001b[39m start_time\u001b[38;5;132;01m}\u001b[39;00m\u001b[38;5;124m seconds\u001b[39m\u001b[38;5;124m\"\u001b[39m)\n",
      "File \u001b[1;32m~\\Downloads\\NLA_Project1\\BlockSVD.py:27\u001b[0m, in \u001b[0;36mblockSVD\u001b[1;34m(A, d, c, gamma)\u001b[0m\n\u001b[0;32m     25\u001b[0m \u001b[38;5;129m@timeit\u001b[39m\n\u001b[0;32m     26\u001b[0m \u001b[38;5;28;01mdef\u001b[39;00m \u001b[38;5;21mblockSVD\u001b[39m(A, d, c, gamma \u001b[38;5;241m=\u001b[39m \u001b[38;5;241m0.0000001\u001b[39m):\n\u001b[1;32m---> 27\u001b[0m     V_hat, S_hat \u001b[38;5;241m=\u001b[39m \u001b[43mDoSVDofBlocks\u001b[49m\u001b[43m(\u001b[49m\u001b[43mA\u001b[49m\u001b[43m,\u001b[49m\u001b[43m \u001b[49m\u001b[43md\u001b[49m\u001b[43m,\u001b[49m\u001b[43m \u001b[49m\u001b[43mc\u001b[49m\u001b[43m,\u001b[49m\u001b[43m \u001b[49m\u001b[43mgamma\u001b[49m\u001b[43m)\u001b[49m\n\u001b[0;32m     28\u001b[0m     U_hat, S_hat, V_hat \u001b[38;5;241m=\u001b[39m Iter_improve(A, V_hat, S_hat, gamma)\n\u001b[0;32m     29\u001b[0m     \u001b[38;5;28mprint\u001b[39m(\u001b[38;5;124m\"\u001b[39m\u001b[38;5;124mrank of matrix approximation is: \u001b[39m\u001b[38;5;124m\"\u001b[39m, S_hat\u001b[38;5;241m.\u001b[39mshape[\u001b[38;5;241m0\u001b[39m])\n",
      "File \u001b[1;32m~\\Downloads\\NLA_Project1\\BlockSVD.py:44\u001b[0m, in \u001b[0;36mDoSVDofBlocks\u001b[1;34m(A, d, c, gamma)\u001b[0m\n\u001b[0;32m     42\u001b[0m list_X \u001b[38;5;241m=\u001b[39m row_partition(A, d)\n\u001b[0;32m     43\u001b[0m \u001b[38;5;28;01mfor\u001b[39;00m j \u001b[38;5;129;01min\u001b[39;00m \u001b[38;5;28mrange\u001b[39m(Nd):\n\u001b[1;32m---> 44\u001b[0m     U_j, S_j \u001b[38;5;241m=\u001b[39m \u001b[43mDoSVDofColSlices\u001b[49m\u001b[43m(\u001b[49m\u001b[43mlist_X\u001b[49m\u001b[43m[\u001b[49m\u001b[43mj\u001b[49m\u001b[43m]\u001b[49m\u001b[43m,\u001b[49m\u001b[43m \u001b[49m\u001b[43mc\u001b[49m\u001b[43m,\u001b[49m\u001b[43m \u001b[49m\u001b[43mgamma\u001b[49m\u001b[43m)\u001b[49m\n\u001b[0;32m     45\u001b[0m     _, S_j, VT_j \u001b[38;5;241m=\u001b[39m tr_SVD(U_j\u001b[38;5;241m.\u001b[39mT\u001b[38;5;129m@list_X\u001b[39m[j], gamma)\n\u001b[0;32m     46\u001b[0m     list_V\u001b[38;5;241m.\u001b[39mappend(VT_j\u001b[38;5;241m.\u001b[39mT), list_S\u001b[38;5;241m.\u001b[39mappend(S_j) \u001b[38;5;66;03m#calculating V, not V.T!\u001b[39;00m\n",
      "File \u001b[1;32m~\\Downloads\\NLA_Project1\\BlockSVD.py:59\u001b[0m, in \u001b[0;36mDoSVDofColSlices\u001b[1;34m(A, c, gamma)\u001b[0m\n\u001b[0;32m     57\u001b[0m     list_U\u001b[38;5;241m.\u001b[39mappend(U_j)\n\u001b[0;32m     58\u001b[0m     list_S\u001b[38;5;241m.\u001b[39mappend(S_j)\n\u001b[1;32m---> 59\u001b[0m U_hat, S_hat \u001b[38;5;241m=\u001b[39m \u001b[43mDoMergeOfSlices\u001b[49m\u001b[43m(\u001b[49m\u001b[43mlist_U\u001b[49m\u001b[43m,\u001b[49m\u001b[43m \u001b[49m\u001b[43mlist_S\u001b[49m\u001b[43m,\u001b[49m\u001b[43m \u001b[49m\u001b[43mgamma\u001b[49m\u001b[43m)\u001b[49m\n\u001b[0;32m     60\u001b[0m \u001b[38;5;28;01mreturn\u001b[39;00m U_hat, S_hat\n",
      "File \u001b[1;32m~\\Downloads\\NLA_Project1\\BlockSVD.py:72\u001b[0m, in \u001b[0;36mDoMergeOfSlices\u001b[1;34m(list_U, list_S, gamma)\u001b[0m\n\u001b[0;32m     70\u001b[0m list_S \u001b[38;5;241m=\u001b[39m []\n\u001b[0;32m     71\u001b[0m \u001b[38;5;28;01mfor\u001b[39;00m i \u001b[38;5;129;01min\u001b[39;00m \u001b[38;5;28mrange\u001b[39m(\u001b[38;5;241m1\u001b[39m,N1,\u001b[38;5;241m2\u001b[39m):\n\u001b[1;32m---> 72\u001b[0m     U_j, S_j, _ \u001b[38;5;241m=\u001b[39m \u001b[43mBlockMerge\u001b[49m\u001b[43m(\u001b[49m\u001b[43mlist_Ut\u001b[49m\u001b[43m[\u001b[49m\u001b[43mi\u001b[49m\u001b[38;5;241;43m-\u001b[39;49m\u001b[38;5;241;43m1\u001b[39;49m\u001b[43m]\u001b[49m\u001b[43m,\u001b[49m\u001b[43m \u001b[49m\u001b[43mlist_St\u001b[49m\u001b[43m[\u001b[49m\u001b[43mi\u001b[49m\u001b[38;5;241;43m-\u001b[39;49m\u001b[38;5;241;43m1\u001b[39;49m\u001b[43m]\u001b[49m\u001b[43m,\u001b[49m\u001b[43m \u001b[49m\u001b[43mlist_Ut\u001b[49m\u001b[43m[\u001b[49m\u001b[43mi\u001b[49m\u001b[43m]\u001b[49m\u001b[43m,\u001b[49m\u001b[43m \u001b[49m\u001b[43mlist_St\u001b[49m\u001b[43m[\u001b[49m\u001b[43mi\u001b[49m\u001b[43m]\u001b[49m\u001b[43m,\u001b[49m\u001b[43m \u001b[49m\u001b[43mgamma\u001b[49m\u001b[43m)\u001b[49m\n\u001b[0;32m     73\u001b[0m     list_U\u001b[38;5;241m.\u001b[39mappend(U_j), list_S\u001b[38;5;241m.\u001b[39mappend(S_j)\n\u001b[0;32m     74\u001b[0m \u001b[38;5;28;01mif\u001b[39;00m N1 \u001b[38;5;241m%\u001b[39m \u001b[38;5;241m2\u001b[39m \u001b[38;5;241m==\u001b[39m \u001b[38;5;241m1\u001b[39m:\n",
      "File \u001b[1;32m~\\Downloads\\NLA_Project1\\BlockSVD.py:84\u001b[0m, in \u001b[0;36mBlockMerge\u001b[1;34m(U1, Sigma1, U2, Sigma2, gamma)\u001b[0m\n\u001b[0;32m     81\u001b[0m n_rows \u001b[38;5;241m=\u001b[39m Sigma2\u001b[38;5;241m.\u001b[39mshape[\u001b[38;5;241m0\u001b[39m]\n\u001b[0;32m     82\u001b[0m n_cols \u001b[38;5;241m=\u001b[39m Sigma1\u001b[38;5;241m.\u001b[39mshape[\u001b[38;5;241m0\u001b[39m]\n\u001b[1;32m---> 84\u001b[0m Q \u001b[38;5;241m=\u001b[39m U2 \u001b[38;5;241m-\u001b[39m \u001b[43mU1\u001b[49m\u001b[38;5;129;43m@U1\u001b[39;49m\u001b[38;5;241;43m.\u001b[39;49m\u001b[43mT\u001b[49m\u001b[38;5;129m@U2\u001b[39m\n\u001b[0;32m     85\u001b[0m U0, R \u001b[38;5;241m=\u001b[39m np\u001b[38;5;241m.\u001b[39mlinalg\u001b[38;5;241m.\u001b[39mqr(Q, \u001b[38;5;124m'\u001b[39m\u001b[38;5;124mreduced\u001b[39m\u001b[38;5;124m'\u001b[39m)\n\u001b[0;32m     86\u001b[0m E \u001b[38;5;241m=\u001b[39m np\u001b[38;5;241m.\u001b[39mblock(\n\u001b[0;32m     87\u001b[0m     [[np\u001b[38;5;241m.\u001b[39mdiag(Sigma1), U1\u001b[38;5;241m.\u001b[39mT\u001b[38;5;129m@U2\u001b[39m\u001b[38;5;129m@np\u001b[39m\u001b[38;5;241m.\u001b[39mdiag(Sigma2)], \\\n\u001b[0;32m     88\u001b[0m     [np\u001b[38;5;241m.\u001b[39mzeros((n_rows, n_cols)), R\u001b[38;5;129m@np\u001b[39m\u001b[38;5;241m.\u001b[39mdiag(Sigma2)]]\n\u001b[0;32m     89\u001b[0m             )\n",
      "\u001b[1;31mMemoryError\u001b[0m: Unable to allocate 7.28 TiB for an array with shape (1000000, 1000000) and data type float64"
     ]
    }
   ],
   "source": [
    "A = construct_matrix(m=1000000, n=1000, singular_values=\\\n",
    "np.sort(np.random.rand(50))[::-1])\n",
    "U_aprx, S_aprx, V_aprx = blockSVD(A, 1000000, 100, gamma=0.01)\n",
    "quality(A, U_aprx, S_aprx, V_aprx) "
   ]
  },
  {
   "cell_type": "code",
   "execution_count": 4,
   "id": "8a29f0b2",
   "metadata": {},
   "outputs": [
    {
     "name": "stdout",
     "output_type": "stream",
     "text": [
      "matrix has memory of  7629.39453125 megabytes\n",
      "rank of matrix approximation is:  50\n",
      "execution time: 1019.7014849185944 seconds\n"
     ]
    },
    {
     "ename": "MemoryError",
     "evalue": "Unable to allocate 7.45 GiB for an array with shape (1000000, 1000) and data type float64",
     "output_type": "error",
     "traceback": [
      "\u001b[1;31m---------------------------------------------------------------------------\u001b[0m",
      "\u001b[1;31mMemoryError\u001b[0m                               Traceback (most recent call last)",
      "Cell \u001b[1;32mIn[4], line 4\u001b[0m\n\u001b[0;32m      1\u001b[0m A \u001b[38;5;241m=\u001b[39m construct_matrix(m\u001b[38;5;241m=\u001b[39m\u001b[38;5;241m1000000\u001b[39m, n\u001b[38;5;241m=\u001b[39m\u001b[38;5;241m1000\u001b[39m, singular_values\u001b[38;5;241m=\u001b[39m\\\n\u001b[0;32m      2\u001b[0m np\u001b[38;5;241m.\u001b[39msort(np\u001b[38;5;241m.\u001b[39mrandom\u001b[38;5;241m.\u001b[39mrand(\u001b[38;5;241m50\u001b[39m))[::\u001b[38;5;241m-\u001b[39m\u001b[38;5;241m1\u001b[39m])\n\u001b[0;32m      3\u001b[0m U_aprx, S_aprx, V_aprx \u001b[38;5;241m=\u001b[39m blockSVD(A, \u001b[38;5;241m10000\u001b[39m, \u001b[38;5;241m100\u001b[39m, gamma\u001b[38;5;241m=\u001b[39m\u001b[38;5;241m0.01\u001b[39m)\n\u001b[1;32m----> 4\u001b[0m \u001b[43mquality\u001b[49m\u001b[43m(\u001b[49m\u001b[43mA\u001b[49m\u001b[43m,\u001b[49m\u001b[43m \u001b[49m\u001b[43mU_aprx\u001b[49m\u001b[43m,\u001b[49m\u001b[43m \u001b[49m\u001b[43mS_aprx\u001b[49m\u001b[43m,\u001b[49m\u001b[43m \u001b[49m\u001b[43mV_aprx\u001b[49m\u001b[43m)\u001b[49m\n",
      "File \u001b[1;32m~\\Downloads\\NLA_Project1\\BlockSVD.py:176\u001b[0m, in \u001b[0;36mquality\u001b[1;34m(A, U_aprx, S_aprx, V_aprx)\u001b[0m\n\u001b[0;32m    175\u001b[0m \u001b[38;5;28;01mdef\u001b[39;00m \u001b[38;5;21mquality\u001b[39m(A, U_aprx, S_aprx, V_aprx):\n\u001b[1;32m--> 176\u001b[0m     \u001b[38;5;28mprint\u001b[39m(\u001b[38;5;124m'\u001b[39m\u001b[38;5;124mrelative error is: \u001b[39m\u001b[38;5;124m'\u001b[39m, np\u001b[38;5;241m.\u001b[39mlinalg\u001b[38;5;241m.\u001b[39mnorm(\u001b[43mU_aprx\u001b[49m\u001b[38;5;129;43m@np\u001b[39;49m\u001b[38;5;241;43m.\u001b[39;49m\u001b[43mdiag\u001b[49m\u001b[43m(\u001b[49m\u001b[43mS_aprx\u001b[49m\u001b[43m)\u001b[49m\u001b[38;5;129;43m@V_aprx\u001b[39;49m\u001b[38;5;241;43m.\u001b[39;49m\u001b[43mT\u001b[49m\u001b[43m \u001b[49m\u001b[38;5;241;43m-\u001b[39;49m\u001b[43m \u001b[49m\u001b[43mA\u001b[49m)\u001b[38;5;241m/\u001b[39mnp\u001b[38;5;241m.\u001b[39mlinalg\u001b[38;5;241m.\u001b[39mnorm(A))\n\u001b[0;32m    177\u001b[0m     \u001b[38;5;28mprint\u001b[39m(\u001b[38;5;124m\"\u001b[39m\u001b[38;5;124mnp.allclose is: \u001b[39m\u001b[38;5;124m\"\u001b[39m, np\u001b[38;5;241m.\u001b[39mallclose(U_aprx\u001b[38;5;129m@np\u001b[39m\u001b[38;5;241m.\u001b[39mdiag(S_aprx)\u001b[38;5;129m@V_aprx\u001b[39m\u001b[38;5;241m.\u001b[39mT, A))\n",
      "\u001b[1;31mMemoryError\u001b[0m: Unable to allocate 7.45 GiB for an array with shape (1000000, 1000) and data type float64"
     ]
    }
   ],
   "source": [
    "A = construct_matrix(m=1000000, n=1000, singular_values=\\\n",
    "np.sort(np.random.rand(50))[::-1])\n",
    "U_aprx, S_aprx, V_aprx = blockSVD(A, 10000, 100, gamma=0.01)\n",
    "quality(A, U_aprx, S_aprx, V_aprx) "
   ]
  },
  {
   "cell_type": "code",
   "execution_count": null,
   "id": "07d48a9a",
   "metadata": {},
   "outputs": [],
   "source": []
  }
 ],
 "metadata": {
  "kernelspec": {
   "display_name": "Python 3 (ipykernel)",
   "language": "python",
   "name": "python3"
  },
  "language_info": {
   "codemirror_mode": {
    "name": "ipython",
    "version": 3
   },
   "file_extension": ".py",
   "mimetype": "text/x-python",
   "name": "python",
   "nbconvert_exporter": "python",
   "pygments_lexer": "ipython3",
   "version": "3.10.9"
  }
 },
 "nbformat": 4,
 "nbformat_minor": 5
}
